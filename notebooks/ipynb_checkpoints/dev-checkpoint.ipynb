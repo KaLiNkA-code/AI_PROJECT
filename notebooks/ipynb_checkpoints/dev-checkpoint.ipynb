{
 "cells": [
  {
   "cell_type": "code",
   "execution_count": 205,
   "id": "99b80010",
   "metadata": {},
   "outputs": [],
   "source": [
    "import os\n",
    "\n",
    "# Fix to be able to import python modules inside a notebook\n",
    "os.chdir(\"..\")"
   ]
  },
  {
   "cell_type": "code",
   "execution_count": 206,
   "id": "b957a8af",
   "metadata": {
    "scrolled": false
   },
   "outputs": [
    {
     "name": "stdout",
     "output_type": "stream",
     "text": [
      " Том в устройстве C не имеет метки.\n",
      " Серийный номер тома: 3C33-2996\n",
      "\n",
      " Содержимое папки C:\\Users\\Lenovo\n",
      "\n",
      "26.08.2022  18:18    <DIR>          .\n",
      "26.08.2022  18:18    <DIR>          ..\n",
      "12.01.2022  23:08    <DIR>          .android\n",
      "13.06.2022  11:02             1 487 .bash_history\n",
      "13.04.2021  22:42    <DIR>          .cache\n",
      "19.04.2021  23:20    <DIR>          .chia\n",
      "09.09.2022  17:20    <DIR>          .conda\n",
      "20.12.2021  20:05                25 .condarc\n",
      "20.12.2021  20:05    <DIR>          .continuum\n",
      "04.04.2022  19:42                 0 .dbshell\n",
      "12.01.2022  21:57                16 .emulator_console_auth_token\n",
      "26.08.2022  18:12               225 .gitconfig\n",
      "27.05.2022  14:51    <DIR>          .gradle\n",
      "19.03.2020  08:04    <DIR>          .idlerc\n",
      "19.08.2022  18:14    <DIR>          .ipynb_checkpoints\n",
      "19.08.2022  18:15    <DIR>          .ipython\n",
      "19.08.2022  18:14    <DIR>          .jupyter\n",
      "15.01.2022  14:58    <DIR>          .keras\n",
      "06.08.2021  21:50    <DIR>          .matplotlib\n",
      "04.04.2022  19:21                 0 .mongorc.js\n",
      "01.11.2021  11:06                49 .node_repl_history\n",
      "22.10.2021  16:28    <DIR>          .templateengine\n",
      "21.07.2021  22:35    <DIR>          .thumbnails\n",
      "07.10.2021  08:49    <DIR>          3D Objects\n",
      "20.12.2021  20:04    <DIR>          anaconda3\n",
      "12.01.2022  20:23    <DIR>          AndroidStudioProjects\n",
      "11.04.2021  17:09    <DIR>          ansel\n",
      "16.05.2020  13:17    <DIR>          Apple\n",
      "07.10.2021  08:49    <DIR>          Contacts\n",
      "09.09.2022  14:51    <DIR>          Desktop\n",
      "18.06.2022  02:01    <DIR>          Documents\n",
      "09.09.2022  14:51    <DIR>          Downloads\n",
      "13.08.2021  12:10    <DIR>          env\n",
      "07.10.2021  08:49    <DIR>          Favorites\n",
      "26.05.2021  17:19    <DIR>          hangman\n",
      "20.10.2021  16:14            51 922 java_error_in_pycharm64_14072.log\n",
      "20.10.2021  16:13            42 985 java_error_in_pycharm64_18700.log\n",
      "20.10.2021  16:09            44 175 java_error_in_pycharm64_224.log\n",
      "21.12.2020  09:42            27 591 java_error_in_pycharm64_8540.log\n",
      "07.10.2021  08:49    <DIR>          Links\n",
      "07.10.2021  08:49    <DIR>          Music\n",
      "13.02.2021  21:20    <DIR>          OneDrive\n",
      "29.04.2020  08:26    <DIR>          opera autoupdate\n",
      "21.03.2020  21:15    <DIR>          parcur\n",
      "18.06.2022  02:00    <DIR>          Pictures\n",
      "27.03.2022  11:16    <DIR>          Project\n",
      "27.08.2022  10:03    <DIR>          PycharmProjects\n",
      "07.10.2021  08:49    <DIR>          Saved Games\n",
      "12.04.2022  17:36    <DIR>          SchoolBot\n",
      "07.10.2021  08:49    <DIR>          Searches\n",
      "25.10.2020  11:17    <DIR>          source\n",
      "21.03.2020  21:51    <DIR>          test 2\n",
      "18.03.2020  19:16    <DIR>          Tracing\n",
      "19.08.2022  18:17               588 Untitled.ipynb\n",
      "20.10.2021  22:40    <DIR>          Videos\n",
      "25.08.2022  01:39               214 _netrc\n",
      "              13 файлов        169 277 байт\n",
      "              43 папок   1 017 978 880 байт свободно\n"
     ]
    }
   ],
   "source": [
    "!cd C:\\Users\\Lenovo\\PycharmProjects\\AI_PROJECT\\\n",
    "\n",
    "!dir"
   ]
  },
  {
   "cell_type": "code",
   "execution_count": 207,
   "id": "710fb627",
   "metadata": {},
   "outputs": [],
   "source": [
    "import pandas as pd\n",
    "import matplotlib\n",
    "import func_ds"
   ]
  },
  {
   "cell_type": "code",
   "execution_count": 208,
   "id": "13e8987a",
   "metadata": {},
   "outputs": [],
   "source": [
    "TRAIN_CSV_PATH = \"C:/Users/Lenovo/PycharmProjects/AI_PROJECT/data/train.csv\"\n",
    "train_df = pd.read_csv(TRAIN_CSV_PATH)\n",
    "# train_df['crew'].unique()\n",
    "train_df.columns\n",
    "features = train_df[[\"budget\", \"popularity\", 'revenue']]\n",
    "features.columns\n",
    "features = features[(features[\"budget\"] > 0) & (features[\"popularity\"] > 0)]\n",
    "\n",
    "features.dropna(subset=[\"budget\", \"popularity\"], inplace=True)\n",
    "# features.dropna(subset=[], inplace=True)\n",
    "\n"
   ]
  },
  {
   "cell_type": "code",
   "execution_count": 209,
   "id": "7abab1a7",
   "metadata": {},
   "outputs": [
    {
     "data": {
      "text/html": [
       "<div>\n",
       "<style scoped>\n",
       "    .dataframe tbody tr th:only-of-type {\n",
       "        vertical-align: middle;\n",
       "    }\n",
       "\n",
       "    .dataframe tbody tr th {\n",
       "        vertical-align: top;\n",
       "    }\n",
       "\n",
       "    .dataframe thead th {\n",
       "        text-align: right;\n",
       "    }\n",
       "</style>\n",
       "<table border=\"1\" class=\"dataframe\">\n",
       "  <thead>\n",
       "    <tr style=\"text-align: right;\">\n",
       "      <th></th>\n",
       "      <th>budget</th>\n",
       "      <th>popularity</th>\n",
       "      <th>revenue</th>\n",
       "    </tr>\n",
       "  </thead>\n",
       "  <tbody>\n",
       "    <tr>\n",
       "      <th>327</th>\n",
       "      <td>0.226159</td>\n",
       "      <td>-0.119100</td>\n",
       "      <td>-0.167213</td>\n",
       "    </tr>\n",
       "    <tr>\n",
       "      <th>672</th>\n",
       "      <td>-0.618187</td>\n",
       "      <td>-0.159265</td>\n",
       "      <td>-0.536885</td>\n",
       "    </tr>\n",
       "    <tr>\n",
       "      <th>1469</th>\n",
       "      <td>-0.618187</td>\n",
       "      <td>0.261238</td>\n",
       "      <td>-0.550825</td>\n",
       "    </tr>\n",
       "    <tr>\n",
       "      <th>712</th>\n",
       "      <td>0.226159</td>\n",
       "      <td>0.303650</td>\n",
       "      <td>0.215382</td>\n",
       "    </tr>\n",
       "    <tr>\n",
       "      <th>316</th>\n",
       "      <td>0.722833</td>\n",
       "      <td>0.041509</td>\n",
       "      <td>0.201763</td>\n",
       "    </tr>\n",
       "    <tr>\n",
       "      <th>1256</th>\n",
       "      <td>0.126824</td>\n",
       "      <td>0.582659</td>\n",
       "      <td>-0.274068</td>\n",
       "    </tr>\n",
       "    <tr>\n",
       "      <th>1108</th>\n",
       "      <td>1.592013</td>\n",
       "      <td>0.406964</td>\n",
       "      <td>0.175010</td>\n",
       "    </tr>\n",
       "    <tr>\n",
       "      <th>2632</th>\n",
       "      <td>1.219507</td>\n",
       "      <td>-0.084810</td>\n",
       "      <td>-0.344084</td>\n",
       "    </tr>\n",
       "    <tr>\n",
       "      <th>2190</th>\n",
       "      <td>-0.725270</td>\n",
       "      <td>-0.336202</td>\n",
       "      <td>-0.544700</td>\n",
       "    </tr>\n",
       "    <tr>\n",
       "      <th>110</th>\n",
       "      <td>1.095339</td>\n",
       "      <td>0.249839</td>\n",
       "      <td>-0.124342</td>\n",
       "    </tr>\n",
       "  </tbody>\n",
       "</table>\n",
       "</div>"
      ],
      "text/plain": [
       "        budget  popularity   revenue\n",
       "327   0.226159   -0.119100 -0.167213\n",
       "672  -0.618187   -0.159265 -0.536885\n",
       "1469 -0.618187    0.261238 -0.550825\n",
       "712   0.226159    0.303650  0.215382\n",
       "316   0.722833    0.041509  0.201763\n",
       "1256  0.126824    0.582659 -0.274068\n",
       "1108  1.592013    0.406964  0.175010\n",
       "2632  1.219507   -0.084810 -0.344084\n",
       "2190 -0.725270   -0.336202 -0.544700\n",
       "110   1.095339    0.249839 -0.124342"
      ]
     },
     "execution_count": 209,
     "metadata": {},
     "output_type": "execute_result"
    }
   ],
   "source": [
    "features.sample(10)\n",
    "# standard scaling\n",
    "features['budget'] = ((features.budget - features.budget.mean()) /  features.budget.std())\n",
    "features['popularity'] = ((features.popularity - features.popularity.mean()) /  features.popularity.std())\n",
    "features['revenue'] = ((features.revenue - features.revenue.mean()) /  features.revenue.std())\n",
    "features.sample(10)"
   ]
  },
  {
   "cell_type": "code",
   "execution_count": null,
   "id": "fed95683",
   "metadata": {},
   "outputs": [],
   "source": []
  },
  {
   "cell_type": "code",
   "execution_count": 210,
   "id": "13bbe8e6",
   "metadata": {},
   "outputs": [],
   "source": [
    "features.describe()\n",
    "\n",
    "w1 = 0.00000001\n",
    "w2 = 100\n",
    "w3 = 1\n",
    "# \n",
    "train_x = features.to_numpy()\n",
    " \n",
    "target = train_df[\"revenue\"]\n",
    "target\n",
    "import numpy as np\n",
    "import matplotlib.pyplot as plt\n",
    "\n",
    "# Plotting\n",
    "x_vals = np.arange(-20, 20, 0.01)\n",
    "y_vals = np.square(x_vals)\n",
    "\n",
    "\n"
   ]
  },
  {
   "cell_type": "code",
   "execution_count": 211,
   "id": "487324b8",
   "metadata": {},
   "outputs": [],
   "source": [
    "len1 = int(len(features) / 100 * 60)\n",
    "len2 = int(len(features) / 100 * 80)\n",
    "train_features = train_x[:len1]\n",
    "val_features = train_x[len1:len2]\n",
    "test_features = train_x[len2:]"
   ]
  },
  {
   "cell_type": "code",
   "execution_count": 212,
   "id": "787cba1f",
   "metadata": {},
   "outputs": [
    {
     "data": {
      "text/plain": [
       "count    2.188000e+03\n",
       "mean    -2.071793e-15\n",
       "std      1.000000e+00\n",
       "min     -7.051814e-01\n",
       "25%     -3.128333e-01\n",
       "50%     -1.001528e-01\n",
       "75%      1.422677e-01\n",
       "max      2.069550e+01\n",
       "Name: popularity, dtype: float64"
      ]
     },
     "execution_count": 212,
     "metadata": {},
     "output_type": "execute_result"
    },
    {
     "data": {
      "image/png": "[encoded data removed]",
      "text/plain": [
       "<Figure size 432x288 with 1 Axes>"
      ]
     },
     "metadata": {
      "needs_background": "light"
     },
     "output_type": "display_data"
    }
   ],
   "source": [
    "features.budget.hist(bins=20)\n",
    "features.popularity.hist(bins=20, )\n",
    "features[features.popularity > 50]\n",
    "features.popularity.min(), features.popularity.max()\n",
    "((features.popularity - features.popularity.min()) / (features.popularity.max() - features.popularity.min())).describe()\n",
    "features.popularity.describe()\n",
    "\n"
   ]
  },
  {
   "cell_type": "code",
   "execution_count": 213,
   "id": "5781fdc4",
   "metadata": {},
   "outputs": [
    {
     "data": {
      "text/html": [
       "<div>\n",
       "<style scoped>\n",
       "    .dataframe tbody tr th:only-of-type {\n",
       "        vertical-align: middle;\n",
       "    }\n",
       "\n",
       "    .dataframe tbody tr th {\n",
       "        vertical-align: top;\n",
       "    }\n",
       "\n",
       "    .dataframe thead th {\n",
       "        text-align: right;\n",
       "    }\n",
       "</style>\n",
       "<table border=\"1\" class=\"dataframe\">\n",
       "  <thead>\n",
       "    <tr style=\"text-align: right;\">\n",
       "      <th></th>\n",
       "      <th>budget</th>\n",
       "      <th>popularity</th>\n",
       "      <th>revenue</th>\n",
       "    </tr>\n",
       "  </thead>\n",
       "  <tbody>\n",
       "    <tr>\n",
       "      <th>0</th>\n",
       "      <td>-0.419517</td>\n",
       "      <td>-0.227231</td>\n",
       "      <td>-0.480100</td>\n",
       "    </tr>\n",
       "    <tr>\n",
       "      <th>1</th>\n",
       "      <td>0.226159</td>\n",
       "      <td>-0.105553</td>\n",
       "      <td>0.052629</td>\n",
       "    </tr>\n",
       "    <tr>\n",
       "      <th>2</th>\n",
       "      <td>-0.685238</td>\n",
       "      <td>3.969841</td>\n",
       "      <td>-0.475101</td>\n",
       "    </tr>\n",
       "    <tr>\n",
       "      <th>3</th>\n",
       "      <td>-0.737389</td>\n",
       "      <td>-0.474473</td>\n",
       "      <td>-0.456399</td>\n",
       "    </tr>\n",
       "    <tr>\n",
       "      <th>5</th>\n",
       "      <td>-0.568519</td>\n",
       "      <td>-0.651276</td>\n",
       "      <td>-0.538322</td>\n",
       "    </tr>\n",
       "    <tr>\n",
       "      <th>...</th>\n",
       "      <td>...</td>\n",
       "      <td>...</td>\n",
       "      <td>...</td>\n",
       "    </tr>\n",
       "    <tr>\n",
       "      <th>2992</th>\n",
       "      <td>-0.738987</td>\n",
       "      <td>-0.423317</td>\n",
       "      <td>-0.551492</td>\n",
       "    </tr>\n",
       "    <tr>\n",
       "      <th>2993</th>\n",
       "      <td>0.722833</td>\n",
       "      <td>0.319318</td>\n",
       "      <td>0.851824</td>\n",
       "    </tr>\n",
       "    <tr>\n",
       "      <th>2997</th>\n",
       "      <td>0.847002</td>\n",
       "      <td>0.347672</td>\n",
       "      <td>0.016018</td>\n",
       "    </tr>\n",
       "    <tr>\n",
       "      <th>2998</th>\n",
       "      <td>0.275827</td>\n",
       "      <td>0.438063</td>\n",
       "      <td>0.546638</td>\n",
       "    </tr>\n",
       "    <tr>\n",
       "      <th>2999</th>\n",
       "      <td>0.101991</td>\n",
       "      <td>0.059002</td>\n",
       "      <td>-0.031377</td>\n",
       "    </tr>\n",
       "  </tbody>\n",
       "</table>\n",
       "<p>2188 rows × 3 columns</p>\n",
       "</div>"
      ],
      "text/plain": [
       "        budget  popularity   revenue\n",
       "0    -0.419517   -0.227231 -0.480100\n",
       "1     0.226159   -0.105553  0.052629\n",
       "2    -0.685238    3.969841 -0.475101\n",
       "3    -0.737389   -0.474473 -0.456399\n",
       "5    -0.568519   -0.651276 -0.538322\n",
       "...        ...         ...       ...\n",
       "2992 -0.738987   -0.423317 -0.551492\n",
       "2993  0.722833    0.319318  0.851824\n",
       "2997  0.847002    0.347672  0.016018\n",
       "2998  0.275827    0.438063  0.546638\n",
       "2999  0.101991    0.059002 -0.031377\n",
       "\n",
       "[2188 rows x 3 columns]"
      ]
     },
     "execution_count": 213,
     "metadata": {},
     "output_type": "execute_result"
    }
   ],
   "source": [
    "# Min / max scaling\n",
    "((features.budget - features.budget.min()) / (features.budget.max() - features.budget.min())).describe()\n",
    "# standard scaling\n",
    "((features.budget - features.budget.mean()) /  features.budget.std()).describe()\n",
    "train_df[train_df.popularity > 60][['original_title', 'popularity']]\n",
    "features"
   ]
  },
  {
   "cell_type": "code",
   "execution_count": 214,
   "id": "c86d4d83",
   "metadata": {},
   "outputs": [
    {
     "data": {
      "image/png": "[encoded data removed]",
      "text/plain": [
       "<Figure size 432x288 with 1 Axes>"
      ]
     },
     "metadata": {
      "needs_background": "light"
     },
     "output_type": "display_data"
    },
    {
     "data": {
      "text/plain": [
       "(array([[-0.41951715, -0.22723076,  1.        ],\n",
       "        [ 0.22615922, -0.10555286,  1.        ],\n",
       "        [-0.68523781,  3.96984103,  1.        ],\n",
       "        ...,\n",
       "        [ 0.84700188,  0.34767226,  1.        ],\n",
       "        [ 0.27582663,  0.43806331,  1.        ],\n",
       "        [ 0.10199069,  0.05900215,  1.        ]]),\n",
       " array([-0.48010035,  0.05262927, -0.47510104, ...,  0.01601837,\n",
       "         0.54663752, -0.03137727]))"
      ]
     },
     "execution_count": 214,
     "metadata": {},
     "output_type": "execute_result"
    }
   ],
   "source": [
    "plt.plot(x_vals, y_vals, \"blue\")\n",
    "plt.plot(x_vals, y_vals, \"blue\")\n",
    "plt.grid(True, which=\"major\")\n",
    "plt.show()\n",
    "x_train = features[['budget', 'popularity']]\n",
    "y_train = features['revenue'].to_numpy()\n",
    "X = np.concatenate([x_train.to_numpy(), np.ones([len(x_train), 1])], axis=1)\n",
    "# features.to_numpy().shape, np.ones([len(features), 1]).shape\n",
    "X @ w\n",
    "X, y_train\n"
   ]
  },
  {
   "cell_type": "code",
   "execution_count": 215,
   "id": "3812117a",
   "metadata": {},
   "outputs": [
    {
     "data": {
      "text/plain": [
       "(array([], shape=(0, 3), dtype=float64), array([], dtype=float64))"
      ]
     },
     "execution_count": 215,
     "metadata": {},
     "output_type": "execute_result"
    }
   ],
   "source": [
    "\n",
    "x_train1 = features[['budget', 'popularity']][:2100]\n",
    "y_train1 = features['revenue'].to_numpy()[:2100]\n",
    "X1 = np.concatenate([x_train1.to_numpy(), np.ones([len(x_train1), 1])], axis=1)\n",
    "X1 @ w\n",
    "X1, y_train1\n",
    "\n",
    "\n",
    "x_train2 = features[['budget', 'popularity']][2100:2600]\n",
    "y_train2 = features['revenue'].to_numpy()[2100:2600]\n",
    "X2 = np.concatenate([x_train2.to_numpy(), np.ones([len(x_train2), 1])], axis=1)\n",
    "X2 @ w\n",
    "X2, y_train2\n",
    "\n",
    "\n",
    "x_train3 = features[['budget', 'popularity']][2601:]\n",
    "y_train3 = features['revenue'].to_numpy()[2601:]\n",
    "X3 = np.concatenate([x_train3.to_numpy(), np.ones([len(x_train3), 1])], axis=1)\n",
    "X3 @ w\n",
    "X3, y_train3\n",
    "\n",
    "\n",
    "# w = random_normal()             # можно пробовать и другие виды инициализации\n",
    "# repeat S times:                 # другой вариант: while abs(err) > tolerance\n",
    "#    f = X.dot(w)                 # посчитать предсказание\n",
    "#    err = f - y                  # посчитать ошибку\n",
    "#    grad = 2 * X.T.dot(err) / N  # посчитать градиент\n",
    "#    w -= alpha * grad            # обновить веса\n",
    "\n"
   ]
  },
  {
   "cell_type": "code",
   "execution_count": 216,
   "id": "96414c76",
   "metadata": {
    "scrolled": true
   },
   "outputs": [],
   "source": [
    "import func_ds\n",
    "LR = 0.01\n",
    "w = np.random.randn(3)\n",
    "N = len(y_train)\n",
    "\n",
    "func_ds.x_plot = []\n",
    "func_ds.y_plot = []\n",
    "#  traing dataset\n",
    "for i in range(1000):\n",
    "    func_ds.train_one_step(X1, w, y_train1, N, LR, i)\n",
    "        \n",
    "# print(func_ds.x_plot)\n",
    "# print(func_ds.y_plot)"
   ]
  },
  {
   "cell_type": "code",
   "execution_count": 217,
   "id": "5a8f391e",
   "metadata": {},
   "outputs": [
    {
     "data": {
      "image/png": "[encoded data removed]",
      "text/plain": [
       "<Figure size 432x288 with 1 Axes>"
      ]
     },
     "metadata": {
      "needs_background": "light"
     },
     "output_type": "display_data"
    }
   ],
   "source": [
    "\n",
    "\n",
    "fig, ax = plt.subplots()\n",
    "\n",
    "ax.plot(func_ds.x_plot, func_ds.y_plot)\n",
    "ax.set(title='График ошибки функции на training датасете')\n",
    "plt.xlabel(\"цикл обучения\")\n",
    "plt.grid(True, which=\"major\")\n",
    "plt.ylabel(\"квадрат ошибки\")\n",
    "plt.show()"
   ]
  },
  {
   "cell_type": "code",
   "execution_count": 218,
   "id": "2e72faaa",
   "metadata": {},
   "outputs": [],
   "source": [
    "func_ds.x_plot = []\n",
    "func_ds.y_plot = []\n",
    "#  traing dataset\n",
    "for i in range(1000):\n",
    "    func_ds.train_one_step(X2, w, y_train2, N, LR, i)"
   ]
  },
  {
   "cell_type": "code",
   "execution_count": 219,
   "id": "ae6e4f2b",
   "metadata": {},
   "outputs": [
    {
     "data": {
      "image/png": "[encoded data removed]",
      "text/plain": [
       "<Figure size 432x288 with 1 Axes>"
      ]
     },
     "metadata": {
      "needs_background": "light"
     },
     "output_type": "display_data"
    }
   ],
   "source": [
    "fig, ax = plt.subplots()\n",
    "\n",
    "ax.plot(func_ds.x_plot, func_ds.y_plot, \"red\")\n",
    "ax.set(title='График ошибки функции на value датасете')\n",
    "plt.grid(True, which=\"major\")\n",
    "plt.xlabel(\"цикл обучения\")\n",
    "plt.ylabel(\"квадрат ошибки\")\n",
    "plt.show()"
   ]
  },
  {
   "cell_type": "code",
   "execution_count": 220,
   "id": "4004b7ae",
   "metadata": {},
   "outputs": [
    {
     "name": "stderr",
     "output_type": "stream",
     "text": [
      "C:\\Users\\Lenovo\\PycharmProjects\\AI_PROJECT\\notebooks\\ipynb_checkpoints\\func_ds.py:31: RuntimeWarning: Mean of empty slice.\n",
      "  y_plot.append(err.mean())\n",
      "C:\\Users\\Lenovo\\anaconda3\\lib\\site-packages\\numpy\\core\\_methods.py:188: RuntimeWarning: invalid value encountered in double_scalars\n",
      "  ret = ret.dtype.type(ret / rcount)\n"
     ]
    }
   ],
   "source": [
    "func_ds.x_plot = []\n",
    "func_ds.y_plot = []\n",
    "#  traing dataset\n",
    "for i in range(1000):\n",
    "    func_ds.train_one_step(X3, w, y_train3, N, LR, i)"
   ]
  },
  {
   "cell_type": "code",
   "execution_count": 221,
   "id": "a30f140f",
   "metadata": {},
   "outputs": [
    {
     "name": "stdout",
     "output_type": "stream",
     "text": [
      "[nan, nan, nan, nan, nan, nan, nan, nan, nan, nan, nan, nan, nan, nan, nan, nan, nan, nan, nan, nan, nan, nan, nan, nan, nan, nan, nan, nan, nan, nan, nan, nan, nan, nan, nan, nan, nan, nan, nan, nan, nan, nan, nan, nan, nan, nan, nan, nan, nan, nan, nan, nan, nan, nan, nan, nan, nan, nan, nan, nan, nan, nan, nan, nan, nan, nan, nan, nan, nan, nan, nan, nan, nan, nan, nan, nan, nan, nan, nan, nan, nan, nan, nan, nan, nan, nan, nan, nan, nan, nan, nan, nan, nan, nan, nan, nan, nan, nan, nan, nan]\n"
     ]
    },
    {
     "data": {
      "image/png": "[encoded data removed]",
      "text/plain": [
       "<Figure size 432x288 with 1 Axes>"
      ]
     },
     "metadata": {
      "needs_background": "light"
     },
     "output_type": "display_data"
    }
   ],
   "source": [
    "fig, ax = plt.subplots()\n",
    "\n",
    "print(func_ds.y_plot)\n",
    "\n",
    "ax.plot(func_ds.x_plot, func_ds.y_plot)\n",
    "ax.set(title='График ошибки функции на test датасете')\n",
    "plt.grid(True, which=\"major\")\n",
    "plt.xlabel(\"цикл обучения\")\n",
    "plt.ylabel(\"квадрат ошибки\")\n",
    "plt.show()"
   ]
  },
  {
   "cell_type": "code",
   "execution_count": null,
   "id": "b7d7b357",
   "metadata": {},
   "outputs": [],
   "source": []
  },
  {
   "cell_type": "code",
   "execution_count": null,
   "id": "7a286ff7",
   "metadata": {},
   "outputs": [],
   "source": []
  },
  {
   "cell_type": "code",
   "execution_count": null,
   "id": "d64f3803",
   "metadata": {},
   "outputs": [],
   "source": []
  },
  {
   "cell_type": "code",
   "execution_count": null,
   "id": "7579a3ea",
   "metadata": {},
   "outputs": [],
   "source": []
  }
 ],
 "metadata": {
  "kernelspec": {
   "display_name": "Python 3 (ipykernel)",
   "language": "python",
   "name": "python3"
  },
  "language_info": {
   "codemirror_mode": {
    "name": "ipython",
    "version": 3
   },
   "file_extension": ".py",
   "mimetype": "text/x-python",
   "name": "python",
   "nbconvert_exporter": "python",
   "pygments_lexer": "ipython3",
   "version": "3.9.7"
  }
 },
 "nbformat": 4,
 "nbformat_minor": 5
}
