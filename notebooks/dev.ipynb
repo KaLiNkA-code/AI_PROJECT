{
 "cells": [
  {
   "cell_type": "code",
   "execution_count": 14,
   "id": "99b80010",
   "metadata": {},
   "outputs": [],
   "source": [
    "import os\n",
    "\n",
    "# Fix to be able to import python modules inside a notebook\n",
    "os.chdir(\"..\")"
   ]
  },
  {
   "cell_type": "code",
   "execution_count": 15,
   "id": "b957a8af",
   "metadata": {},
   "outputs": [
    {
     "name": "stderr",
     "output_type": "stream",
     "text": [
      "\"ls\" не является внутренней или внешней\n",
      "командой, исполняемой программой или пакетным файлом.\n"
     ]
    }
   ],
   "source": [
    "!ls"
   ]
  },
  {
   "cell_type": "code",
   "execution_count": 16,
   "id": "615f066b",
   "metadata": {},
   "outputs": [
    {
     "name": "stdout",
     "output_type": "stream",
     "text": [
      "number of training examples: 6\n",
      " \n",
      " \n",
      " \n"
     ]
    }
   ],
   "source": [
    "import numpy as np\n",
    "from matplotlib import pyplot as plt\n",
    "\n",
    "x_train = np.array([1.0, 3.0, 1.5, 1.8, 2.5, 2.8])\n",
    "y_train = np.array([300, 500, 350, 380, 420, 475])\n",
    "\n",
    "m = len(x_train)  # m is the number of training examples\n",
    "print(f\"number of training examples: {m}\")\n",
    "\n",
    "print(\" \")\n",
    "print(\" \")\n",
    "print(\" \")"
   ]
  },
  {
   "cell_type": "code",
   "execution_count": 17,
   "id": "059d984e",
   "metadata": {},
   "outputs": [
    {
     "name": "stdout",
     "output_type": "stream",
     "text": [
      "(x^(0), y^(0)) = (1.0, 300)\n",
      " \n",
      " \n",
      " \n",
      "w: 0\n",
      "b: 0\n"
     ]
    },
    {
     "data": {
      "image/png": "[encoded data removed]",
      "text/plain": [
       "<Figure size 432x288 with 1 Axes>"
      ]
     },
     "metadata": {
      "needs_background": "light"
     },
     "output_type": "display_data"
    }
   ],
   "source": [
    "i = 0\n",
    "x_i = x_train[i]\n",
    "y_i = y_train[i]\n",
    "print(f\"(x^({i}), y^({i})) = ({x_i}, {y_i})\")\n",
    "\n",
    "\n",
    "print(\" \")\n",
    "print(\" \")\n",
    "print(\" \")\n",
    "\n",
    "plt.scatter(x_train, y_train, marker=\"x\", c=\"r\")\n",
    "plt.title(\"Housing Prices\")  # Set the title\n",
    "plt.ylabel(\"Price (in 1000s of dollars)\")\n",
    "plt.xlabel(\"Size (1000 sqrt)\")\n",
    "# plt.show()\n",
    "\n",
    "w = 0\n",
    "b = 0\n",
    "print(f\"w: {w}\")\n",
    "print(f\"b: {b}\")\n",
    "\n",
    "\n",
    "def calculate_model_output(w, b, x):\n",
    "    m = x.shape  # the number of training examples\n",
    "    f_wb = np.zeros(m)\n",
    "    for i in range(len(x)):\n",
    "        f_wb[i] = w * x[i] + b\n",
    "    return f_wb\n",
    "\n",
    "\n",
    "#  Now Let's call the calculate_model_output func and plot the output\n",
    "tmp_f_wb = calculate_model_output(w, b, x_train)\n",
    "\n",
    "plt.plot(x_train, tmp_f_wb, c=\"b\", label=\"Our Prediction\")\n",
    "plt.scatter(x_train, y_train, marker=\"x\", c=\"r\", label=\"Actual price\")\n",
    "plt.xlabel(\"Sixe\")\n",
    "plt.ylabel(\"Price\")\n",
    "plt.legend()\n",
    "plt.show()"
   ]
  },
  {
   "cell_type": "code",
   "execution_count": 18,
   "id": "710fb627",
   "metadata": {},
   "outputs": [],
   "source": [
    "import pandas as pd"
   ]
  },
  {
   "cell_type": "code",
   "execution_count": 29,
   "id": "1599ee96",
   "metadata": {},
   "outputs": [],
   "source": [
    "# TRAIN_CSV_PATH = \"C:/Users/Lenovo/PycharmProjects/AI_PROJECT/notebooks/train.csv\"\n",
    "\n",
    "TRAIN_CSV_PATH = \"C:/Users/Lenovo/PycharmProjects/AI_PROJECT/data/train.csv\"\n",
    "train_df = pd.read_csv(TRAIN_CSV_PATH)"
   ]
  },
  {
   "cell_type": "code",
   "execution_count": 30,
   "id": "7528024c",
   "metadata": {},
   "outputs": [],
   "source": [
    "# train_df['crew'].unique()"
   ]
  },
  {
   "cell_type": "code",
   "execution_count": 31,
   "id": "010ac6d9",
   "metadata": {},
   "outputs": [
    {
     "data": {
      "text/plain": [
       "Index(['id', 'belongs_to_collection', 'budget', 'genres', 'homepage',\n",
       "       'imdb_id', 'original_language', 'original_title', 'overview',\n",
       "       'popularity', 'poster_path', 'production_companies',\n",
       "       'production_countries', 'release_date', 'runtime', 'spoken_languages',\n",
       "       'status', 'tagline', 'title', 'Keywords', 'cast', 'crew', 'revenue'],\n",
       "      dtype='object')"
      ]
     },
     "execution_count": 31,
     "metadata": {},
     "output_type": "execute_result"
    }
   ],
   "source": [
    "train_df.columns"
   ]
  },
  {
   "cell_type": "code",
   "execution_count": 32,
   "id": "74a23af9",
   "metadata": {},
   "outputs": [
    {
     "data": {
      "text/plain": [
       "Index(['budget', 'popularity', 'revenue'], dtype='object')"
      ]
     },
     "execution_count": 32,
     "metadata": {},
     "output_type": "execute_result"
    }
   ],
   "source": [
    "features = train_df[[\"budget\", \"popularity\", 'revenue']]\n",
    "features.columns"
   ]
  },
  {
   "cell_type": "code",
   "execution_count": 33,
   "id": "224ce87c",
   "metadata": {},
   "outputs": [
    {
     "data": {
      "text/html": [
       "<div>\n",
       "<style scoped>\n",
       "    .dataframe tbody tr th:only-of-type {\n",
       "        vertical-align: middle;\n",
       "    }\n",
       "\n",
       "    .dataframe tbody tr th {\n",
       "        vertical-align: top;\n",
       "    }\n",
       "\n",
       "    .dataframe thead th {\n",
       "        text-align: right;\n",
       "    }\n",
       "</style>\n",
       "<table border=\"1\" class=\"dataframe\">\n",
       "  <thead>\n",
       "    <tr style=\"text-align: right;\">\n",
       "      <th></th>\n",
       "      <th>budget</th>\n",
       "      <th>popularity</th>\n",
       "      <th>revenue</th>\n",
       "    </tr>\n",
       "  </thead>\n",
       "  <tbody>\n",
       "    <tr>\n",
       "      <th>698</th>\n",
       "      <td>6000000</td>\n",
       "      <td>11.732546</td>\n",
       "      <td>9077700</td>\n",
       "    </tr>\n",
       "    <tr>\n",
       "      <th>930</th>\n",
       "      <td>28000000</td>\n",
       "      <td>10.445141</td>\n",
       "      <td>58795814</td>\n",
       "    </tr>\n",
       "    <tr>\n",
       "      <th>430</th>\n",
       "      <td>10000000</td>\n",
       "      <td>6.737797</td>\n",
       "      <td>3400278</td>\n",
       "    </tr>\n",
       "    <tr>\n",
       "      <th>1312</th>\n",
       "      <td>30000000</td>\n",
       "      <td>17.955897</td>\n",
       "      <td>90259536</td>\n",
       "    </tr>\n",
       "    <tr>\n",
       "      <th>2039</th>\n",
       "      <td>25000000</td>\n",
       "      <td>4.439325</td>\n",
       "      <td>10113733</td>\n",
       "    </tr>\n",
       "    <tr>\n",
       "      <th>883</th>\n",
       "      <td>25000000</td>\n",
       "      <td>14.316750</td>\n",
       "      <td>77278331</td>\n",
       "    </tr>\n",
       "    <tr>\n",
       "      <th>1763</th>\n",
       "      <td>250000</td>\n",
       "      <td>8.168456</td>\n",
       "      <td>2500000</td>\n",
       "    </tr>\n",
       "    <tr>\n",
       "      <th>265</th>\n",
       "      <td>15000000</td>\n",
       "      <td>10.271871</td>\n",
       "      <td>13060843</td>\n",
       "    </tr>\n",
       "    <tr>\n",
       "      <th>2790</th>\n",
       "      <td>40000000</td>\n",
       "      <td>7.196688</td>\n",
       "      <td>145896422</td>\n",
       "    </tr>\n",
       "    <tr>\n",
       "      <th>2473</th>\n",
       "      <td>500000</td>\n",
       "      <td>8.398158</td>\n",
       "      <td>150277</td>\n",
       "    </tr>\n",
       "  </tbody>\n",
       "</table>\n",
       "</div>"
      ],
      "text/plain": [
       "        budget  popularity    revenue\n",
       "698    6000000   11.732546    9077700\n",
       "930   28000000   10.445141   58795814\n",
       "430   10000000    6.737797    3400278\n",
       "1312  30000000   17.955897   90259536\n",
       "2039  25000000    4.439325   10113733\n",
       "883   25000000   14.316750   77278331\n",
       "1763    250000    8.168456    2500000\n",
       "265   15000000   10.271871   13060843\n",
       "2790  40000000    7.196688  145896422\n",
       "2473    500000    8.398158     150277"
      ]
     },
     "execution_count": 33,
     "metadata": {},
     "output_type": "execute_result"
    }
   ],
   "source": [
    "features = features[(features[\"budget\"] > 0) & (features[\"popularity\"] > 0)]\n",
    "\n",
    "features.dropna(subset=[\"budget\", \"popularity\"], inplace=True)\n",
    "# features.dropna(subset=[], inplace=True)\n",
    "\n",
    "features.sample(10)"
   ]
  },
  {
   "cell_type": "code",
   "execution_count": 34,
   "id": "de625513",
   "metadata": {},
   "outputs": [],
   "source": [
    "# standard scaling\n",
    "features['budget'] = ((features.budget - features.budget.mean()) /  features.budget.std())\n",
    "features['popularity'] = ((features.popularity - features.popularity.mean()) /  features.popularity.std())\n",
    "features['revenue'] = ((features.revenue - features.revenue.mean()) /  features.revenue.std())\n"
   ]
  },
  {
   "cell_type": "code",
   "execution_count": 35,
   "id": "5817e3dc",
   "metadata": {},
   "outputs": [
    {
     "data": {
      "text/html": [
       "<div>\n",
       "<style scoped>\n",
       "    .dataframe tbody tr th:only-of-type {\n",
       "        vertical-align: middle;\n",
       "    }\n",
       "\n",
       "    .dataframe tbody tr th {\n",
       "        vertical-align: top;\n",
       "    }\n",
       "\n",
       "    .dataframe thead th {\n",
       "        text-align: right;\n",
       "    }\n",
       "</style>\n",
       "<table border=\"1\" class=\"dataframe\">\n",
       "  <thead>\n",
       "    <tr style=\"text-align: right;\">\n",
       "      <th></th>\n",
       "      <th>budget</th>\n",
       "      <th>popularity</th>\n",
       "      <th>revenue</th>\n",
       "    </tr>\n",
       "  </thead>\n",
       "  <tbody>\n",
       "    <tr>\n",
       "      <th>2609</th>\n",
       "      <td>-0.755393</td>\n",
       "      <td>-0.050713</td>\n",
       "      <td>-0.534093</td>\n",
       "    </tr>\n",
       "    <tr>\n",
       "      <th>2114</th>\n",
       "      <td>-0.394683</td>\n",
       "      <td>-0.212549</td>\n",
       "      <td>-0.315359</td>\n",
       "    </tr>\n",
       "    <tr>\n",
       "      <th>2319</th>\n",
       "      <td>-0.729938</td>\n",
       "      <td>-0.190439</td>\n",
       "      <td>-0.536363</td>\n",
       "    </tr>\n",
       "    <tr>\n",
       "      <th>2746</th>\n",
       "      <td>0.226159</td>\n",
       "      <td>0.219923</td>\n",
       "      <td>-0.240131</td>\n",
       "    </tr>\n",
       "    <tr>\n",
       "      <th>2274</th>\n",
       "      <td>0.722833</td>\n",
       "      <td>0.388073</td>\n",
       "      <td>0.763956</td>\n",
       "    </tr>\n",
       "    <tr>\n",
       "      <th>1348</th>\n",
       "      <td>-0.618187</td>\n",
       "      <td>-0.323347</td>\n",
       "      <td>-0.464645</td>\n",
       "    </tr>\n",
       "    <tr>\n",
       "      <th>2780</th>\n",
       "      <td>0.101991</td>\n",
       "      <td>-0.324937</td>\n",
       "      <td>-0.145448</td>\n",
       "    </tr>\n",
       "    <tr>\n",
       "      <th>2289</th>\n",
       "      <td>-0.196014</td>\n",
       "      <td>-0.442688</td>\n",
       "      <td>-0.558840</td>\n",
       "    </tr>\n",
       "    <tr>\n",
       "      <th>2612</th>\n",
       "      <td>-0.022178</td>\n",
       "      <td>0.344855</td>\n",
       "      <td>0.281819</td>\n",
       "    </tr>\n",
       "    <tr>\n",
       "      <th>1248</th>\n",
       "      <td>1.020838</td>\n",
       "      <td>0.021552</td>\n",
       "      <td>0.063823</td>\n",
       "    </tr>\n",
       "  </tbody>\n",
       "</table>\n",
       "</div>"
      ],
      "text/plain": [
       "        budget  popularity   revenue\n",
       "2609 -0.755393   -0.050713 -0.534093\n",
       "2114 -0.394683   -0.212549 -0.315359\n",
       "2319 -0.729938   -0.190439 -0.536363\n",
       "2746  0.226159    0.219923 -0.240131\n",
       "2274  0.722833    0.388073  0.763956\n",
       "1348 -0.618187   -0.323347 -0.464645\n",
       "2780  0.101991   -0.324937 -0.145448\n",
       "2289 -0.196014   -0.442688 -0.558840\n",
       "2612 -0.022178    0.344855  0.281819\n",
       "1248  1.020838    0.021552  0.063823"
      ]
     },
     "execution_count": 35,
     "metadata": {},
     "output_type": "execute_result"
    }
   ],
   "source": [
    "features.sample(10)"
   ]
  },
  {
   "cell_type": "code",
   "execution_count": 36,
   "id": "4001f47e",
   "metadata": {},
   "outputs": [
    {
     "data": {
      "text/plain": [
       "<AxesSubplot:>"
      ]
     },
     "execution_count": 36,
     "metadata": {},
     "output_type": "execute_result"
    },
    {
     "data": {
      "image/png": "[encoded data removed]",
      "text/plain": [
       "<Figure size 432x288 with 1 Axes>"
      ]
     },
     "metadata": {
      "needs_background": "light"
     },
     "output_type": "display_data"
    }
   ],
   "source": [
    "features.budget.hist(bins=20)"
   ]
  },
  {
   "cell_type": "code",
   "execution_count": 37,
   "id": "d46032a4",
   "metadata": {},
   "outputs": [
    {
     "data": {
      "text/plain": [
       "<AxesSubplot:>"
      ]
     },
     "execution_count": 37,
     "metadata": {},
     "output_type": "execute_result"
    },
    {
     "data": {
      "image/png": "[encoded data removed]",
      "text/plain": [
       "<Figure size 432x288 with 1 Axes>"
      ]
     },
     "metadata": {
      "needs_background": "light"
     },
     "output_type": "display_data"
    }
   ],
   "source": [
    "features.popularity.hist(bins=20, )"
   ]
  },
  {
   "cell_type": "code",
   "execution_count": 38,
   "id": "0ba0227b",
   "metadata": {},
   "outputs": [
    {
     "data": {
      "text/html": [
       "<div>\n",
       "<style scoped>\n",
       "    .dataframe tbody tr th:only-of-type {\n",
       "        vertical-align: middle;\n",
       "    }\n",
       "\n",
       "    .dataframe tbody tr th {\n",
       "        vertical-align: top;\n",
       "    }\n",
       "\n",
       "    .dataframe thead th {\n",
       "        text-align: right;\n",
       "    }\n",
       "</style>\n",
       "<table border=\"1\" class=\"dataframe\">\n",
       "  <thead>\n",
       "    <tr style=\"text-align: right;\">\n",
       "      <th></th>\n",
       "      <th>budget</th>\n",
       "      <th>popularity</th>\n",
       "      <th>revenue</th>\n",
       "    </tr>\n",
       "  </thead>\n",
       "  <tbody>\n",
       "  </tbody>\n",
       "</table>\n",
       "</div>"
      ],
      "text/plain": [
       "Empty DataFrame\n",
       "Columns: [budget, popularity, revenue]\n",
       "Index: []"
      ]
     },
     "execution_count": 38,
     "metadata": {},
     "output_type": "execute_result"
    }
   ],
   "source": [
    "features[features.popularity > 50]"
   ]
  },
  {
   "cell_type": "code",
   "execution_count": 39,
   "id": "85f3fb84",
   "metadata": {},
   "outputs": [
    {
     "data": {
      "text/plain": [
       "(-0.7051813679103676, 20.695501358394)"
      ]
     },
     "execution_count": 39,
     "metadata": {},
     "output_type": "execute_result"
    }
   ],
   "source": [
    "features.popularity.min(), features.popularity.max()"
   ]
  },
  {
   "cell_type": "code",
   "execution_count": 40,
   "id": "88a4fab6",
   "metadata": {},
   "outputs": [
    {
     "data": {
      "text/plain": [
       "count    2188.000000\n",
       "mean        0.032951\n",
       "std         0.046727\n",
       "min         0.000000\n",
       "25%         0.018333\n",
       "50%         0.028271\n",
       "75%         0.039599\n",
       "max         1.000000\n",
       "Name: popularity, dtype: float64"
      ]
     },
     "execution_count": 40,
     "metadata": {},
     "output_type": "execute_result"
    }
   ],
   "source": [
    "((features.popularity - features.popularity.min()) / (features.popularity.max() - features.popularity.min())).describe()"
   ]
  },
  {
   "cell_type": "code",
   "execution_count": 41,
   "id": "1f3c9cc4",
   "metadata": {},
   "outputs": [
    {
     "data": {
      "text/plain": [
       "count    2.188000e+03\n",
       "mean    -2.071793e-15\n",
       "std      1.000000e+00\n",
       "min     -7.051814e-01\n",
       "25%     -3.128333e-01\n",
       "50%     -1.001528e-01\n",
       "75%      1.422677e-01\n",
       "max      2.069550e+01\n",
       "Name: popularity, dtype: float64"
      ]
     },
     "execution_count": 41,
     "metadata": {},
     "output_type": "execute_result"
    }
   ],
   "source": [
    "features.popularity.describe()"
   ]
  },
  {
   "cell_type": "code",
   "execution_count": 42,
   "id": "022f8d0d",
   "metadata": {},
   "outputs": [
    {
     "data": {
      "text/plain": [
       "count    2188.000000\n",
       "mean        0.081298\n",
       "std         0.105968\n",
       "min         0.000000\n",
       "25%         0.013553\n",
       "50%         0.042105\n",
       "75%         0.105263\n",
       "max         1.000000\n",
       "Name: budget, dtype: float64"
      ]
     },
     "execution_count": 42,
     "metadata": {},
     "output_type": "execute_result"
    }
   ],
   "source": [
    "# Min / max scaling\n",
    "((features.budget - features.budget.min()) / (features.budget.max() - features.budget.min())).describe()"
   ]
  },
  {
   "cell_type": "code",
   "execution_count": 43,
   "id": "b77f4d7a",
   "metadata": {},
   "outputs": [
    {
     "data": {
      "text/plain": [
       "count    2.188000e+03\n",
       "mean    -1.209549e-17\n",
       "std      1.000000e+00\n",
       "min     -7.671890e-01\n",
       "25%     -6.392954e-01\n",
       "50%     -3.698497e-01\n",
       "75%      2.261592e-01\n",
       "max      8.669619e+00\n",
       "Name: budget, dtype: float64"
      ]
     },
     "execution_count": 43,
     "metadata": {},
     "output_type": "execute_result"
    }
   ],
   "source": [
    "# standard scaling\n",
    "((features.budget - features.budget.mean()) /  features.budget.std()).describe()\n"
   ]
  },
  {
   "cell_type": "code",
   "execution_count": 44,
   "id": "4a36b52b",
   "metadata": {},
   "outputs": [
    {
     "data": {
      "text/html": [
       "<div>\n",
       "<style scoped>\n",
       "    .dataframe tbody tr th:only-of-type {\n",
       "        vertical-align: middle;\n",
       "    }\n",
       "\n",
       "    .dataframe tbody tr th {\n",
       "        vertical-align: top;\n",
       "    }\n",
       "\n",
       "    .dataframe thead th {\n",
       "        text-align: right;\n",
       "    }\n",
       "</style>\n",
       "<table border=\"1\" class=\"dataframe\">\n",
       "  <thead>\n",
       "    <tr style=\"text-align: right;\">\n",
       "      <th></th>\n",
       "      <th>original_title</th>\n",
       "      <th>popularity</th>\n",
       "    </tr>\n",
       "  </thead>\n",
       "  <tbody>\n",
       "    <tr>\n",
       "      <th>2</th>\n",
       "      <td>Whiplash</td>\n",
       "      <td>64.299990</td>\n",
       "    </tr>\n",
       "    <tr>\n",
       "      <th>518</th>\n",
       "      <td>Wonder Woman</td>\n",
       "      <td>294.337037</td>\n",
       "    </tr>\n",
       "    <tr>\n",
       "      <th>684</th>\n",
       "      <td>Beauty and the Beast</td>\n",
       "      <td>287.253654</td>\n",
       "    </tr>\n",
       "    <tr>\n",
       "      <th>1126</th>\n",
       "      <td>The Avengers</td>\n",
       "      <td>89.887648</td>\n",
       "    </tr>\n",
       "    <tr>\n",
       "      <th>1309</th>\n",
       "      <td>Gone Girl</td>\n",
       "      <td>154.801009</td>\n",
       "    </tr>\n",
       "    <tr>\n",
       "      <th>1673</th>\n",
       "      <td>The Dark Knight</td>\n",
       "      <td>123.167259</td>\n",
       "    </tr>\n",
       "    <tr>\n",
       "      <th>1695</th>\n",
       "      <td>Baby Driver</td>\n",
       "      <td>228.032744</td>\n",
       "    </tr>\n",
       "    <tr>\n",
       "      <th>1715</th>\n",
       "      <td>War for the Planet of the Apes</td>\n",
       "      <td>146.161786</td>\n",
       "    </tr>\n",
       "    <tr>\n",
       "      <th>2126</th>\n",
       "      <td>Guardians of the Galaxy Vol. 2</td>\n",
       "      <td>185.330992</td>\n",
       "    </tr>\n",
       "    <tr>\n",
       "      <th>2293</th>\n",
       "      <td>The Circle</td>\n",
       "      <td>88.439243</td>\n",
       "    </tr>\n",
       "    <tr>\n",
       "      <th>2326</th>\n",
       "      <td>Deadpool</td>\n",
       "      <td>187.860492</td>\n",
       "    </tr>\n",
       "    <tr>\n",
       "      <th>2338</th>\n",
       "      <td>Fight Club</td>\n",
       "      <td>63.869599</td>\n",
       "    </tr>\n",
       "  </tbody>\n",
       "</table>\n",
       "</div>"
      ],
      "text/plain": [
       "                      original_title  popularity\n",
       "2                           Whiplash   64.299990\n",
       "518                     Wonder Woman  294.337037\n",
       "684             Beauty and the Beast  287.253654\n",
       "1126                    The Avengers   89.887648\n",
       "1309                       Gone Girl  154.801009\n",
       "1673                 The Dark Knight  123.167259\n",
       "1695                     Baby Driver  228.032744\n",
       "1715  War for the Planet of the Apes  146.161786\n",
       "2126  Guardians of the Galaxy Vol. 2  185.330992\n",
       "2293                      The Circle   88.439243\n",
       "2326                        Deadpool  187.860492\n",
       "2338                      Fight Club   63.869599"
      ]
     },
     "execution_count": 44,
     "metadata": {},
     "output_type": "execute_result"
    }
   ],
   "source": [
    "train_df[train_df.popularity > 60][['original_title', 'popularity']]"
   ]
  },
  {
   "cell_type": "code",
   "execution_count": 45,
   "id": "5acb6325",
   "metadata": {},
   "outputs": [],
   "source": [
    "features\n",
    "\n",
    "# 1. Удалить строки с нулевым бюджетом (проверить, что нет пропусков NaN, Null)  Done\n",
    "# 2. Нормировать данные (min/max scaling, standard scaling)\n",
    "# 3. Написать функцию для подсчёта функции потерь\n",
    "# 4. Написать шаг оптимизации параметров MSE + градиентный спуск.\n",
    "\n",
    "# Подумать, что делать с не числовыми признаками? Как их интерпретировать?\n",
    "# binary encoding, OHE one hot encoding e.t.c.\n",
    "\n",
    "features.describe()\n",
    "\n",
    "w1 = 0.00000001\n",
    "w2 = 100"
   ]
  },
  {
   "cell_type": "code",
   "execution_count": 46,
   "id": "e22fb4ab",
   "metadata": {},
   "outputs": [],
   "source": [
    "# "
   ]
  },
  {
   "cell_type": "code",
   "execution_count": 47,
   "id": "2c99faaf",
   "metadata": {},
   "outputs": [],
   "source": [
    "train_x = features.to_numpy()"
   ]
  },
  {
   "cell_type": "code",
   "execution_count": null,
   "id": "10c24e64",
   "metadata": {},
   "outputs": [],
   "source": []
  },
  {
   "cell_type": "code",
   "execution_count": 48,
   "id": "a9962866",
   "metadata": {},
   "outputs": [],
   "source": [
    "target = train_df[\"revenue\"]"
   ]
  },
  {
   "cell_type": "code",
   "execution_count": 113,
   "id": "bed99b8f",
   "metadata": {},
   "outputs": [
    {
     "data": {
      "text/plain": [
       "0        12314651\n",
       "1        95149435\n",
       "2        13092000\n",
       "3        16000000\n",
       "4         3923970\n",
       "          ...    \n",
       "2995      1596687\n",
       "2996       180590\n",
       "2997     89456761\n",
       "2998    171963386\n",
       "2999     82087155\n",
       "Name: revenue, Length: 3000, dtype: int64"
      ]
     },
     "execution_count": 113,
     "metadata": {},
     "output_type": "execute_result"
    }
   ],
   "source": [
    "target"
   ]
  },
  {
   "cell_type": "code",
   "execution_count": 114,
   "id": "a4682919",
   "metadata": {},
   "outputs": [
    {
     "data": {
      "image/png": "[encoded data removed]",
      "text/plain": [
       "<Figure size 432x288 with 1 Axes>"
      ]
     },
     "metadata": {
      "needs_background": "light"
     },
     "output_type": "display_data"
    }
   ],
   "source": [
    "import numpy as np\n",
    "import matplotlib.pyplot as plt\n",
    "\n",
    "# MSE loss function\n",
    "def mse_loss(val_pred, val_true):\n",
    "    squared_error = (val_pred - val_true) ** 2\n",
    "#     sum_squared_error = np.sum(squared_error)\n",
    "#     loss = sum_squared_error / val_true.size\n",
    "    loss = squared_error.mean()\n",
    "    return loss\n",
    "\n",
    "\n",
    "# Plotting\n",
    "x_vals = np.arange(-20, 20, 0.01)\n",
    "y_vals = np.square(x_vals)\n",
    "\n",
    "\n",
    "plt.plot(x_vals, y_vals, \"blue\")\n",
    "plt.plot(x_vals, y_vals, \"blue\")\n",
    "plt.grid(True, which=\"major\")\n",
    "plt.show()"
   ]
  },
  {
   "cell_type": "code",
   "execution_count": 115,
   "id": "02b33479",
   "metadata": {},
   "outputs": [
    {
     "data": {
      "text/plain": [
       "array([-0.22760154, -0.10445329,  3.95625987, ...,  0.34918771,\n",
       "        0.43769034,  0.05926112])"
      ]
     },
     "execution_count": 115,
     "metadata": {},
     "output_type": "execute_result"
    }
   ],
   "source": [
    "x_train = features[['budget', 'popularity']]\n",
    "y_train = features['revenue'].to_numpy()\n",
    "\n",
    "X = np.concatenate([x_train.to_numpy(), np.ones([len(x_train), 1])], axis=1)\n",
    "# features.to_numpy().shape, np.ones([len(features), 1]).shape\n",
    "X @ w"
   ]
  },
  {
   "cell_type": "code",
   "execution_count": 116,
   "id": "758cd7db",
   "metadata": {},
   "outputs": [
    {
     "data": {
      "text/plain": [
       "(array([[-0.41951715, -0.22723076,  1.        ],\n",
       "        [ 0.22615922, -0.10555286,  1.        ],\n",
       "        [-0.68523781,  3.96984103,  1.        ],\n",
       "        ...,\n",
       "        [ 0.84700188,  0.34767226,  1.        ],\n",
       "        [ 0.27582663,  0.43806331,  1.        ],\n",
       "        [ 0.10199069,  0.05900215,  1.        ]]),\n",
       " array([-0.48010035,  0.05262927, -0.47510104, ...,  0.01601837,\n",
       "         0.54663752, -0.03137727]))"
      ]
     },
     "execution_count": 116,
     "metadata": {},
     "output_type": "execute_result"
    }
   ],
   "source": [
    "X, y_train"
   ]
  },
  {
   "cell_type": "code",
   "execution_count": 117,
   "id": "adb279f5",
   "metadata": {},
   "outputs": [],
   "source": [
    "# w = random_normal()             # можно пробовать и другие виды инициализации\n",
    "# repeat S times:                 # другой вариант: while abs(err) > tolerance\n",
    "#    f = X.dot(w)                 # посчитать предсказание\n",
    "#    err = f - y                  # посчитать ошибку\n",
    "#    grad = 2 * X.T.dot(err) / N  # посчитать градиент\n",
    "#    w -= alpha * grad            # обновить веса\n",
    "\n",
    "LR = 0.01\n",
    "w = np.random.randn(3)\n",
    "N = len(y_train)\n",
    "f = 0\n",
    "x_axis = []\n",
    "y_axis = []\n",
    "\n",
    "for i in range(300):\n",
    "    f = X.dot(w)\n",
    "    err = f - y_train\n",
    "    grad = 2 * X.T.dot(err) / N\n",
    "    w -= LR * grad\n",
    "    if i % 10 == 0:\n",
    "        x_axis.append(i)\n",
    "        y_axis.append(err.mean())\n",
    "        #  print(err.mean())\n",
    "    "
   ]
  },
  {
   "cell_type": "code",
   "execution_count": 118,
   "id": "18f5a913",
   "metadata": {},
   "outputs": [
    {
     "data": {
      "text/plain": [
       "array([0.66325515, 0.23914801, 0.00400422])"
      ]
     },
     "execution_count": 118,
     "metadata": {},
     "output_type": "execute_result"
    }
   ],
   "source": [
    "w"
   ]
  },
  {
   "cell_type": "code",
   "execution_count": 119,
   "id": "7905743c",
   "metadata": {},
   "outputs": [
    {
     "data": {
      "image/png": "[encoded data removed]",
      "text/plain": [
       "<Figure size 432x288 with 1 Axes>"
      ]
     },
     "metadata": {
      "needs_background": "light"
     },
     "output_type": "display_data"
    }
   ],
   "source": [
    "fig, ax = plt.subplots()\n",
    "\n",
    "ax.plot(x_axis, y_axis)\n",
    "plt.xlabel(\"Цикл обучения\")\n",
    "plt.ylabel(\"Квадрат ошибки\")\n",
    "plt.show()"
   ]
  },
  {
   "cell_type": "code",
   "execution_count": 134,
   "id": "1df2586a",
   "metadata": {},
   "outputs": [],
   "source": [
    "#     loss.backward()\n",
    "#     optimizer.step()\n",
    "\n"
   ]
  },
  {
   "cell_type": "code",
   "execution_count": 135,
   "id": "6415b6ec",
   "metadata": {},
   "outputs": [],
   "source": [
    "TEST_CSV_PATH = \"C:/Users/Lenovo/PycharmProjects/AI_PROJECT/data/test.csv\"\n",
    "train_dft = pd.read_csv(TEST_CSV_PATH)"
   ]
  },
  {
   "cell_type": "code",
   "execution_count": 136,
   "id": "9b636e26",
   "metadata": {},
   "outputs": [
    {
     "data": {
      "text/plain": [
       "Index(['budget', 'popularity'], dtype='object')"
      ]
     },
     "execution_count": 136,
     "metadata": {},
     "output_type": "execute_result"
    }
   ],
   "source": [
    "featurest = train_dft[[\"budget\", \"popularity\"]]\n",
    "featurest.columns"
   ]
  },
  {
   "cell_type": "code",
   "execution_count": 137,
   "id": "87282e5a",
   "metadata": {},
   "outputs": [
    {
     "data": {
      "text/html": [
       "<div>\n",
       "<style scoped>\n",
       "    .dataframe tbody tr th:only-of-type {\n",
       "        vertical-align: middle;\n",
       "    }\n",
       "\n",
       "    .dataframe tbody tr th {\n",
       "        vertical-align: top;\n",
       "    }\n",
       "\n",
       "    .dataframe thead th {\n",
       "        text-align: right;\n",
       "    }\n",
       "</style>\n",
       "<table border=\"1\" class=\"dataframe\">\n",
       "  <thead>\n",
       "    <tr style=\"text-align: right;\">\n",
       "      <th></th>\n",
       "      <th>budget</th>\n",
       "      <th>popularity</th>\n",
       "    </tr>\n",
       "  </thead>\n",
       "  <tbody>\n",
       "    <tr>\n",
       "      <th>2597</th>\n",
       "      <td>20000000</td>\n",
       "      <td>0.304988</td>\n",
       "    </tr>\n",
       "    <tr>\n",
       "      <th>3995</th>\n",
       "      <td>35000000</td>\n",
       "      <td>11.787942</td>\n",
       "    </tr>\n",
       "    <tr>\n",
       "      <th>1247</th>\n",
       "      <td>3000000</td>\n",
       "      <td>6.212433</td>\n",
       "    </tr>\n",
       "    <tr>\n",
       "      <th>3503</th>\n",
       "      <td>2079000</td>\n",
       "      <td>4.558793</td>\n",
       "    </tr>\n",
       "    <tr>\n",
       "      <th>2835</th>\n",
       "      <td>40000000</td>\n",
       "      <td>9.524283</td>\n",
       "    </tr>\n",
       "    <tr>\n",
       "      <th>2395</th>\n",
       "      <td>15000000</td>\n",
       "      <td>41.048867</td>\n",
       "    </tr>\n",
       "    <tr>\n",
       "      <th>3272</th>\n",
       "      <td>35866397</td>\n",
       "      <td>3.689930</td>\n",
       "    </tr>\n",
       "    <tr>\n",
       "      <th>213</th>\n",
       "      <td>3950000</td>\n",
       "      <td>5.276546</td>\n",
       "    </tr>\n",
       "    <tr>\n",
       "      <th>539</th>\n",
       "      <td>20000000</td>\n",
       "      <td>5.946085</td>\n",
       "    </tr>\n",
       "    <tr>\n",
       "      <th>3042</th>\n",
       "      <td>64000000</td>\n",
       "      <td>11.376954</td>\n",
       "    </tr>\n",
       "  </tbody>\n",
       "</table>\n",
       "</div>"
      ],
      "text/plain": [
       "        budget  popularity\n",
       "2597  20000000    0.304988\n",
       "3995  35000000   11.787942\n",
       "1247   3000000    6.212433\n",
       "3503   2079000    4.558793\n",
       "2835  40000000    9.524283\n",
       "2395  15000000   41.048867\n",
       "3272  35866397    3.689930\n",
       "213    3950000    5.276546\n",
       "539   20000000    5.946085\n",
       "3042  64000000   11.376954"
      ]
     },
     "execution_count": 137,
     "metadata": {},
     "output_type": "execute_result"
    }
   ],
   "source": [
    "featurest = featurest[(featurest[\"budget\"] > 0) & (featurest[\"popularity\"] > 0)]\n",
    "\n",
    "featurest.dropna(subset=[\"budget\", \"popularity\"], inplace=True)\n",
    "# features.dropna(subset=[], inplace=True)\n",
    "\n",
    "featurest.sample(10)"
   ]
  },
  {
   "cell_type": "code",
   "execution_count": 138,
   "id": "d630ffcb",
   "metadata": {},
   "outputs": [],
   "source": [
    "# standard scaling\n",
    "featurest['budget'] = ((features.budget - features.budget.mean()) /  features.budget.std())\n",
    "featurest['popularity'] = ((features.popularity - features.popularity.mean()) /  featurest.popularity.std())"
   ]
  },
  {
   "cell_type": "code",
   "execution_count": 141,
   "id": "8f0a805b",
   "metadata": {},
   "outputs": [
    {
     "data": {
      "text/plain": [
       "<AxesSubplot:>"
      ]
     },
     "execution_count": 141,
     "metadata": {},
     "output_type": "execute_result"
    },
    {
     "data": {
      "image/png": "[encoded data removed]",
      "text/plain": [
       "<Figure size 432x288 with 1 Axes>"
      ]
     },
     "metadata": {
      "needs_background": "light"
     },
     "output_type": "display_data"
    }
   ],
   "source": [
    "featurest.budget.hist(bins=20)"
   ]
  },
  {
   "cell_type": "code",
   "execution_count": 143,
   "id": "98d6d347",
   "metadata": {},
   "outputs": [
    {
     "data": {
      "text/plain": [
       "<AxesSubplot:>"
      ]
     },
     "execution_count": 143,
     "metadata": {},
     "output_type": "execute_result"
    },
    {
     "data": {
      "image/png": "[encoded data removed]",
      "text/plain": [
       "<Figure size 432x288 with 1 Axes>"
      ]
     },
     "metadata": {
      "needs_background": "light"
     },
     "output_type": "display_data"
    }
   ],
   "source": [
    "featurest.popularity.hist(bins=20)"
   ]
  },
  {
   "cell_type": "code",
   "execution_count": null,
   "id": "2b616358",
   "metadata": {},
   "outputs": [],
   "source": [
    "for i in budget:\n",
    "    \n",
    "    "
   ]
  }
 ],
 "metadata": {
  "kernelspec": {
   "display_name": "Python 3 (ipykernel)",
   "language": "python",
   "name": "python3"
  },
  "language_info": {
   "codemirror_mode": {
    "name": "ipython",
    "version": 3
   },
   "file_extension": ".py",
   "mimetype": "text/x-python",
   "name": "python",
   "nbconvert_exporter": "python",
   "pygments_lexer": "ipython3",
   "version": "3.9.7"
  }
 },
 "nbformat": 4,
 "nbformat_minor": 5
}
