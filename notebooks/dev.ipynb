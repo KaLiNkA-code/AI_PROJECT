{
 "cells": [
  {
   "cell_type": "code",
   "execution_count": null,
   "id": "99b80010",
   "metadata": {},
   "outputs": [],
   "source": [
    "import os\n",
    "\n",
    "# Fix to be able to import python modules inside a notebook\n",
    "os.chdir(\"..\")"
   ]
  },
  {
   "cell_type": "code",
   "execution_count": null,
   "id": "b957a8af",
   "metadata": {},
   "outputs": [],
   "source": [
    "!ls"
   ]
  },
  {
   "cell_type": "code",
   "execution_count": null,
   "id": "615f066b",
   "metadata": {},
   "outputs": [],
   "source": [
    "import numpy as np\n",
    "from matplotlib import pyplot as plt\n",
    "\n",
    "x_train = np.array([1.0, 3.0, 1.5, 1.8, 2.5, 2.8])\n",
    "y_train = np.array([300, 500, 350, 380, 420, 475])\n",
    "\n",
    "m = len(x_train)  # m is the number of training examples\n",
    "print(f\"number of training examples: {m}\")\n",
    "\n",
    "print(\" \")\n",
    "print(\" \")\n",
    "print(\" \")"
   ]
  },
  {
   "cell_type": "code",
   "execution_count": null,
   "id": "059d984e",
   "metadata": {},
   "outputs": [],
   "source": [
    "i = 0\n",
    "x_i = x_train[i]\n",
    "y_i = y_train[i]\n",
    "print(f\"(x^({i}), y^({i})) = ({x_i}, {y_i})\")\n",
    "\n",
    "\n",
    "print(\" \")\n",
    "print(\" \")\n",
    "print(\" \")\n",
    "\n",
    "plt.scatter(x_train, y_train, marker=\"x\", c=\"r\")\n",
    "plt.title(\"Housing Prices\")  # Set the title\n",
    "plt.ylabel(\"Price (in 1000s of dollars)\")\n",
    "plt.xlabel(\"Size (1000 sqrt)\")\n",
    "# plt.show()\n",
    "\n",
    "w = 0\n",
    "b = 0\n",
    "print(f\"w: {w}\")\n",
    "print(f\"b: {b}\")\n",
    "\n",
    "\n",
    "def calculate_model_output(w, b, x):\n",
    "    m = x.shape  # the number of training examples\n",
    "    f_wb = np.zeros(m)\n",
    "    for i in range(len(x)):\n",
    "        f_wb[i] = w * x[i] + b\n",
    "    return f_wb\n",
    "\n",
    "\n",
    "#  Now Let's call the calculate_model_output func and plot the output\n",
    "tmp_f_wb = calculate_model_output(w, b, x_train)\n",
    "\n",
    "plt.plot(x_train, tmp_f_wb, c=\"b\", label=\"Our Prediction\")\n",
    "plt.scatter(x_train, y_train, marker=\"x\", c=\"r\", label=\"Actual price\")\n",
    "plt.xlabel(\"Sixe\")\n",
    "plt.ylabel(\"Price\")\n",
    "plt.legend()\n",
    "plt.show()"
   ]
  },
  {
   "cell_type": "code",
   "execution_count": null,
   "id": "710fb627",
   "metadata": {},
   "outputs": [],
   "source": [
    "import pandas as pd"
   ]
  },
  {
   "cell_type": "code",
   "execution_count": null,
   "id": "1599ee96",
   "metadata": {},
   "outputs": [],
   "source": [
    "# TRAIN_CSV_PATH = \"C:/Users/Lenovo/PycharmProjects/AI_PROJECT/notebooks/train.csv\"\n",
    "\n",
    "# TRAIN_CSV_PATH = \"C:/Users/Lenovo/PycharmProjects/AI_PROJECT/data/train.csv\"\n",
    "TRAIN_CSV_PATH = \"data/train.csv\"\n",
    "\n",
    "raw_df = pd.read_csv(TRAIN_CSV_PATH)"
   ]
  },
  {
   "cell_type": "code",
   "execution_count": null,
   "id": "03c3a5d0",
   "metadata": {},
   "outputs": [],
   "source": [
    "# val_size = int(len(raw_df) * 0.2)\n",
    "# train_size = len(raw_df) - val_size\n",
    "\n",
    "import numpy as np\n",
    "\n",
    "mask = np.random.rand(len(raw_df)) > 0.2\n",
    "\n",
    "sum(mask), 3000 * 0.8"
   ]
  },
  {
   "cell_type": "code",
   "execution_count": null,
   "id": "2c63b708",
   "metadata": {},
   "outputs": [],
   "source": [
    "train_df = raw_df[mask]\n",
    "val_df = raw_df[~mask]\n",
    "\n",
    "# train_df, val_df = "
   ]
  },
  {
   "cell_type": "code",
   "execution_count": null,
   "id": "6bdd4c2d",
   "metadata": {},
   "outputs": [],
   "source": [
    "trai"
   ]
  },
  {
   "cell_type": "code",
   "execution_count": null,
   "id": "0a27f6a9",
   "metadata": {},
   "outputs": [],
   "source": [
    "True & False # AND \n",
    "True | False # OR\n",
    "~False # NOT"
   ]
  },
  {
   "cell_type": "code",
   "execution_count": null,
   "id": "7528024c",
   "metadata": {},
   "outputs": [],
   "source": [
    "# train_df['crew'].unique()"
   ]
  },
  {
   "cell_type": "code",
   "execution_count": null,
   "id": "010ac6d9",
   "metadata": {},
   "outputs": [],
   "source": [
    "train_df.columns"
   ]
  },
  {
   "cell_type": "code",
   "execution_count": null,
   "id": "74a23af9",
   "metadata": {},
   "outputs": [],
   "source": [
    "features = train_df[[\"budget\", \"popularity\", 'revenue']]\n",
    "features.columns"
   ]
  },
  {
   "cell_type": "code",
   "execution_count": null,
   "id": "224ce87c",
   "metadata": {},
   "outputs": [],
   "source": [
    "features = features[(features[\"budget\"] > 0) & (features[\"popularity\"] > 0)]\n",
    "\n",
    "features.dropna(subset=[\"budget\", \"popularity\"], inplace=True)\n",
    "# features.dropna(subset=[], inplace=True)\n",
    "\n",
    "features.sample(10)"
   ]
  },
  {
   "cell_type": "code",
   "execution_count": null,
   "id": "de625513",
   "metadata": {},
   "outputs": [],
   "source": [
    "# standard scaling\n",
    "features['budget'] = ((features.budget - features.budget.mean()) /  features.budget.std())\n",
    "features['popularity'] = ((features.popularity - features.popularity.mean()) /  features.popularity.std())\n",
    "features['revenue'] = ((features.revenue - features.revenue.mean()) /  features.revenue.std())\n"
   ]
  },
  {
   "cell_type": "code",
   "execution_count": null,
   "id": "5817e3dc",
   "metadata": {},
   "outputs": [],
   "source": [
    "features.sample(10)"
   ]
  },
  {
   "cell_type": "code",
   "execution_count": null,
   "id": "4001f47e",
   "metadata": {},
   "outputs": [],
   "source": [
    "features.budget.hist(bins=20)"
   ]
  },
  {
   "cell_type": "code",
   "execution_count": null,
   "id": "d46032a4",
   "metadata": {},
   "outputs": [],
   "source": [
    "features.popularity.hist(bins=20, )"
   ]
  },
  {
   "cell_type": "code",
   "execution_count": null,
   "id": "0ba0227b",
   "metadata": {},
   "outputs": [],
   "source": [
    "features[features.popularity > 50]"
   ]
  },
  {
   "cell_type": "code",
   "execution_count": null,
   "id": "85f3fb84",
   "metadata": {},
   "outputs": [],
   "source": [
    "features.popularity.min(), features.popularity.max()"
   ]
  },
  {
   "cell_type": "code",
   "execution_count": null,
   "id": "88a4fab6",
   "metadata": {},
   "outputs": [],
   "source": [
    "((features.popularity - features.popularity.min()) / (features.popularity.max() - features.popularity.min())).describe()"
   ]
  },
  {
   "cell_type": "code",
   "execution_count": null,
   "id": "1f3c9cc4",
   "metadata": {},
   "outputs": [],
   "source": [
    "features.popularity.describe()"
   ]
  },
  {
   "cell_type": "code",
   "execution_count": null,
   "id": "022f8d0d",
   "metadata": {},
   "outputs": [],
   "source": [
    "# Min / max scaling\n",
    "((features.budget - features.budget.min()) / (features.budget.max() - features.budget.min())).describe()"
   ]
  },
  {
   "cell_type": "code",
   "execution_count": null,
   "id": "b77f4d7a",
   "metadata": {},
   "outputs": [],
   "source": [
    "# standard scaling\n",
    "((features.budget - features.budget.mean()) /  features.budget.std()).describe()\n"
   ]
  },
  {
   "cell_type": "code",
   "execution_count": null,
   "id": "4a36b52b",
   "metadata": {},
   "outputs": [],
   "source": [
    "train_df[train_df.popularity > 60][['original_title', 'popularity']]"
   ]
  },
  {
   "cell_type": "code",
   "execution_count": null,
   "id": "5acb6325",
   "metadata": {},
   "outputs": [],
   "source": [
    "features\n",
    "\n",
    "# 1. Удалить строки с нулевым бюджетом (проверить, что нет пропусков NaN, Null)  Done\n",
    "# 2. Нормировать данные (min/max scaling, standard scaling)\n",
    "# 3. Написать функцию для подсчёта функции потерь\n",
    "# 4. Написать шаг оптимизации параметров MSE + градиентный спуск.\n",
    "\n",
    "# Подумать, что делать с не числовыми признаками? Как их интерпретировать?\n",
    "# binary encoding, OHE one hot encoding e.t.c.\n",
    "\n",
    "features.describe()\n",
    "\n",
    "w1 = 0.00000001\n",
    "w2 = 100"
   ]
  },
  {
   "cell_type": "code",
   "execution_count": null,
   "id": "e22fb4ab",
   "metadata": {},
   "outputs": [],
   "source": [
    "# "
   ]
  },
  {
   "cell_type": "code",
   "execution_count": null,
   "id": "2c99faaf",
   "metadata": {},
   "outputs": [],
   "source": [
    "train_x = features.to_numpy()"
   ]
  },
  {
   "cell_type": "code",
   "execution_count": null,
   "id": "10c24e64",
   "metadata": {},
   "outputs": [],
   "source": []
  },
  {
   "cell_type": "code",
   "execution_count": null,
   "id": "a9962866",
   "metadata": {},
   "outputs": [],
   "source": [
    "target = train_df[\"revenue\"]"
   ]
  },
  {
   "cell_type": "code",
   "execution_count": null,
   "id": "bed99b8f",
   "metadata": {},
   "outputs": [],
   "source": [
    "target"
   ]
  },
  {
   "cell_type": "code",
   "execution_count": null,
   "id": "a4682919",
   "metadata": {},
   "outputs": [],
   "source": [
    "import numpy as np\n",
    "import matplotlib.pyplot as plt\n",
    "\n",
    "# MSE loss function\n",
    "def mse_loss(val_pred, val_true):\n",
    "    squared_error = (val_pred - val_true) ** 2\n",
    "#     sum_squared_error = np.sum(squared_error)\n",
    "#     loss = sum_squared_error / val_true.size\n",
    "    loss = squared_error.mean()\n",
    "    return loss\n",
    "\n",
    "\n",
    "# Plotting\n",
    "x_vals = np.arange(-20, 20, 0.01)\n",
    "y_vals = np.square(x_vals)\n",
    "\n",
    "\n",
    "plt.plot(x_vals, y_vals, \"blue\")\n",
    "plt.plot(x_vals, y_vals, \"blue\")\n",
    "plt.grid(True, which=\"major\")\n",
    "plt.show()"
   ]
  },
  {
   "cell_type": "code",
   "execution_count": null,
   "id": "02b33479",
   "metadata": {},
   "outputs": [],
   "source": [
    "x_train = features[['budget', 'popularity']]\n",
    "y_train = features['revenue'].to_numpy()\n",
    "\n",
    "X = np.concatenate([x_train.to_numpy(), np.ones([len(x_train), 1])], axis=1)\n",
    "# features.to_numpy().shape, np.ones([len(features), 1]).shape\n",
    "X @ w"
   ]
  },
  {
   "cell_type": "code",
   "execution_count": null,
   "id": "758cd7db",
   "metadata": {},
   "outputs": [],
   "source": [
    "X, y_train"
   ]
  },
  {
   "cell_type": "code",
   "execution_count": null,
   "id": "adb279f5",
   "metadata": {},
   "outputs": [],
   "source": [
    "# w = random_normal()             # можно пробовать и другие виды инициализации\n",
    "# repeat S times:                 # другой вариант: while abs(err) > tolerance\n",
    "#    f = X.dot(w)                 # посчитать предсказание\n",
    "#    err = f - y                  # посчитать ошибку\n",
    "#    grad = 2 * X.T.dot(err) / N  # посчитать градиент\n",
    "#    w -= alpha * grad            # обновить веса\n",
    "\n",
    "LR = 0.01\n",
    "w = np.random.randn(3)\n",
    "N = len(y_train)\n",
    "f = 0\n",
    "x_axis = []\n",
    "y_axis = []\n",
    "\n",
    "for i in range(300):\n",
    "    f = X.dot(w)\n",
    "    err = f - y_train\n",
    "    \n",
    "    grad = 2 * X.T.dot(err) / N\n",
    "    w -= LR * grad\n",
    "    if i % 10 == 0:\n",
    "        x_axis.append(i)\n",
    "        y_axis.append(err.mean())\n",
    "        #  print(err.mean())\n",
    "    "
   ]
  },
  {
   "cell_type": "code",
   "execution_count": null,
   "id": "9d003ac8",
   "metadata": {},
   "outputs": [],
   "source": [
    "(val_pred - val_true) ** 2\n",
    "ERR ^ 2 -> 2 * ERR\n",
    "\n",
    "x ^ a -> a * x ^ (a-1)\n",
    "\n",
    "\n"
   ]
  },
  {
   "cell_type": "code",
   "execution_count": null,
   "id": "18f5a913",
   "metadata": {},
   "outputs": [],
   "source": [
    "w"
   ]
  },
  {
   "cell_type": "code",
   "execution_count": null,
   "id": "7905743c",
   "metadata": {},
   "outputs": [],
   "source": [
    "fig, ax = plt.subplots()\n",
    "\n",
    "ax.plot(x_axis, y_axis)\n",
    "plt.xlabel(\"Цикл обучения\")\n",
    "plt.ylabel(\"Квадрат ошибки\")\n",
    "plt.show()"
   ]
  },
  {
   "cell_type": "code",
   "execution_count": null,
   "id": "1df2586a",
   "metadata": {},
   "outputs": [],
   "source": [
    "#     loss.backward()\n",
    "#     optimizer.step()\n",
    "\n"
   ]
  },
  {
   "cell_type": "code",
   "execution_count": null,
   "id": "6415b6ec",
   "metadata": {},
   "outputs": [],
   "source": [
    "TEST_CSV_PATH = \"C:/Users/Lenovo/PycharmProjects/AI_PROJECT/data/test.csv\"\n",
    "train_dft = pd.read_csv(TEST_CSV_PATH)\n",
    "# test_df = pd.read_csv(TEST_CSV_PATH)"
   ]
  },
  {
   "cell_type": "code",
   "execution_count": null,
   "id": "9b636e26",
   "metadata": {},
   "outputs": [],
   "source": [
    "featurest = train_dft[[\"budget\", \"popularity\"]]\n",
    "featurest.columns"
   ]
  },
  {
   "cell_type": "code",
   "execution_count": null,
   "id": "adf1fda3",
   "metadata": {},
   "outputs": [],
   "source": [
    "# \n",
    "TRAIN / VALIDATION / TEST split \n"
   ]
  },
  {
   "cell_type": "code",
   "execution_count": null,
   "id": "87282e5a",
   "metadata": {},
   "outputs": [],
   "source": [
    "featurest = featurest[(featurest[\"budget\"] > 0) & (featurest[\"popularity\"] > 0)]\n",
    "\n",
    "featurest.dropna(subset=[\"budget\", \"popularity\"], inplace=True)\n",
    "# features.dropna(subset=[], inplace=True)\n",
    "\n",
    "featurest.sample(10)"
   ]
  },
  {
   "cell_type": "code",
   "execution_count": null,
   "id": "d630ffcb",
   "metadata": {},
   "outputs": [],
   "source": [
    "# standard scaling\n",
    "featurest['budget'] = ((features.budget - features.budget.mean()) /  features.budget.std())\n",
    "featurest['popularity'] = ((features.popularity - features.popularity.mean()) /  featurest.popularity.std())"
   ]
  },
  {
   "cell_type": "code",
   "execution_count": null,
   "id": "8f0a805b",
   "metadata": {},
   "outputs": [],
   "source": [
    "featurest.budget.hist(bins=20)"
   ]
  },
  {
   "cell_type": "code",
   "execution_count": null,
   "id": "98d6d347",
   "metadata": {},
   "outputs": [],
   "source": [
    "featurest.popularity.hist(bins=20)"
   ]
  },
  {
   "cell_type": "code",
   "execution_count": null,
   "id": "2b616358",
   "metadata": {},
   "outputs": [],
   "source": [
    "for i in budget:\n",
    "    \n",
    "    "
   ]
  }
 ],
 "metadata": {
  "kernelspec": {
   "display_name": "Python 3",
   "language": "python",
   "name": "python3"
  },
  "language_info": {
   "codemirror_mode": {
    "name": "ipython",
    "version": 3
   },
   "file_extension": ".py",
   "mimetype": "text/x-python",
   "name": "python",
   "nbconvert_exporter": "python",
   "pygments_lexer": "ipython3",
   "version": "3.9.4"
  }
 },
 "nbformat": 4,
 "nbformat_minor": 5
}
