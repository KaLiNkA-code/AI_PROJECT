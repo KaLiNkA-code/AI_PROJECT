{
 "cells": [
  {
   "cell_type": "code",
   "execution_count": 1,
   "id": "99b80010",
   "metadata": {},
   "outputs": [],
   "source": [
    "import os\n",
    "\n",
    "# Fix to be able to import python modules inside a notebook\n",
    "os.chdir(\"..\")"
   ]
  },
  {
   "cell_type": "code",
   "execution_count": 2,
   "id": "b957a8af",
   "metadata": {},
   "outputs": [
    {
     "data": {
      "text/plain": [
       "<function dir>"
      ]
     },
     "execution_count": 2,
     "metadata": {},
     "output_type": "execute_result"
    }
   ],
   "source": [
    "dir"
   ]
  },
  {
   "cell_type": "code",
   "execution_count": 3,
   "id": "615f066b",
   "metadata": {},
   "outputs": [
    {
     "name": "stdout",
     "output_type": "stream",
     "text": [
      "number of training examples: 6\n",
      " \n",
      " \n",
      " \n"
     ]
    }
   ],
   "source": [
    "import numpy as np\n",
    "from matplotlib import pyplot as plt\n",
    "\n",
    "x_train = np.array([1.0, 3.0, 1.5, 1.8, 2.5, 2.8])\n",
    "y_train = np.array([300, 500, 350, 380, 420, 475])\n",
    "\n",
    "m = len(x_train)  # m is the number of training examples\n",
    "print(f\"number of training examples: {m}\")\n",
    "\n",
    "print(\" \")\n",
    "print(\" \")\n",
    "print(\" \")"
   ]
  },
  {
   "cell_type": "code",
   "execution_count": 4,
   "id": "059d984e",
   "metadata": {
    "scrolled": true
   },
   "outputs": [
    {
     "name": "stdout",
     "output_type": "stream",
     "text": [
      "(x^(0), y^(0)) = (1.0, 300)\n",
      " \n",
      " \n",
      " \n",
      "w: 0\n",
      "b: 0\n"
     ]
    },
    {
     "data": {
      "image/png": "[encoded data removed]",
      "text/plain": [
       "<Figure size 432x288 with 1 Axes>"
      ]
     },
     "metadata": {
      "needs_background": "light"
     },
     "output_type": "display_data"
    }
   ],
   "source": [
    "i = 0\n",
    "x_i = x_train[i]\n",
    "y_i = y_train[i]\n",
    "print(f\"(x^({i}), y^({i})) = ({x_i}, {y_i})\")\n",
    "\n",
    "\n",
    "print(\" \")\n",
    "print(\" \")\n",
    "print(\" \")\n",
    "\n",
    "plt.scatter(x_train, y_train, marker=\"x\", c=\"r\")\n",
    "plt.title(\"Housing Prices\")  # Set the title\n",
    "plt.ylabel(\"Price (in 1000s of dollars)\")\n",
    "plt.xlabel(\"Size (1000 sqrt)\")\n",
    "# plt.show()\n",
    "\n",
    "w = 0\n",
    "b = 0\n",
    "print(f\"w: {w}\")\n",
    "print(f\"b: {b}\")\n",
    "\n",
    "\n",
    "def calculate_model_output(w, b, x):\n",
    "    m = x.shape  # the number of training examples\n",
    "    f_wb = np.zeros(m)\n",
    "    for i in range(len(x)):\n",
    "        f_wb[i] = w * x[i] + b\n",
    "    return f_wb\n",
    "\n",
    "\n",
    "#  Now Let's call the calculate_model_output func and plot the output\n",
    "tmp_f_wb = calculate_model_output(w, b, x_train)\n",
    "\n",
    "plt.plot(x_train, tmp_f_wb, c=\"b\", label=\"Our Prediction\")\n",
    "plt.scatter(x_train, y_train, marker=\"x\", c=\"r\", label=\"Actual price\")\n",
    "plt.xlabel(\"Sixe\")\n",
    "plt.ylabel(\"Price\")\n",
    "plt.legend()\n",
    "plt.show()"
   ]
  },
  {
   "cell_type": "code",
   "execution_count": 5,
   "id": "710fb627",
   "metadata": {},
   "outputs": [],
   "source": [
    "import pandas as pd"
   ]
  },
  {
   "cell_type": "code",
   "execution_count": 8,
   "id": "1599ee96",
   "metadata": {},
   "outputs": [],
   "source": [
    "TRAIN_CSV_PATH = \"data/train.csv\"\n",
    "train_df = pd.read_csv(TRAIN_CSV_PATH)"
   ]
  },
  {
   "cell_type": "code",
   "execution_count": 9,
   "id": "7528024c",
   "metadata": {},
   "outputs": [],
   "source": [
    "# train_df['crew'].unique()"
   ]
  },
  {
   "cell_type": "code",
   "execution_count": 10,
   "id": "010ac6d9",
   "metadata": {},
   "outputs": [
    {
     "data": {
      "text/plain": [
       "Index(['id', 'belongs_to_collection', 'budget', 'genres', 'homepage',\n",
       "       'imdb_id', 'original_language', 'original_title', 'overview',\n",
       "       'popularity', 'poster_path', 'production_companies',\n",
       "       'production_countries', 'release_date', 'runtime', 'spoken_languages',\n",
       "       'status', 'tagline', 'title', 'Keywords', 'cast', 'crew', 'revenue'],\n",
       "      dtype='object')"
      ]
     },
     "execution_count": 10,
     "metadata": {},
     "output_type": "execute_result"
    }
   ],
   "source": [
    "train_df.columns"
   ]
  },
  {
   "cell_type": "code",
   "execution_count": 11,
   "id": "224ce87c",
   "metadata": {
    "scrolled": false
   },
   "outputs": [
    {
     "data": {
      "text/html": [
       "<div>\n",
       "<style scoped>\n",
       "    .dataframe tbody tr th:only-of-type {\n",
       "        vertical-align: middle;\n",
       "    }\n",
       "\n",
       "    .dataframe tbody tr th {\n",
       "        vertical-align: top;\n",
       "    }\n",
       "\n",
       "    .dataframe thead th {\n",
       "        text-align: right;\n",
       "    }\n",
       "</style>\n",
       "<table border=\"1\" class=\"dataframe\">\n",
       "  <thead>\n",
       "    <tr style=\"text-align: right;\">\n",
       "      <th></th>\n",
       "      <th>budget</th>\n",
       "      <th>popularity</th>\n",
       "    </tr>\n",
       "  </thead>\n",
       "  <tbody>\n",
       "    <tr>\n",
       "      <th>1571</th>\n",
       "      <td>40000000</td>\n",
       "      <td>6.417385</td>\n",
       "    </tr>\n",
       "    <tr>\n",
       "      <th>2741</th>\n",
       "      <td>3800000</td>\n",
       "      <td>9.239882</td>\n",
       "    </tr>\n",
       "    <tr>\n",
       "      <th>1208</th>\n",
       "      <td>6000000</td>\n",
       "      <td>14.044122</td>\n",
       "    </tr>\n",
       "    <tr>\n",
       "      <th>476</th>\n",
       "      <td>18000000</td>\n",
       "      <td>2.471038</td>\n",
       "    </tr>\n",
       "    <tr>\n",
       "      <th>804</th>\n",
       "      <td>20000000</td>\n",
       "      <td>10.605851</td>\n",
       "    </tr>\n",
       "    <tr>\n",
       "      <th>881</th>\n",
       "      <td>200000000</td>\n",
       "      <td>17.285093</td>\n",
       "    </tr>\n",
       "    <tr>\n",
       "      <th>1079</th>\n",
       "      <td>7000000</td>\n",
       "      <td>6.868022</td>\n",
       "    </tr>\n",
       "    <tr>\n",
       "      <th>1054</th>\n",
       "      <td>17000000</td>\n",
       "      <td>6.590093</td>\n",
       "    </tr>\n",
       "    <tr>\n",
       "      <th>411</th>\n",
       "      <td>87000000</td>\n",
       "      <td>7.851669</td>\n",
       "    </tr>\n",
       "    <tr>\n",
       "      <th>759</th>\n",
       "      <td>23000000</td>\n",
       "      <td>9.604552</td>\n",
       "    </tr>\n",
       "  </tbody>\n",
       "</table>\n",
       "</div>"
      ],
      "text/plain": [
       "         budget  popularity\n",
       "1571   40000000    6.417385\n",
       "2741    3800000    9.239882\n",
       "1208    6000000   14.044122\n",
       "476    18000000    2.471038\n",
       "804    20000000   10.605851\n",
       "881   200000000   17.285093\n",
       "1079    7000000    6.868022\n",
       "1054   17000000    6.590093\n",
       "411    87000000    7.851669\n",
       "759    23000000    9.604552"
      ]
     },
     "execution_count": 11,
     "metadata": {},
     "output_type": "execute_result"
    }
   ],
   "source": [
    "features = train_df[[\"budget\", \"popularity\"]]\n",
    "features.columns\n",
    "features = features[features[\"budget\"] > 0]\n",
    "features = features[features[\"popularity\"] > 0]\n",
    "\n",
    "features.dropna(subset=[\"budget\"], inplace=True)\n",
    "features.dropna(subset=[\"popularity\"], inplace=True)\n",
    "\n",
    "features.sample(10)"
   ]
  },
  {
   "cell_type": "code",
   "execution_count": 12,
   "id": "5acb6325",
   "metadata": {},
   "outputs": [],
   "source": [
    "features\n",
    "\n",
    "# 1. Удалить строки с нулевым бюджетом (проверить, что нет пропусков NaN, Null)  Done\n",
    "\n",
    "\n",
    "# 2. Нормировать данные (min/max scaling, standard scaling)\n",
    "# 3. Написать функцию для подсчёта функции потерь\n",
    "# 4. Написать шаг оптимизации параметров MSE + градиентный спуск.\n",
    "\n",
    "# Подумать, что делать с не числовыми признаками? Как их интерпретировать?\n",
    "# binary encoding, OHE one hot encoding e.t.c.\n",
    "\n",
    "features.describe()\n",
    "\n",
    "w1 = 0.00000001\n",
    "w2 = 100"
   ]
  },
  {
   "cell_type": "code",
   "execution_count": 13,
   "id": "2c99faaf",
   "metadata": {},
   "outputs": [],
   "source": [
    "train_x = features.to_numpy()"
   ]
  },
  {
   "cell_type": "code",
   "execution_count": null,
   "id": "10c24e64",
   "metadata": {},
   "outputs": [],
   "source": []
  },
  {
   "cell_type": "code",
   "execution_count": 14,
   "id": "a9962866",
   "metadata": {},
   "outputs": [],
   "source": [
    "target = train_df[\"revenue\"]"
   ]
  },
  {
   "cell_type": "code",
   "execution_count": 15,
   "id": "bed99b8f",
   "metadata": {},
   "outputs": [
    {
     "data": {
      "text/plain": [
       "0        12314651\n",
       "1        95149435\n",
       "2        13092000\n",
       "3        16000000\n",
       "4         3923970\n",
       "          ...    \n",
       "2995      1596687\n",
       "2996       180590\n",
       "2997     89456761\n",
       "2998    171963386\n",
       "2999     82087155\n",
       "Name: revenue, Length: 3000, dtype: int64"
      ]
     },
     "execution_count": 15,
     "metadata": {},
     "output_type": "execute_result"
    }
   ],
   "source": [
    "target"
   ]
  },
  {
   "cell_type": "code",
   "execution_count": 16,
   "id": "a4682919",
   "metadata": {},
   "outputs": [
    {
     "data": {
      "image/png": "[encoded data removed]",
      "text/plain": [
       "<Figure size 432x288 with 1 Axes>"
      ]
     },
     "metadata": {
      "needs_background": "light"
     },
     "output_type": "display_data"
    }
   ],
   "source": [
    "import numpy as np\n",
    "import matplotlib.pyplot as plt\n",
    "\n",
    "# MSE loss function\n",
    "def mse_loss(val_pred, val_true):\n",
    "    squared_error = (val_pred - val_true) ** 2\n",
    "    sum_squared_error = np.sum(squared_error)\n",
    "    loss = sum_squared_error / val_true.size\n",
    "    return loss\n",
    "\n",
    "\n",
    "# Plotting\n",
    "x_vals = np.arange(-20, 20, 0.01)\n",
    "y_vals = np.square(x_vals)\n",
    "\n",
    "\n",
    "plt.plot(x_vals, y_vals, \"blue\")\n",
    "plt.plot(x_vals, y_vals, \"blue\")\n",
    "plt.grid(True, which=\"major\")\n",
    "plt.show()"
   ]
  },
  {
   "cell_type": "code",
   "execution_count": 50,
   "id": "6415b6ec",
   "metadata": {
    "scrolled": false
   },
   "outputs": [
    {
     "ename": "ValueError",
     "evalue": "x and y must have same first dimension, but have shapes (2188,) and (6,)",
     "output_type": "error",
     "traceback": [
      "\u001b[1;31m---------------------------------------------------------------------------\u001b[0m",
      "\u001b[1;31mValueError\u001b[0m                                Traceback (most recent call last)",
      "\u001b[1;32m~\\AppData\\Local\\Temp/ipykernel_36364/3104877907.py\u001b[0m in \u001b[0;36m<module>\u001b[1;34m\u001b[0m\n\u001b[0;32m     12\u001b[0m \u001b[1;33m\u001b[0m\u001b[0m\n\u001b[0;32m     13\u001b[0m \u001b[1;33m\u001b[0m\u001b[0m\n\u001b[1;32m---> 14\u001b[1;33m \u001b[0mplt\u001b[0m\u001b[1;33m.\u001b[0m\u001b[0mplot\u001b[0m\u001b[1;33m(\u001b[0m\u001b[0mx_train\u001b[0m\u001b[1;33m,\u001b[0m \u001b[0mtmp_f_wb\u001b[0m\u001b[1;33m,\u001b[0m \u001b[0mc\u001b[0m\u001b[1;33m=\u001b[0m\u001b[1;34m'b'\u001b[0m\u001b[1;33m,\u001b[0m \u001b[0mlabel\u001b[0m\u001b[1;33m=\u001b[0m\u001b[1;34m'Our Prediction'\u001b[0m\u001b[1;33m)\u001b[0m\u001b[1;33m\u001b[0m\u001b[1;33m\u001b[0m\u001b[0m\n\u001b[0m\u001b[0;32m     15\u001b[0m \u001b[0mplt\u001b[0m\u001b[1;33m.\u001b[0m\u001b[0mscatter\u001b[0m\u001b[1;33m(\u001b[0m\u001b[0mx_train\u001b[0m\u001b[1;33m,\u001b[0m \u001b[0my_train\u001b[0m\u001b[1;33m,\u001b[0m \u001b[0mmarker\u001b[0m\u001b[1;33m=\u001b[0m\u001b[1;34m'x'\u001b[0m\u001b[1;33m,\u001b[0m \u001b[0mc\u001b[0m\u001b[1;33m=\u001b[0m\u001b[1;34m'r'\u001b[0m\u001b[1;33m,\u001b[0m \u001b[0mlabel\u001b[0m\u001b[1;33m=\u001b[0m\u001b[1;34m'Actual price'\u001b[0m\u001b[1;33m)\u001b[0m\u001b[1;33m\u001b[0m\u001b[1;33m\u001b[0m\u001b[0m\n\u001b[0;32m     16\u001b[0m \u001b[0mplt\u001b[0m\u001b[1;33m.\u001b[0m\u001b[0mxlabel\u001b[0m\u001b[1;33m(\u001b[0m\u001b[1;34m'Sixe'\u001b[0m\u001b[1;33m)\u001b[0m\u001b[1;33m\u001b[0m\u001b[1;33m\u001b[0m\u001b[0m\n",
      "\u001b[1;32m~\\anaconda3\\lib\\site-packages\\matplotlib\\pyplot.py\u001b[0m in \u001b[0;36mplot\u001b[1;34m(scalex, scaley, data, *args, **kwargs)\u001b[0m\n\u001b[0;32m   3017\u001b[0m \u001b[1;33m@\u001b[0m\u001b[0m_copy_docstring_and_deprecators\u001b[0m\u001b[1;33m(\u001b[0m\u001b[0mAxes\u001b[0m\u001b[1;33m.\u001b[0m\u001b[0mplot\u001b[0m\u001b[1;33m)\u001b[0m\u001b[1;33m\u001b[0m\u001b[1;33m\u001b[0m\u001b[0m\n\u001b[0;32m   3018\u001b[0m \u001b[1;32mdef\u001b[0m \u001b[0mplot\u001b[0m\u001b[1;33m(\u001b[0m\u001b[1;33m*\u001b[0m\u001b[0margs\u001b[0m\u001b[1;33m,\u001b[0m \u001b[0mscalex\u001b[0m\u001b[1;33m=\u001b[0m\u001b[1;32mTrue\u001b[0m\u001b[1;33m,\u001b[0m \u001b[0mscaley\u001b[0m\u001b[1;33m=\u001b[0m\u001b[1;32mTrue\u001b[0m\u001b[1;33m,\u001b[0m \u001b[0mdata\u001b[0m\u001b[1;33m=\u001b[0m\u001b[1;32mNone\u001b[0m\u001b[1;33m,\u001b[0m \u001b[1;33m**\u001b[0m\u001b[0mkwargs\u001b[0m\u001b[1;33m)\u001b[0m\u001b[1;33m:\u001b[0m\u001b[1;33m\u001b[0m\u001b[1;33m\u001b[0m\u001b[0m\n\u001b[1;32m-> 3019\u001b[1;33m     return gca().plot(\n\u001b[0m\u001b[0;32m   3020\u001b[0m         \u001b[1;33m*\u001b[0m\u001b[0margs\u001b[0m\u001b[1;33m,\u001b[0m \u001b[0mscalex\u001b[0m\u001b[1;33m=\u001b[0m\u001b[0mscalex\u001b[0m\u001b[1;33m,\u001b[0m \u001b[0mscaley\u001b[0m\u001b[1;33m=\u001b[0m\u001b[0mscaley\u001b[0m\u001b[1;33m,\u001b[0m\u001b[1;33m\u001b[0m\u001b[1;33m\u001b[0m\u001b[0m\n\u001b[0;32m   3021\u001b[0m         **({\"data\": data} if data is not None else {}), **kwargs)\n",
      "\u001b[1;32m~\\anaconda3\\lib\\site-packages\\matplotlib\\axes\\_axes.py\u001b[0m in \u001b[0;36mplot\u001b[1;34m(self, scalex, scaley, data, *args, **kwargs)\u001b[0m\n\u001b[0;32m   1603\u001b[0m         \"\"\"\n\u001b[0;32m   1604\u001b[0m         \u001b[0mkwargs\u001b[0m \u001b[1;33m=\u001b[0m \u001b[0mcbook\u001b[0m\u001b[1;33m.\u001b[0m\u001b[0mnormalize_kwargs\u001b[0m\u001b[1;33m(\u001b[0m\u001b[0mkwargs\u001b[0m\u001b[1;33m,\u001b[0m \u001b[0mmlines\u001b[0m\u001b[1;33m.\u001b[0m\u001b[0mLine2D\u001b[0m\u001b[1;33m)\u001b[0m\u001b[1;33m\u001b[0m\u001b[1;33m\u001b[0m\u001b[0m\n\u001b[1;32m-> 1605\u001b[1;33m         \u001b[0mlines\u001b[0m \u001b[1;33m=\u001b[0m \u001b[1;33m[\u001b[0m\u001b[1;33m*\u001b[0m\u001b[0mself\u001b[0m\u001b[1;33m.\u001b[0m\u001b[0m_get_lines\u001b[0m\u001b[1;33m(\u001b[0m\u001b[1;33m*\u001b[0m\u001b[0margs\u001b[0m\u001b[1;33m,\u001b[0m \u001b[0mdata\u001b[0m\u001b[1;33m=\u001b[0m\u001b[0mdata\u001b[0m\u001b[1;33m,\u001b[0m \u001b[1;33m**\u001b[0m\u001b[0mkwargs\u001b[0m\u001b[1;33m)\u001b[0m\u001b[1;33m]\u001b[0m\u001b[1;33m\u001b[0m\u001b[1;33m\u001b[0m\u001b[0m\n\u001b[0m\u001b[0;32m   1606\u001b[0m         \u001b[1;32mfor\u001b[0m \u001b[0mline\u001b[0m \u001b[1;32min\u001b[0m \u001b[0mlines\u001b[0m\u001b[1;33m:\u001b[0m\u001b[1;33m\u001b[0m\u001b[1;33m\u001b[0m\u001b[0m\n\u001b[0;32m   1607\u001b[0m             \u001b[0mself\u001b[0m\u001b[1;33m.\u001b[0m\u001b[0madd_line\u001b[0m\u001b[1;33m(\u001b[0m\u001b[0mline\u001b[0m\u001b[1;33m)\u001b[0m\u001b[1;33m\u001b[0m\u001b[1;33m\u001b[0m\u001b[0m\n",
      "\u001b[1;32m~\\anaconda3\\lib\\site-packages\\matplotlib\\axes\\_base.py\u001b[0m in \u001b[0;36m__call__\u001b[1;34m(self, data, *args, **kwargs)\u001b[0m\n\u001b[0;32m    313\u001b[0m                 \u001b[0mthis\u001b[0m \u001b[1;33m+=\u001b[0m \u001b[0margs\u001b[0m\u001b[1;33m[\u001b[0m\u001b[1;36m0\u001b[0m\u001b[1;33m]\u001b[0m\u001b[1;33m,\u001b[0m\u001b[1;33m\u001b[0m\u001b[1;33m\u001b[0m\u001b[0m\n\u001b[0;32m    314\u001b[0m                 \u001b[0margs\u001b[0m \u001b[1;33m=\u001b[0m \u001b[0margs\u001b[0m\u001b[1;33m[\u001b[0m\u001b[1;36m1\u001b[0m\u001b[1;33m:\u001b[0m\u001b[1;33m]\u001b[0m\u001b[1;33m\u001b[0m\u001b[1;33m\u001b[0m\u001b[0m\n\u001b[1;32m--> 315\u001b[1;33m             \u001b[1;32myield\u001b[0m \u001b[1;32mfrom\u001b[0m \u001b[0mself\u001b[0m\u001b[1;33m.\u001b[0m\u001b[0m_plot_args\u001b[0m\u001b[1;33m(\u001b[0m\u001b[0mthis\u001b[0m\u001b[1;33m,\u001b[0m \u001b[0mkwargs\u001b[0m\u001b[1;33m)\u001b[0m\u001b[1;33m\u001b[0m\u001b[1;33m\u001b[0m\u001b[0m\n\u001b[0m\u001b[0;32m    316\u001b[0m \u001b[1;33m\u001b[0m\u001b[0m\n\u001b[0;32m    317\u001b[0m     \u001b[1;32mdef\u001b[0m \u001b[0mget_next_color\u001b[0m\u001b[1;33m(\u001b[0m\u001b[0mself\u001b[0m\u001b[1;33m)\u001b[0m\u001b[1;33m:\u001b[0m\u001b[1;33m\u001b[0m\u001b[1;33m\u001b[0m\u001b[0m\n",
      "\u001b[1;32m~\\anaconda3\\lib\\site-packages\\matplotlib\\axes\\_base.py\u001b[0m in \u001b[0;36m_plot_args\u001b[1;34m(self, tup, kwargs, return_kwargs)\u001b[0m\n\u001b[0;32m    499\u001b[0m \u001b[1;33m\u001b[0m\u001b[0m\n\u001b[0;32m    500\u001b[0m         \u001b[1;32mif\u001b[0m \u001b[0mx\u001b[0m\u001b[1;33m.\u001b[0m\u001b[0mshape\u001b[0m\u001b[1;33m[\u001b[0m\u001b[1;36m0\u001b[0m\u001b[1;33m]\u001b[0m \u001b[1;33m!=\u001b[0m \u001b[0my\u001b[0m\u001b[1;33m.\u001b[0m\u001b[0mshape\u001b[0m\u001b[1;33m[\u001b[0m\u001b[1;36m0\u001b[0m\u001b[1;33m]\u001b[0m\u001b[1;33m:\u001b[0m\u001b[1;33m\u001b[0m\u001b[1;33m\u001b[0m\u001b[0m\n\u001b[1;32m--> 501\u001b[1;33m             raise ValueError(f\"x and y must have same first dimension, but \"\n\u001b[0m\u001b[0;32m    502\u001b[0m                              f\"have shapes {x.shape} and {y.shape}\")\n\u001b[0;32m    503\u001b[0m         \u001b[1;32mif\u001b[0m \u001b[0mx\u001b[0m\u001b[1;33m.\u001b[0m\u001b[0mndim\u001b[0m \u001b[1;33m>\u001b[0m \u001b[1;36m2\u001b[0m \u001b[1;32mor\u001b[0m \u001b[0my\u001b[0m\u001b[1;33m.\u001b[0m\u001b[0mndim\u001b[0m \u001b[1;33m>\u001b[0m \u001b[1;36m2\u001b[0m\u001b[1;33m:\u001b[0m\u001b[1;33m\u001b[0m\u001b[1;33m\u001b[0m\u001b[0m\n",
      "\u001b[1;31mValueError\u001b[0m: x and y must have same first dimension, but have shapes (2188,) and (6,)"
     ]
    },
    {
     "data": {
      "image/png": "[encoded data removed]",
      "text/plain": [
       "<Figure size 432x288 with 1 Axes>"
      ]
     },
     "metadata": {
      "needs_background": "light"
     },
     "output_type": "display_data"
    }
   ],
   "source": [
    "x_train = list(features[\"budget\"].values)\n",
    "y_train = list(features[\"popularity\"].values)\n",
    "\n",
    "\n",
    "def calculate_model_output(w, b, x):\n",
    "    m = x.shape  # the number of training examples\n",
    "    f_wb = np.zeros(m)\n",
    "    for i in range(len(x)):\n",
    "        f_wb[i] = w * x[i] + b\n",
    "    return f_wb\n",
    "\n",
    "\n",
    "plt.plot(x_train, tmp_f_wb, c=\"b\", label=\"Our Prediction\")\n",
    "plt.scatter(x_train, y_train, marker=\"x\", c=\"r\", label=\"Actual price\")\n",
    "plt.xlabel(\"Sixe\")\n",
    "plt.ylabel(\"Price\")\n",
    "plt.legend()\n",
    "plt.show()"
   ]
  },
  {
   "cell_type": "code",
   "execution_count": 18,
   "id": "0effc88a",
   "metadata": {},
   "outputs": [],
   "source": [
    "#  --------------------------------------------------------"
   ]
  },
  {
   "cell_type": "code",
   "execution_count": 19,
   "id": "9b636e26",
   "metadata": {
    "scrolled": true
   },
   "outputs": [],
   "source": [
    "\n",
    "import os\n",
    "\n",
    "# Fix to be able to import python modules inside a notebook\n",
    "os.chdir(\"..\")\n"
   ]
  },
  {
   "cell_type": "code",
   "execution_count": 20,
   "id": "59559f58",
   "metadata": {},
   "outputs": [
    {
     "name": "stdout",
     "output_type": "stream",
     "text": [
      "number of training examples: 6\n",
      " \n",
      " \n",
      " \n",
      "(x^(0), y^(0)) = (1.0, 300)\n",
      " \n",
      " \n",
      " \n",
      "w: 0\n",
      "b: 0\n"
     ]
    },
    {
     "data": {
      "image/png": "[encoded data removed]",
      "text/plain": [
       "<Figure size 432x288 with 1 Axes>"
      ]
     },
     "metadata": {
      "needs_background": "light"
     },
     "output_type": "display_data"
    }
   ],
   "source": [
    "import numpy as np\n",
    "from matplotlib import pyplot as plt\n",
    "\n",
    "x_train = np.array([1.0, 3.0, 1.5, 1.8, 2.5, 2.8])\n",
    "y_train = np.array([300, 500, 350, 380, 420, 475])\n",
    "\n",
    "m = len(x_train)  # m is the number of training examples\n",
    "print(f\"number of training examples: {m}\")\n",
    "\n",
    "print(\" \")\n",
    "print(\" \")\n",
    "print(\" \")\n",
    "i = 0\n",
    "x_i = x_train[i]\n",
    "y_i = y_train[i]\n",
    "print(f\"(x^({i}), y^({i})) = ({x_i}, {y_i})\")\n",
    "\n",
    "\n",
    "print(\" \")\n",
    "print(\" \")\n",
    "print(\" \")\n",
    "\n",
    "plt.scatter(x_train, y_train, marker=\"x\", c=\"r\")\n",
    "plt.title(\"Housing Prices\")  # Set the title\n",
    "plt.ylabel(\"Price (in 1000s of dollars)\")\n",
    "plt.xlabel(\"Size (1000 sqrt)\")\n",
    "# plt.show()\n",
    "\n",
    "w = 0\n",
    "b = 0\n",
    "print(f\"w: {w}\")\n",
    "print(f\"b: {b}\")\n",
    "\n",
    "\n"
   ]
  },
  {
   "cell_type": "code",
   "execution_count": 21,
   "id": "85196ed3",
   "metadata": {},
   "outputs": [
    {
     "data": {
      "image/png": "[encoded data removed]",
      "text/plain": [
       "<Figure size 432x288 with 1 Axes>"
      ]
     },
     "metadata": {
      "needs_background": "light"
     },
     "output_type": "display_data"
    }
   ],
   "source": [
    "def calculate_model_output(w, b, x):\n",
    "    m = x.shape  # the number of training examples\n",
    "    f_wb = np.zeros(m)\n",
    "    for i in range(len(x)):\n",
    "        f_wb[i] = w * x[i] + b\n",
    "    return f_wb\n",
    "\n",
    "\n",
    "#  Now Let's call the calculate_model_output func and plot the output\n",
    "tmp_f_wb = calculate_model_output(w, b, x_train)\n",
    "\n",
    "plt.plot(x_train, tmp_f_wb, c=\"b\", label=\"Our Prediction\")\n",
    "plt.scatter(x_train, y_train, marker=\"x\", c=\"r\", label=\"Actual price\")\n",
    "plt.xlabel(\"Sixe\")\n",
    "plt.ylabel(\"Price\")\n",
    "plt.legend()\n",
    "plt.show()\n",
    "import pandas as pd\n",
    "# TRAIN_CSV_PATH = \"C:/Users/Lenovo/PycharmProjects/AI_PROJECT/notebooks/train.csv\"\n",
    "\n",
    "\n",
    " "
   ]
  },
  {
   "cell_type": "code",
   "execution_count": 24,
   "id": "2f7e024a",
   "metadata": {},
   "outputs": [],
   "source": [
    "TRAIN_CSV_PATH = \"C:/Users/Lenovo/PycharmProjects/AI_PROJECT/data/train.csv\"\n",
    "train_df = pd.read_csv(TRAIN_CSV_PATH)\n",
    "# train_df['crew'].unique()\n",
    "train_df.columns\n",
    "features = train_df[[\"budget\", \"popularity\", 'revenue']]\n",
    "features.columns\n",
    "features = features[(features[\"budget\"] > 0) & (features[\"popularity\"] > 0)]\n",
    "\n",
    "features.dropna(subset=[\"budget\", \"popularity\"], inplace=True)\n",
    "# features.dropna(subset=[], inplace=True)\n",
    "\n"
   ]
  },
  {
   "cell_type": "code",
   "execution_count": 27,
   "id": "73314013",
   "metadata": {},
   "outputs": [
    {
     "data": {
      "text/html": [
       "<div>\n",
       "<style scoped>\n",
       "    .dataframe tbody tr th:only-of-type {\n",
       "        vertical-align: middle;\n",
       "    }\n",
       "\n",
       "    .dataframe tbody tr th {\n",
       "        vertical-align: top;\n",
       "    }\n",
       "\n",
       "    .dataframe thead th {\n",
       "        text-align: right;\n",
       "    }\n",
       "</style>\n",
       "<table border=\"1\" class=\"dataframe\">\n",
       "  <thead>\n",
       "    <tr style=\"text-align: right;\">\n",
       "      <th></th>\n",
       "      <th>budget</th>\n",
       "      <th>popularity</th>\n",
       "      <th>revenue</th>\n",
       "    </tr>\n",
       "  </thead>\n",
       "  <tbody>\n",
       "    <tr>\n",
       "      <th>1510</th>\n",
       "      <td>0.921503</td>\n",
       "      <td>0.092755</td>\n",
       "      <td>0.199994</td>\n",
       "    </tr>\n",
       "    <tr>\n",
       "      <th>2930</th>\n",
       "      <td>-0.369850</td>\n",
       "      <td>0.396411</td>\n",
       "      <td>-0.360845</td>\n",
       "    </tr>\n",
       "    <tr>\n",
       "      <th>1682</th>\n",
       "      <td>-0.494018</td>\n",
       "      <td>-0.144306</td>\n",
       "      <td>-0.473912</td>\n",
       "    </tr>\n",
       "    <tr>\n",
       "      <th>1698</th>\n",
       "      <td>0.474496</td>\n",
       "      <td>0.062713</td>\n",
       "      <td>0.212975</td>\n",
       "    </tr>\n",
       "    <tr>\n",
       "      <th>2613</th>\n",
       "      <td>-0.071845</td>\n",
       "      <td>-0.377201</td>\n",
       "      <td>-0.502137</td>\n",
       "    </tr>\n",
       "    <tr>\n",
       "      <th>114</th>\n",
       "      <td>1.542346</td>\n",
       "      <td>1.626498</td>\n",
       "      <td>5.044672</td>\n",
       "    </tr>\n",
       "    <tr>\n",
       "      <th>1124</th>\n",
       "      <td>1.840350</td>\n",
       "      <td>0.759835</td>\n",
       "      <td>2.068367</td>\n",
       "    </tr>\n",
       "    <tr>\n",
       "      <th>2943</th>\n",
       "      <td>0.176492</td>\n",
       "      <td>0.255716</td>\n",
       "      <td>-0.373299</td>\n",
       "    </tr>\n",
       "    <tr>\n",
       "      <th>1913</th>\n",
       "      <td>-0.605770</td>\n",
       "      <td>-0.404588</td>\n",
       "      <td>-0.549337</td>\n",
       "    </tr>\n",
       "    <tr>\n",
       "      <th>1281</th>\n",
       "      <td>-0.543686</td>\n",
       "      <td>-0.063090</td>\n",
       "      <td>-0.559298</td>\n",
       "    </tr>\n",
       "  </tbody>\n",
       "</table>\n",
       "</div>"
      ],
      "text/plain": [
       "        budget  popularity   revenue\n",
       "1510  0.921503    0.092755  0.199994\n",
       "2930 -0.369850    0.396411 -0.360845\n",
       "1682 -0.494018   -0.144306 -0.473912\n",
       "1698  0.474496    0.062713  0.212975\n",
       "2613 -0.071845   -0.377201 -0.502137\n",
       "114   1.542346    1.626498  5.044672\n",
       "1124  1.840350    0.759835  2.068367\n",
       "2943  0.176492    0.255716 -0.373299\n",
       "1913 -0.605770   -0.404588 -0.549337\n",
       "1281 -0.543686   -0.063090 -0.559298"
      ]
     },
     "execution_count": 27,
     "metadata": {},
     "output_type": "execute_result"
    }
   ],
   "source": [
    "features.sample(10)\n",
    "# standard scaling\n",
    "features['budget'] = ((features.budget - features.budget.mean()) /  features.budget.std())\n",
    "features['popularity'] = ((features.popularity - features.popularity.mean()) /  features.popularity.std())\n",
    "features['revenue'] = ((features.revenue - features.revenue.mean()) /  features.revenue.std())\n",
    "features.sample(10)\n",
    "\n",
    "# 1. Удалить строки с нулевым бюджетом (проверить, что нет пропусков NaN, Null)  Done\n",
    "# 2. Нормировать данные (min/max scaling, standard scaling)\n",
    "# 3. Написать функцию для подсчёта функции потерь\n",
    "# 4. Написать шаг оптимизации параметров MSE + градиентный спуск.\n",
    "\n",
    "# Подумать, что делать с не числовыми признаками? Как их интерпретировать?\n",
    "# binary encoding, OHE one hot encoding e.t.c.\n",
    "\n"
   ]
  },
  {
   "cell_type": "code",
   "execution_count": 28,
   "id": "6821279f",
   "metadata": {},
   "outputs": [],
   "source": [
    "features.describe()\n",
    "\n",
    "w1 = 0.00000001\n",
    "w2 = 100\n",
    "# \n",
    "train_x = features.to_numpy()\n",
    " \n",
    "target = train_df[\"revenue\"]\n",
    "target\n",
    "import numpy as np\n",
    "import matplotlib.pyplot as plt\n",
    "\n",
    "# MSE loss function\n",
    "def mse_loss(val_pred, val_true):\n",
    "    squared_error = (val_pred - val_true) ** 2\n",
    "#     sum_squared_error = np.sum(squared_error)\n",
    "#     loss = sum_squared_error / val_true.size\n",
    "    loss = squared_error.mean()\n",
    "    return loss\n",
    "\n",
    "\n",
    "# Plotting\n",
    "x_vals = np.arange(-20, 20, 0.01)\n",
    "y_vals = np.square(x_vals)\n",
    "\n",
    "\n"
   ]
  },
  {
   "cell_type": "code",
   "execution_count": 29,
   "id": "b28ce170",
   "metadata": {},
   "outputs": [
    {
     "data": {
      "text/plain": [
       "count    2.188000e+03\n",
       "mean     2.659486e-17\n",
       "std      1.000000e+00\n",
       "min     -7.051814e-01\n",
       "25%     -3.128333e-01\n",
       "50%     -1.001528e-01\n",
       "75%      1.422677e-01\n",
       "max      2.069550e+01\n",
       "Name: popularity, dtype: float64"
      ]
     },
     "execution_count": 29,
     "metadata": {},
     "output_type": "execute_result"
    },
    {
     "data": {
      "image/png": "[encoded data removed]",
      "text/plain": [
       "<Figure size 432x288 with 1 Axes>"
      ]
     },
     "metadata": {
      "needs_background": "light"
     },
     "output_type": "display_data"
    }
   ],
   "source": [
    "features.budget.hist(bins=20)\n",
    "features.popularity.hist(bins=20, )\n",
    "features[features.popularity > 50]\n",
    "features.popularity.min(), features.popularity.max()\n",
    "((features.popularity - features.popularity.min()) / (features.popularity.max() - features.popularity.min())).describe()\n",
    "features.popularity.describe()\n",
    "\n"
   ]
  },
  {
   "cell_type": "code",
   "execution_count": 31,
   "id": "c64c78f4",
   "metadata": {},
   "outputs": [
    {
     "data": {
      "text/html": [
       "<div>\n",
       "<style scoped>\n",
       "    .dataframe tbody tr th:only-of-type {\n",
       "        vertical-align: middle;\n",
       "    }\n",
       "\n",
       "    .dataframe tbody tr th {\n",
       "        vertical-align: top;\n",
       "    }\n",
       "\n",
       "    .dataframe thead th {\n",
       "        text-align: right;\n",
       "    }\n",
       "</style>\n",
       "<table border=\"1\" class=\"dataframe\">\n",
       "  <thead>\n",
       "    <tr style=\"text-align: right;\">\n",
       "      <th></th>\n",
       "      <th>budget</th>\n",
       "      <th>popularity</th>\n",
       "      <th>revenue</th>\n",
       "    </tr>\n",
       "  </thead>\n",
       "  <tbody>\n",
       "    <tr>\n",
       "      <th>0</th>\n",
       "      <td>-0.419517</td>\n",
       "      <td>-0.227231</td>\n",
       "      <td>-0.480100</td>\n",
       "    </tr>\n",
       "    <tr>\n",
       "      <th>1</th>\n",
       "      <td>0.226159</td>\n",
       "      <td>-0.105553</td>\n",
       "      <td>0.052629</td>\n",
       "    </tr>\n",
       "    <tr>\n",
       "      <th>2</th>\n",
       "      <td>-0.685238</td>\n",
       "      <td>3.969841</td>\n",
       "      <td>-0.475101</td>\n",
       "    </tr>\n",
       "    <tr>\n",
       "      <th>3</th>\n",
       "      <td>-0.737389</td>\n",
       "      <td>-0.474473</td>\n",
       "      <td>-0.456399</td>\n",
       "    </tr>\n",
       "    <tr>\n",
       "      <th>5</th>\n",
       "      <td>-0.568519</td>\n",
       "      <td>-0.651276</td>\n",
       "      <td>-0.538322</td>\n",
       "    </tr>\n",
       "    <tr>\n",
       "      <th>...</th>\n",
       "      <td>...</td>\n",
       "      <td>...</td>\n",
       "      <td>...</td>\n",
       "    </tr>\n",
       "    <tr>\n",
       "      <th>2992</th>\n",
       "      <td>-0.738987</td>\n",
       "      <td>-0.423317</td>\n",
       "      <td>-0.551492</td>\n",
       "    </tr>\n",
       "    <tr>\n",
       "      <th>2993</th>\n",
       "      <td>0.722833</td>\n",
       "      <td>0.319318</td>\n",
       "      <td>0.851824</td>\n",
       "    </tr>\n",
       "    <tr>\n",
       "      <th>2997</th>\n",
       "      <td>0.847002</td>\n",
       "      <td>0.347672</td>\n",
       "      <td>0.016018</td>\n",
       "    </tr>\n",
       "    <tr>\n",
       "      <th>2998</th>\n",
       "      <td>0.275827</td>\n",
       "      <td>0.438063</td>\n",
       "      <td>0.546638</td>\n",
       "    </tr>\n",
       "    <tr>\n",
       "      <th>2999</th>\n",
       "      <td>0.101991</td>\n",
       "      <td>0.059002</td>\n",
       "      <td>-0.031377</td>\n",
       "    </tr>\n",
       "  </tbody>\n",
       "</table>\n",
       "<p>2188 rows × 3 columns</p>\n",
       "</div>"
      ],
      "text/plain": [
       "        budget  popularity   revenue\n",
       "0    -0.419517   -0.227231 -0.480100\n",
       "1     0.226159   -0.105553  0.052629\n",
       "2    -0.685238    3.969841 -0.475101\n",
       "3    -0.737389   -0.474473 -0.456399\n",
       "5    -0.568519   -0.651276 -0.538322\n",
       "...        ...         ...       ...\n",
       "2992 -0.738987   -0.423317 -0.551492\n",
       "2993  0.722833    0.319318  0.851824\n",
       "2997  0.847002    0.347672  0.016018\n",
       "2998  0.275827    0.438063  0.546638\n",
       "2999  0.101991    0.059002 -0.031377\n",
       "\n",
       "[2188 rows x 3 columns]"
      ]
     },
     "execution_count": 31,
     "metadata": {},
     "output_type": "execute_result"
    }
   ],
   "source": [
    "# Min / max scaling\n",
    "((features.budget - features.budget.min()) / (features.budget.max() - features.budget.min())).describe()\n",
    "# standard scaling\n",
    "((features.budget - features.budget.mean()) /  features.budget.std()).describe()\n",
    "train_df[train_df.popularity > 60][['original_title', 'popularity']]\n",
    "features"
   ]
  },
  {
   "cell_type": "code",
   "execution_count": 42,
   "id": "d7f7f2d2",
   "metadata": {},
   "outputs": [
    {
     "data": {
      "image/png": "[encoded data removed]",
      "text/plain": [
       "<Figure size 432x288 with 1 Axes>"
      ]
     },
     "metadata": {
      "needs_background": "light"
     },
     "output_type": "display_data"
    },
    {
     "data": {
      "text/plain": [
       "(array([[-0.41951715, -0.22723076,  1.        ],\n",
       "        [ 0.22615922, -0.10555286,  1.        ],\n",
       "        [-0.68523781,  3.96984103,  1.        ],\n",
       "        ...,\n",
       "        [ 0.84700188,  0.34767226,  1.        ],\n",
       "        [ 0.27582663,  0.43806331,  1.        ],\n",
       "        [ 0.10199069,  0.05900215,  1.        ]]),\n",
       " array([-0.48010035,  0.05262927, -0.47510104, ...,  0.01601837,\n",
       "         0.54663752, -0.03137727]))"
      ]
     },
     "execution_count": 42,
     "metadata": {},
     "output_type": "execute_result"
    }
   ],
   "source": [
    "plt.plot(x_vals, y_vals, \"blue\")\n",
    "plt.plot(x_vals, y_vals, \"blue\")\n",
    "plt.grid(True, which=\"major\")\n",
    "plt.show()\n",
    "x_train = features[['budget', 'popularity']]\n",
    "y_train = features['revenue'].to_numpy()\n",
    "\n",
    "X = np.concatenate([x_train.to_numpy(), np.ones([len(x_train), 1])], axis=1)\n",
    "# features.to_numpy().shape, np.ones([len(features), 1]).shape\n",
    "X @ w\n",
    "X, y_train\n",
    "# w = random_normal()             # можно пробовать и другие виды инициализации\n",
    "# repeat S times:                 # другой вариант: while abs(err) > tolerance\n",
    "#    f = X.dot(w)                 # посчитать предсказание\n",
    "#    err = f - y                  # посчитать ошибку\n",
    "#    grad = 2 * X.T.dot(err) / N  # посчитать градиент\n",
    "#    w -= alpha * grad            # обновить веса\n",
    "\n"
   ]
  },
  {
   "cell_type": "code",
   "execution_count": 43,
   "id": "d0f7c1c8",
   "metadata": {},
   "outputs": [
    {
     "name": "stdout",
     "output_type": "stream",
     "text": [
      "0.4863236502960578\n",
      "0.06449602652337845\n",
      "0.008553434394506666\n",
      "0.001134352670774378\n",
      "0.00015043734742613125\n",
      "1.9950934205637633e-05\n",
      "2.6458840340293872e-06\n",
      "3.5089596553654564e-07\n",
      "4.653566711135975e-08\n",
      "6.171539510189389e-09\n",
      "[0, 100, 200, 300, 400, 500, 600, 700, 800, 900]\n",
      "[0.4863236502960578, 0.06449602652337845, 0.008553434394506666, 0.001134352670774378, 0.00015043734742613125, 1.9950934205637633e-05, 2.6458840340293872e-06, 3.5089596553654564e-07, 4.653566711135975e-08, 6.171539510189389e-09]\n"
     ]
    }
   ],
   "source": [
    "LR = 0.01\n",
    "w = np.random.randn(3)\n",
    "N = len(y_train)\n",
    "\n",
    "x_plot = []\n",
    "y_plot = []\n",
    "for i in range(1000):\n",
    "    f = X.dot(w)\n",
    "    err = f - y_train\n",
    "    grad = 2 * X.T.dot(err) / N\n",
    "    w -= LR * grad\n",
    "    if i % 100 == 0:\n",
    "        x_plot.append(i)\n",
    "        y_plot.append(err.mean())\n",
    "        print(err.mean())\n",
    "\n",
    "        \n",
    "print(x_plot)\n",
    "print(y_plot)"
   ]
  },
  {
   "cell_type": "code",
   "execution_count": 44,
   "id": "aaf6e64d",
   "metadata": {},
   "outputs": [
    {
     "data": {
      "image/png": "[encoded data removed]",
      "text/plain": [
       "<Figure size 432x288 with 1 Axes>"
      ]
     },
     "metadata": {
      "needs_background": "light"
     },
     "output_type": "display_data"
    }
   ],
   "source": [
    "fig, ax = plt.subplots()\n",
    "\n",
    "ax.plot(x_plot, y_plot)\n",
    "ax.set(title='График ошибки функции')\n",
    "plt.show()"
   ]
  },
  {
   "cell_type": "code",
   "execution_count": 37,
   "id": "ce2e3ba6",
   "metadata": {},
   "outputs": [
    {
     "data": {
      "text/plain": [
       "array([ 6.66016509e-01,  2.37491950e-01, -2.67363102e-09])"
      ]
     },
     "execution_count": 37,
     "metadata": {},
     "output_type": "execute_result"
    }
   ],
   "source": [
    "    \n",
    "w\n"
   ]
  },
  {
   "cell_type": "code",
   "execution_count": null,
   "id": "83122e36",
   "metadata": {},
   "outputs": [],
   "source": [
    " \n",
    " \n",
    "#     loss.backward()\n",
    "#     optimizer.step()\n",
    "    \n",
    "    \n",
    "w (w1, w2, w3)\n",
    "x_train = list(features[\"budget\"].values)\n",
    "y_train = list(features[\"popularity\"].values)\n",
    "\n",
    "\n",
    "def calculate_model_output(w, b, x):\n",
    "    m = x.shape  # the number of training examples\n",
    "    f_wb = np.zeros(m)\n",
    "    for i in range(len(x)):\n",
    "        f_wb[i] = w * x[i] + b\n",
    "    return f_wb\n",
    "\n",
    "\n",
    "plt.plot(x_train, tmp_f_wb, c=\"b\", label=\"Our Prediction\")\n",
    "plt.scatter(x_train, y_train, marker=\"x\", c=\"r\", label=\"Actual price\")\n",
    "plt.xlabel(\"Sixe\")\n",
    "plt.ylabel(\"Price\")\n",
    "plt.legend()\n",
    "plt.show()"
   ]
  }
 ],
 "metadata": {
  "kernelspec": {
   "display_name": "Python 3 (ipykernel)",
   "language": "python",
   "name": "python3"
  },
  "language_info": {
   "codemirror_mode": {
    "name": "ipython",
    "version": 3
   },
   "file_extension": ".py",
   "mimetype": "text/x-python",
   "name": "python",
   "nbconvert_exporter": "python",
   "pygments_lexer": "ipython3",
   "version": "3.9.7"
  }
 },
 "nbformat": 4,
 "nbformat_minor": 5
}
