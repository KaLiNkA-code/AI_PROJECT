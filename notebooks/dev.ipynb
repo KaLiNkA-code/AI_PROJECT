{
 "cells": [
  {
   "cell_type": "code",
   "execution_count": null,
   "id": "99b80010",
   "metadata": {},
   "outputs": [],
   "source": [
    "import os \n",
    "\n",
    "# Fix to be able to import python modules inside a notebook\n",
    "os.chdir('..')"
   ]
  },
  {
   "cell_type": "code",
   "execution_count": null,
   "id": "b957a8af",
   "metadata": {},
   "outputs": [],
   "source": [
    "!ls"
   ]
  },
  {
   "cell_type": "code",
   "execution_count": null,
   "id": "615f066b",
   "metadata": {},
   "outputs": [],
   "source": [
    "import numpy as np\n",
    "from matplotlib import pyplot as plt\n",
    "\n",
    "x_train = np.array([1.0, 3.0, 1.5, 1.8, 2.5, 2.8])\n",
    "y_train = np.array([300, 500, 350, 380, 420, 475])\n",
    "\n",
    "m = len(x_train)  # m is the number of training examples\n",
    "print(f\"number of training examples: {m}\")\n",
    "\n",
    "print(' ')\n",
    "print(' ')\n",
    "print(' ')"
   ]
  },
  {
   "cell_type": "code",
   "execution_count": null,
   "id": "059d984e",
   "metadata": {},
   "outputs": [],
   "source": [
    "i = 0\n",
    "x_i = x_train[i]\n",
    "y_i = y_train[i]\n",
    "print(f'(x^({i}), y^({i})) = ({x_i}, {y_i})')\n",
    "\n",
    "\n",
    "print(' ')\n",
    "print(' ')\n",
    "print(' ')\n",
    "\n",
    "plt.scatter(x_train, y_train, marker='x', c='r')\n",
    "plt.title(\"Housing Prices\")  # Set the title\n",
    "plt.ylabel(\"Price (in 1000s of dollars)\")\n",
    "plt.xlabel(\"Size (1000 sqrt)\")\n",
    "# plt.show()\n",
    "\n",
    "w = 100\n",
    "b = 193\n",
    "print(f\"w: {w}\")\n",
    "print(f\"b: {b}\")\n",
    "\n",
    "\n",
    "def calculate_model_output(w, b, x):\n",
    "    m = x.shape  # the number of training examples\n",
    "    f_wb = np.zeros(m)\n",
    "    for i in range(len(x)):\n",
    "        f_wb[i] = w * x[i] + b\n",
    "    return f_wb\n",
    "\n",
    "\n",
    "#  Now Let's call the calculate_model_output func and plot the output\n",
    "tmp_f_wb = calculate_model_output(w, b, x_train)\n",
    "\n",
    "plt.plot(x_train, tmp_f_wb, c='b', label='Our Prediction')\n",
    "plt.scatter(x_train, y_train, marker='x', c='r', label='Actual price')\n",
    "plt.xlabel('Sixe')\n",
    "plt.ylabel('Price')\n",
    "plt.legend()\n",
    "plt.show()"
   ]
  },
  {
   "cell_type": "code",
   "execution_count": null,
   "id": "710fb627",
   "metadata": {},
   "outputs": [],
   "source": [
    "import pandas as pd"
   ]
  },
  {
   "cell_type": "code",
   "execution_count": null,
   "id": "1599ee96",
   "metadata": {},
   "outputs": [],
   "source": [
    "TRAIN_CSV_PATH = \"data/train.csv\"\n",
    "train_df = pd.read_csv(TRAIN_CSV_PATH)"
   ]
  },
  {
   "cell_type": "code",
   "execution_count": null,
   "id": "7528024c",
   "metadata": {},
   "outputs": [],
   "source": [
    "# train_df['crew'].unique()"
   ]
  },
  {
   "cell_type": "code",
   "execution_count": null,
   "id": "b3f468a9",
   "metadata": {},
   "outputs": [],
   "source": [
    "# train_df.sample(10)"
   ]
  },
  {
   "cell_type": "code",
   "execution_count": null,
   "id": "010ac6d9",
   "metadata": {},
   "outputs": [],
   "source": [
    "train_df.columns"
   ]
  },
  {
   "cell_type": "code",
   "execution_count": null,
   "id": "224ce87c",
   "metadata": {},
   "outputs": [],
   "source": [
    "features = train_df[['budget', 'popularity']]"
   ]
  },
  {
   "cell_type": "code",
   "execution_count": null,
   "id": "5acb6325",
   "metadata": {},
   "outputs": [],
   "source": [
    "features\n",
    "\n",
    "# 1. Удалить строки с нулевым бюджетом (проверить, что нет пропусков NaN, Null)\n",
    "# 2. Нормировать данные (min/max scaling, standard scaling)\n",
    "# 3. Написать функцию для подсчёта функции потерь\n",
    "# 4. Написать шаг оптимизации параметров MSE + градиентный спуск.\n",
    "\n",
    "# Подумать, что делать с не числовыми признаками? Как их интерпретировать?\n",
    "# binary encoding, OHE one hot encoding e.t.c.\n",
    "\n",
    "features.describe()\n",
    "\n",
    "w1 = 0.00000001\n",
    "w2 = 100"
   ]
  },
  {
   "cell_type": "code",
   "execution_count": null,
   "id": "7a3f7087",
   "metadata": {},
   "outputs": [],
   "source": [
    "train_x = features.to_numpy()"
   ]
  },
  {
   "cell_type": "code",
   "execution_count": null,
   "id": "2c99faaf",
   "metadata": {},
   "outputs": [],
   "source": []
  },
  {
   "cell_type": "code",
   "execution_count": null,
   "id": "10c24e64",
   "metadata": {},
   "outputs": [],
   "source": []
  },
  {
   "cell_type": "code",
   "execution_count": null,
   "id": "a9962866",
   "metadata": {},
   "outputs": [],
   "source": [
    "target = train_df['revenue']"
   ]
  },
  {
   "cell_type": "code",
   "execution_count": null,
   "id": "bed99b8f",
   "metadata": {},
   "outputs": [],
   "source": [
    "target"
   ]
  }
 ],
 "metadata": {
  "kernelspec": {
   "display_name": "Python 3",
   "language": "python",
   "name": "python3"
  },
  "language_info": {
   "codemirror_mode": {
    "name": "ipython",
    "version": 3
   },
   "file_extension": ".py",
   "mimetype": "text/x-python",
   "name": "python",
   "nbconvert_exporter": "python",
   "pygments_lexer": "ipython3",
   "version": "3.9.4"
  }
 },
 "nbformat": 4,
 "nbformat_minor": 5
}
