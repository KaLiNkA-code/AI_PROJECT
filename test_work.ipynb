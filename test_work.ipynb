{
 "cells": [
  {
   "cell_type": "markdown",
   "metadata": {},
   "source": [
    "# Test work\n",
    "### I have a DataSet with different parameters."
   ]
  },
  {
   "cell_type": "markdown",
   "metadata": {},
   "source": [
    "##### import libraries "
   ]
  },
  {
   "cell_type": "code",
   "execution_count": null,
   "metadata": {},
   "outputs": [],
   "source": [
    "import pandas as pd  # for work with data\n",
    "import matplotlib.pyplot as plt  # for build plots\n",
    "from preprocess_test import preprocess "
   ]
  },
  {
   "cell_type": "markdown",
   "metadata": {},
   "source": [
    "Первое представление о данных "
   ]
  },
  {
   "cell_type": "code",
   "execution_count": null,
   "metadata": {},
   "outputs": [],
   "source": [
    "DataSet = pd.read_csv('data/Mall_Customers.csv')\n",
    "DataSet.shape # мы увидим информацию о размерности нашего датафрейма \n",
    "DataSet.info() # покажет информацию о размерности данных \n",
    "DataSet.describe() # показывает статистики count,mean, std, min, 25%-50%-75% percentile, max \n",
    "DataSet.nunique() # количество уникальных значений для каждого столбца "
   ]
  },
  {
   "cell_type": "markdown",
   "metadata": {},
   "source": [
    "## Preprocess"
   ]
  },
  {
   "cell_type": "code",
   "execution_count": null,
   "metadata": {},
   "outputs": [],
   "source": [
    "\"\"\"Функция 'preprocess' не работает, разобраться с учителем \"\"\"\n",
    "# is_male (бинарная сетка)\n",
    "\n",
    "\n",
    "Male_DataSet = DataSet.loc[DataSet['Genre'] == 'Male']\n",
    "Female_DataSet = DataSet.loc[DataSet['Genre'] == 'Female']\n",
    "\n",
    "DataSet['normalized_age'] = DataSet['Age'] / 100\n",
    "DataSet['normalized_income'] = DataSet['Annual Income (k$)'] / 150\n",
    "DataSet['normalized_score'] = DataSet['Spending Score (1-100)'] / 100\n",
    "DataSet['is_male'] = DataSet['Genre'].apply(lambda x: int(x == 'Male'))\n"
   ]
  },
  {
   "cell_type": "markdown",
   "metadata": {},
   "source": [
    "## Data split"
   ]
  },
  {
   "cell_type": "code",
   "execution_count": null,
   "metadata": {},
   "outputs": [],
   "source": [
    "from sklearn.model_selection import train_test_split\n",
    "train_df, val_test_df = train_test_split(DataSet, train_size=0.6, random_state=0)\n",
    "val_df, test_df = train_test_split(val_test_df, test_size=0.5, random_state=0)\n",
    "\n",
    "train_target = train_df['normalized_score']\n",
    "train_X = train_df.loc[:,['is_male', 'normalized_age', 'normalized_income']]  # Срез по всем столбщам благодаря ':,'\n",
    "\n",
    "\n",
    "val_target = val_df['normalized_score']\n",
    "val_X = val_df.loc[:,['is_male', 'normalized_age', 'normalized_income']]\n",
    "\n",
    "test_target = test_df['normalized_score']\n",
    "test_X = test_df.loc[:,['is_male', 'normalized_age', 'normalized_income']]\n",
    "\n",
    "\n",
    "train_X.is_male"
   ]
  },
  {
   "cell_type": "markdown",
   "metadata": {},
   "source": [
    "## Observation"
   ]
  },
  {
   "cell_type": "code",
   "execution_count": null,
   "metadata": {},
   "outputs": [],
   "source": [
    "fig = plt.figure()\n",
    "plt.scatter(Male_DataSet.Age, Male_DataSet['Spending Score (1-100)'], c='red')\n",
    "plt.scatter(Female_DataSet.Age, Female_DataSet['Spending Score (1-100)'], c='blue')\n",
    "plt.title('Relation of age to Spending Score')\n",
    "plt.grid(True)   # линии вспомогательной сетки\n"
   ]
  },
  {
   "cell_type": "code",
   "execution_count": null,
   "metadata": {},
   "outputs": [],
   "source": [
    "fig = plt.figure()\n",
    "plt.scatter(Male_DataSet.Age, Male_DataSet['Annual Income (k$)'], c='red')\n",
    "plt.scatter(Female_DataSet.Age, Female_DataSet['Annual Income (k$)'], c='blue')\n",
    "plt.title('Relation of age to Annual Income')\n",
    "plt.grid(True)   # линии вспомогательной сетки\n"
   ]
  },
  {
   "cell_type": "code",
   "execution_count": null,
   "metadata": {},
   "outputs": [],
   "source": [
    "fig = plt.figure()\n",
    "plt.scatter(Male_DataSet['Annual Income (k$)'], Male_DataSet['Spending Score (1-100)'], c='red', label='Male')  # label не работает\n",
    "plt.scatter(Female_DataSet['Annual Income (k$)'], Female_DataSet['Spending Score (1-100)'], c='blue', label='Female')\n",
    "plt.title('Relation of Spending Score to Annual Income')\n",
    "plt.grid(True)   # линии вспомогательной сетки"
   ]
  },
  {
   "cell_type": "code",
   "execution_count": null,
   "metadata": {},
   "outputs": [],
   "source": [
    "n, bin, patches = plt.hist(DataSet.Age, bins=20)\n",
    "plt.title('Frequency of age')\n",
    "plt.show()"
   ]
  },
  {
   "cell_type": "code",
   "execution_count": null,
   "metadata": {},
   "outputs": [],
   "source": [
    "n, bin, patches = plt.hist(DataSet['Annual Income (k$)'], bins=20)\n",
    "plt.title('Frequency of Annual Income')\n",
    "plt.show()"
   ]
  },
  {
   "cell_type": "code",
   "execution_count": null,
   "metadata": {},
   "outputs": [],
   "source": [
    "labels = [\"Male\", \"Female\"]\n",
    "fig, ax = plt.subplots()\n",
    "ax.pie([len(Male_DataSet), len(Female_DataSet)], labels=labels, autopct='%1.1f%%')\n",
    "ax.axis(\"equal\")"
   ]
  },
  {
   "cell_type": "markdown",
   "metadata": {},
   "source": [
    "## Обучение модели"
   ]
  },
  {
   "cell_type": "code",
   "execution_count": null,
   "metadata": {},
   "outputs": [],
   "source": [
    "from sklearn.linear_model import LinearRegression\n",
    "regressor = LinearRegression()\n",
    "regressor.fit(train_X, train_target)\n",
    "# coeff_df = pd.DataFrame(regressor.coef_, train_predict.columns, columns=['Coefficient']) \n",
    "# coeff_df"
   ]
  },
  {
   "cell_type": "code",
   "execution_count": null,
   "metadata": {},
   "outputs": [],
   "source": [
    "import numpy as np\n",
    "\n",
    "\n",
    "regressor.coef_\n",
    "train_X, train_target\n",
    "\n",
    "\n",
    "y_pred = regressor.predict(val_X)\n",
    "\n",
    "\n",
    "loss = np.abs(y_pred - val_target).mean() * 100\n",
    "print(f\"Процент ошибки: {loss:.3f}%\")\n",
    "regressor.coef_"
   ]
  },
  {
   "cell_type": "code",
   "execution_count": null,
   "metadata": {},
   "outputs": [],
   "source": [
    "regressor.fit(val_X, val_target)"
   ]
  },
  {
   "cell_type": "code",
   "execution_count": null,
   "metadata": {},
   "outputs": [],
   "source": [
    "y_pred = regressor.predict(test_X)\n",
    "\n",
    "loss = np.abs(y_pred - test_target).mean() * 100\n",
    "print(f\"Процент ошибки: {loss:.10f}%\")"
   ]
  },
  {
   "cell_type": "markdown",
   "metadata": {},
   "source": [
    "### Итог: Это моя первая самостоятельно обученная модель (Под кураторством репетитора)))"
   ]
  },
  {
   "cell_type": "markdown",
   "metadata": {},
   "source": [
    "Думаю, это не плохой результат!)\n"
   ]
  },
  {
   "cell_type": "markdown",
   "metadata": {},
   "source": [
    "###### Ну сам себя не похвалишь, никто не похвалит)))"
   ]
  }
 ],
 "metadata": {
  "kernelspec": {
   "display_name": "Python 3.8.6 64-bit",
   "language": "python",
   "name": "python3"
  },
  "language_info": {
   "codemirror_mode": {
    "name": "ipython",
    "version": 3
   },
   "file_extension": ".py",
   "mimetype": "text/x-python",
   "name": "python",
   "nbconvert_exporter": "python",
   "pygments_lexer": "ipython3",
   "version": "3.8.6"
  },
  "vscode": {
   "interpreter": {
    "hash": "723d4b7bc280cd31fdada53ad6420192b9a3a8d60631096143cc718cb9440dc1"
   }
  }
 },
 "nbformat": 4,
 "nbformat_minor": 2
}
