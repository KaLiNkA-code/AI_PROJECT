{
 "cells": [
  {
   "cell_type": "code",
   "execution_count": null,
   "id": "99b80010",
   "metadata": {},
   "outputs": [],
   "source": [
    "# import os\n",
    "\n",
    "# # Fix to be able to import python modules inside a notebook\n",
    "# os.chdir(\"..\")"
   ]
  },
  {
   "cell_type": "markdown",
   "id": "34ae7874",
   "metadata": {},
   "source": [
    "# Good code"
   ]
  },
  {
   "cell_type": "code",
   "execution_count": null,
   "id": "710fb627",
   "metadata": {},
   "outputs": [],
   "source": [
    "import pandas as pd\n",
    "import numpy as np\n",
    "from matplotlib import pyplot as plt\n",
    "\n",
    "pd.set_option('max_columns', None)\n",
    "# import matplotlib.pyplot as plt\n",
    "# import seaborn as sns\n",
    "\n",
    "# %matplotlib inline\n",
    "# plt.style.use('ggplot')\n",
    "# import datetime\n",
    "# import lightgbm as lgb\n",
    "# from scipy import stats\n",
    "# from scipy.sparse import hstack, csr_matrix\n",
    "# from sklearn.model_selection import train_test_split, KFold\n",
    "from wordcloud import WordCloud\n",
    "from collections import Counter\n",
    "# from nltk.corpus import stopwords\n",
    "# from nltk.util import ngrams\n",
    "# from sklearn.feature_extraction.text import TfidfVectorizer, CountVectorizer\n",
    "# from sklearn.preprocessing import StandardScaler\n",
    "# stop = set(stopwords.words('english'))\n",
    "# import os\n",
    "# import plotly.offline as py\n",
    "# py.init_notebook_mode(connected=True)\n",
    "# import plotly.graph_objs as go\n",
    "# import plotly.tools as tls\n",
    "# import xgboost as xgb\n",
    "# import lightgbm as lgb\n",
    "# from sklearn import model_selection\n",
    "# from sklearn.metrics import accuracy_score\n",
    "# import json\n",
    "import ast\n",
    "# import eli5\n",
    "# import shap\n",
    "# from catboost import CatBoostRegressor\n",
    "# from urllib.request import urlopen\n",
    "# from PIL import Image\n",
    "# from sklearn.preprocessing import LabelEncoder\n",
    "# import time\n",
    "# from sklearn.metrics import mean_squared_error\n",
    "# from sklearn.linear_model import LinearRegression\n",
    "# from sklearn import linear_model"
   ]
  },
  {
   "cell_type": "code",
   "execution_count": null,
   "id": "67be4c76",
   "metadata": {},
   "outputs": [],
   "source": [
    "from IPython.core.display import display, HTML\n",
    "display(HTML(\"<style>.container {width:100% !important;}</style>\"))\n",
    "\n",
    "# Useful extensions\n",
    "# %load_ext watermark\n",
    "# %watermark -v -n -m -p numpy,torch,pytorch_tools,piq,realsr\n",
    "\n",
    "%load_ext autoreload\n",
    "%autoreload 2\n",
    "\n",
    "# Nice plot formatting\n",
    "%matplotlib inline"
   ]
  },
  {
   "cell_type": "code",
   "execution_count": null,
   "id": "5720fb22",
   "metadata": {},
   "outputs": [],
   "source": [
    "!ls"
   ]
  },
  {
   "cell_type": "markdown",
   "id": "fb4cbaf0",
   "metadata": {},
   "source": [
    "**Как передавать параметры?**\n",
    "\n",
    "0. CAPS_TEXT\n",
    "1. argparse\n",
    "2. click (модный argparse)\n",
    "3. Hydra (для сложных конфигов)"
   ]
  },
  {
   "cell_type": "code",
   "execution_count": null,
   "id": "c4b95efb",
   "metadata": {},
   "outputs": [],
   "source": [
    "DATA_PATH = \"data/train.csv\"\n",
    "TEST_DATA_PATH = \"data/test.csv\""
   ]
  },
  {
   "cell_type": "code",
   "execution_count": null,
   "id": "754821b2",
   "metadata": {},
   "outputs": [],
   "source": [
    "# from train_utils import clean_df, preprocess_df, train_val_test_split, train_on"
   ]
  },
  {
   "cell_type": "code",
   "execution_count": null,
   "id": "2b055ef2",
   "metadata": {},
   "outputs": [],
   "source": []
  },
  {
   "cell_type": "code",
   "execution_count": null,
   "id": "b0b26cc2",
   "metadata": {},
   "outputs": [],
   "source": []
  },
  {
   "cell_type": "code",
   "execution_count": null,
   "id": "2d485979",
   "metadata": {},
   "outputs": [],
   "source": [
    "train = pd.read_csv(DATA_PATH)\n",
    "test = pd.read_csv(TEST_DATA_PATH)"
   ]
  },
  {
   "cell_type": "code",
   "execution_count": null,
   "id": "d9329a05",
   "metadata": {},
   "outputs": [],
   "source": [
    "# df.head()"
   ]
  },
  {
   "cell_type": "code",
   "execution_count": null,
   "id": "5da78690",
   "metadata": {},
   "outputs": [],
   "source": [
    "# eval(df[~df['belongs_to_collection'].isna()]['belongs_to_collection'][0])"
   ]
  },
  {
   "cell_type": "code",
   "execution_count": null,
   "id": "8760c3f6",
   "metadata": {},
   "outputs": [],
   "source": [
    "dict_columns = ['belongs_to_collection', 'genres', 'production_companies',\n",
    "                'production_countries', 'spoken_languages', 'Keywords', 'cast', 'crew']\n",
    "\n",
    "def text_to_dict(df):\n",
    "    for column in dict_columns:\n",
    "        df[column] = df[column].apply(lambda x: {} if pd.isna(x) else ast.literal_eval(x) )\n",
    "    return df\n",
    "        \n",
    "train = text_to_dict(train)\n",
    "test = text_to_dict(test)"
   ]
  },
  {
   "cell_type": "code",
   "execution_count": null,
   "id": "ba471d61",
   "metadata": {},
   "outputs": [],
   "source": [
    "(3000 + 4500) * 8 \n"
   ]
  },
  {
   "cell_type": "code",
   "execution_count": null,
   "id": "5b4bd9fc",
   "metadata": {},
   "outputs": [],
   "source": [
    "train.sample()"
   ]
  },
  {
   "cell_type": "code",
   "execution_count": null,
   "id": "8a8aff1f",
   "metadata": {},
   "outputs": [],
   "source": []
  },
  {
   "cell_type": "code",
   "execution_count": null,
   "id": "39644f29",
   "metadata": {},
   "outputs": [],
   "source": [
    "for i, e in enumerate(train['belongs_to_collection'][:5]):\n",
    "    print(i, e)\n",
    "    \n",
    "    \n",
    "train['collection_name'] = train['belongs_to_collection'].apply(lambda x: x[0]['name'] if x != {} else 0)\n",
    "train['has_collection'] = train['belongs_to_collection'].apply(lambda x: len(x) if x != {} else 0)\n",
    "\n",
    "test['collection_name'] = test['belongs_to_collection'].apply(lambda x: x[0]['name'] if x != {} else 0)\n",
    "test['has_collection'] = test['belongs_to_collection'].apply(lambda x: len(x) if x != {} else 0)\n",
    "\n",
    "train = train.drop(['belongs_to_collection'], axis=1)\n",
    "test = test.drop(['belongs_to_collection'], axis=1)"
   ]
  },
  {
   "cell_type": "code",
   "execution_count": null,
   "id": "607fb7af",
   "metadata": {},
   "outputs": [],
   "source": [
    "for i, e in enumerate(train['genres'][:5]):\n",
    "    print(i, e)"
   ]
  },
  {
   "cell_type": "code",
   "execution_count": null,
   "id": "8be0614f",
   "metadata": {},
   "outputs": [],
   "source": []
  },
  {
   "cell_type": "code",
   "execution_count": null,
   "id": "8552244e",
   "metadata": {},
   "outputs": [],
   "source": [
    "print('Number of genres in films')\n",
    "train['genres'].apply(lambda x: len(x) if x != {} else 0).value_counts()"
   ]
  },
  {
   "cell_type": "code",
   "execution_count": null,
   "id": "400e2815",
   "metadata": {},
   "outputs": [],
   "source": [
    "list_of_genres = list(\n",
    "    train['genres'].apply(lambda x: [i['name'] for i in x] if x != {} else []).values)"
   ]
  },
  {
   "cell_type": "code",
   "execution_count": null,
   "id": "348cd923",
   "metadata": {},
   "outputs": [],
   "source": [
    "plt.figure(figsize = (12, 8))\n",
    "text = ' '.join([i for j in list_of_genres for i in j])\n",
    "wordcloud = WordCloud(max_font_size=None, background_color='white', collocations=False,\n",
    "                      width=1200, height=1000).generate(text)\n",
    "plt.imshow(wordcloud)\n",
    "plt.title('Top genres')\n",
    "plt.axis(\"off\")\n",
    "plt.show()"
   ]
  },
  {
   "cell_type": "code",
   "execution_count": null,
   "id": "a276335c",
   "metadata": {},
   "outputs": [],
   "source": [
    "train['num_genres'] = train['genres'].apply(lambda x: len(x) if x != {} else 0)\n",
    "train['all_genres'] = train['genres'].apply(lambda x: ' '.join(sorted([i['name'] for i in x])) if x != {} else '')\n",
    "top_genres = [m[0] for m in Counter([i for j in list_of_genres for i in j]).most_common(15)]\n",
    "for g in top_genres:\n",
    "    train['genre_' + g] = train['all_genres'].apply(lambda x: 1 if g in x else 0)\n",
    "    \n",
    "test['num_genres'] = test['genres'].apply(lambda x: len(x) if x != {} else 0)\n",
    "test['all_genres'] = test['genres'].apply(lambda x: ' '.join(sorted([i['name'] for i in x])) if x != {} else '')\n",
    "for g in top_genres:\n",
    "    test['genre_' + g] = test['all_genres'].apply(lambda x: 1 if g in x else 0)\n",
    "\n",
    "train = train.drop(['genres'], axis=1)\n",
    "test = test.drop(['genres'], axis=1)"
   ]
  },
  {
   "cell_type": "code",
   "execution_count": null,
   "id": "90227f09",
   "metadata": {},
   "outputs": [],
   "source": [
    "for i, e in enumerate(train['production_companies'][:5]):\n",
    "    print(i, e)"
   ]
  },
  {
   "cell_type": "code",
   "execution_count": null,
   "id": "5ee26d65",
   "metadata": {},
   "outputs": [],
   "source": [
    "print('Number of production companies in films')\n",
    "train['production_companies'].apply(lambda x: len(x) if x != {} else 0).value_counts()"
   ]
  },
  {
   "cell_type": "code",
   "execution_count": null,
   "id": "af87c94a",
   "metadata": {},
   "outputs": [],
   "source": [
    "train[train['production_companies'].apply(lambda x: len(x) if x != {} else 0) > 11]"
   ]
  },
  {
   "cell_type": "code",
   "execution_count": null,
   "id": "77f15744",
   "metadata": {},
   "outputs": [],
   "source": [
    "list_of_companies = list(train['production_companies'].apply(lambda x: [i['name'] for i in x] if x != {} else []).values)"
   ]
  },
  {
   "cell_type": "code",
   "execution_count": null,
   "id": "ac02baf2",
   "metadata": {},
   "outputs": [],
   "source": [
    "train['num_companies'] = train['production_companies'].apply(lambda x: len(x) if x != {} else 0)\n",
    "train['all_production_companies'] = train['production_companies'].apply(lambda x: ' '.join(sorted([i['name'] for i in x])) if x != {} else '')\n",
    "top_companies = [m[0] for m in Counter([i for j in list_of_companies for i in j]).most_common(30)]\n",
    "for g in top_companies:\n",
    "    train['production_company_' + g] = train['all_production_companies'].apply(lambda x: 1 if g in x else 0)\n",
    "    \n",
    "test['num_companies'] = test['production_companies'].apply(lambda x: len(x) if x != {} else 0)\n",
    "test['all_production_companies'] = test['production_companies'].apply(lambda x: ' '.join(sorted([i['name'] for i in x])) if x != {} else '')\n",
    "for g in top_companies:\n",
    "    test['production_company_' + g] = test['all_production_companies'].apply(lambda x: 1 if g in x else 0)\n",
    "\n",
    "train = train.drop(['production_companies', 'all_production_companies'], axis=1)\n",
    "test = test.drop(['production_companies', 'all_production_companies'], axis=1)"
   ]
  },
  {
   "cell_type": "code",
   "execution_count": null,
   "id": "669f21ab",
   "metadata": {},
   "outputs": [],
   "source": [
    "print('Number of production countries in films')\n",
    "train['production_countries'].apply(lambda x: len(x) if x != {} else 0).value_counts()"
   ]
  },
  {
   "cell_type": "code",
   "execution_count": null,
   "id": "39c9ca16",
   "metadata": {},
   "outputs": [],
   "source": [
    "list_of_countries = list(train['production_countries'].apply(lambda x: [i['name'] for i in x] if x != {} else []).values)\n",
    "Counter([i for j in list_of_countries for i in j]).most_common(25)"
   ]
  },
  {
   "cell_type": "code",
   "execution_count": null,
   "id": "7e2376c7",
   "metadata": {},
   "outputs": [],
   "source": []
  },
  {
   "cell_type": "code",
   "execution_count": null,
   "id": "61840daf",
   "metadata": {},
   "outputs": [],
   "source": [
    "train['num_countries'] = train['production_countries'].apply(lambda x: len(x) if x != {} else 0)\n",
    "train['all_countries'] = train['production_countries'].apply(lambda x: ' '.join(sorted([i['name'] for i in x])) if x != {} else '')\n",
    "top_countries = [m[0] for m in Counter([i for j in list_of_countries for i in j]).most_common(25)]\n",
    "for g in top_countries:\n",
    "    train['production_country_' + g] = train['all_countries'].apply(lambda x: 1 if g in x else 0)\n",
    "    \n",
    "test['num_countries'] = test['production_countries'].apply(lambda x: len(x) if x != {} else 0)\n",
    "test['all_countries'] = test['production_countries'].apply(lambda x: ' '.join(sorted([i['name'] for i in x])) if x != {} else '')\n",
    "for g in top_countries:\n",
    "    test['production_country_' + g] = test['all_countries'].apply(lambda x: 1 if g in x else 0)\n",
    "\n",
    "train = train.drop(['production_countries', 'all_countries'], axis=1)\n",
    "test = test.drop(['production_countries', 'all_countries'], axis=1)"
   ]
  },
  {
   "cell_type": "code",
   "execution_count": null,
   "id": "f77ad140",
   "metadata": {},
   "outputs": [],
   "source": []
  },
  {
   "cell_type": "code",
   "execution_count": null,
   "id": "462d7dd8",
   "metadata": {},
   "outputs": [],
   "source": [
    "df['belongs_to_collection'] = df['belongs_to_collection'].apply(lambda x: eval(x))"
   ]
  },
  {
   "cell_type": "code",
   "execution_count": null,
   "id": "528027d2",
   "metadata": {},
   "outputs": [],
   "source": [
    "df[\"has_collection\"] = df['belongs_to_collection'].apply(lambda x: 0 if x.isna() else eval(x))"
   ]
  },
  {
   "cell_type": "code",
   "execution_count": null,
   "id": "8a8d8b39",
   "metadata": {},
   "outputs": [],
   "source": [
    "df[~df['belongs_to_collection'].isna()]['belongs_to_collection'].apply(lambda x: len(eval(x)))\n",
    "# NaN - not a number\n",
    "# NULL - empty\n",
    "# .isnull()\n",
    "\n",
    "  "
   ]
  },
  {
   "cell_type": "code",
   "execution_count": null,
   "id": "a67af2fd",
   "metadata": {},
   "outputs": [],
   "source": [
    "\n",
    "df['belongs_to_collection'].isna().sum()\n",
    "\n",
    "# 2396 без коллекции\n",
    "# принадлежат к колекции \n",
    "\n",
    "# .apply(lambda x: len(x) if x != {} else 0)#.value_counts()"
   ]
  },
  {
   "cell_type": "code",
   "execution_count": null,
   "id": "38b3fca4",
   "metadata": {},
   "outputs": [],
   "source": []
  },
  {
   "cell_type": "code",
   "execution_count": null,
   "id": "d8e41db4",
   "metadata": {},
   "outputs": [],
   "source": []
  },
  {
   "cell_type": "code",
   "execution_count": null,
   "id": "836e7ccd",
   "metadata": {},
   "outputs": [],
   "source": []
  },
  {
   "cell_type": "code",
   "execution_count": null,
   "id": "1271d29d",
   "metadata": {},
   "outputs": [],
   "source": []
  },
  {
   "cell_type": "code",
   "execution_count": null,
   "id": "1d6e5873",
   "metadata": {},
   "outputs": [],
   "source": []
  },
  {
   "cell_type": "code",
   "execution_count": null,
   "id": "06d65f74",
   "metadata": {},
   "outputs": [],
   "source": [
    "features = Data_df[[\"budget\", \"popularity\", \"revenue\"]]"
   ]
  },
  {
   "cell_type": "code",
   "execution_count": null,
   "id": "bbf664f7",
   "metadata": {},
   "outputs": [],
   "source": [
    "features"
   ]
  },
  {
   "cell_type": "code",
   "execution_count": null,
   "id": "1e698626",
   "metadata": {},
   "outputs": [],
   "source": [
    "df = clean_df(features)"
   ]
  },
  {
   "cell_type": "code",
   "execution_count": null,
   "id": "4b7ba5ff",
   "metadata": {},
   "outputs": [],
   "source": [
    "df, _ = preprocess_df(df)"
   ]
  },
  {
   "cell_type": "code",
   "execution_count": null,
   "id": "4c2d02ce",
   "metadata": {},
   "outputs": [],
   "source": [
    "# df = np.concatenate([Data_df[[\"budget\"]].to_numpy(), np.ones([len(Data_df[[\"budget\"]]), 1])], axis=1)"
   ]
  },
  {
   "cell_type": "code",
   "execution_count": null,
   "id": "4c19492f",
   "metadata": {},
   "outputs": [],
   "source": [
    "# df"
   ]
  },
  {
   "cell_type": "code",
   "execution_count": null,
   "id": "c690e186",
   "metadata": {},
   "outputs": [],
   "source": [
    "df,"
   ]
  },
  {
   "cell_type": "code",
   "execution_count": null,
   "id": "76d5aca8",
   "metadata": {},
   "outputs": [],
   "source": [
    "train_df, val_df, test_df = train_val_test_split(df)"
   ]
  },
  {
   "cell_type": "code",
   "execution_count": null,
   "id": "fe00460f",
   "metadata": {},
   "outputs": [],
   "source": []
  },
  {
   "cell_type": "code",
   "execution_count": null,
   "id": "5fc4d657",
   "metadata": {},
   "outputs": [],
   "source": [
    "def train_one_step(X_train, y_train, w, learning_rate):\n",
    "    f = X_train.dot(w)\n",
    "    err = f - y_train\n",
    "    grad = 2 * X.T.dot(err) / len(X_train)\n",
    "    w -= LR * grad\n",
    "    if i % 10 == 0:\n",
    "        return w, err.mean"
   ]
  },
  {
   "cell_type": "code",
   "execution_count": null,
   "id": "ec4e1906",
   "metadata": {},
   "outputs": [],
   "source": [
    "one hot encoding -\n",
    "fruit = [\"apple\", \"orange\", \"pear\"]\n",
    "\n",
    "fruit_apple   fruit_orange  fruit_pear\n",
    "1             0             0\n",
    "0             1             0\n",
    "...\n",
    "\n",
    "\n"
   ]
  },
  {
   "cell_type": "code",
   "execution_count": null,
   "id": "dc4cbef5",
   "metadata": {},
   "outputs": [],
   "source": []
  },
  {
   "cell_type": "code",
   "execution_count": null,
   "id": "090086f0",
   "metadata": {},
   "outputs": [],
   "source": [
    "x_val = []\n",
    "y_val = []\n",
    "for i in range(100):\n",
    "    w, err = train_one_step(tuple(df[[\"budget\"]]), tuple(df[[\"popularity\"]]), w, LR)\n",
    "    print(w)\n",
    "    x_val.append(i)\n",
    "    y_val.append(err)"
   ]
  },
  {
   "cell_type": "code",
   "execution_count": null,
   "id": "9f2079d4",
   "metadata": {},
   "outputs": [],
   "source": []
  },
  {
   "cell_type": "code",
   "execution_count": null,
   "id": "fb111d06",
   "metadata": {},
   "outputs": [],
   "source": [
    "# df.sample(2)[['budget', ]]\n",
    "\n",
    "# # Clean\n",
    "# df = clean_df(df)\n",
    "\n",
    "# # Split\n",
    "# train_df, val_df, test_df = train_val_test_split(df)\n",
    "\n",
    "# train_df, stats = preprocess_df(train_df)\n",
    "# (val_df, _), (test_df, _) = preprocess_df(val_df, stats=stats), preprocess_df(test_df, stats=stats)\n",
    "\n",
    "# train_df = pd.read_csv(DATA_PATH)\n",
    "# # train_df['crew'].unique()\n",
    "# train_df.columns\n",
    "# features = train_df[[\"budget\", \"popularity\", 'revenue']]\n",
    "# features.columns\n",
    "# features = features[(features[\"budget\"] > 0) & (features[\"popularity\"] > 0)]\n",
    "\n",
    "# # features.dropna(subset=[], inplace=True)"
   ]
  },
  {
   "cell_type": "markdown",
   "id": "7cfff31e",
   "metadata": {},
   "source": [
    "# Garbage code"
   ]
  },
  {
   "cell_type": "code",
   "execution_count": null,
   "id": "aa9904a1",
   "metadata": {},
   "outputs": [],
   "source": []
  },
  {
   "cell_type": "code",
   "execution_count": null,
   "id": "f63ee25e",
   "metadata": {},
   "outputs": [],
   "source": [
    "def clean_df(df: pd.DataFrame):\n",
    "    # Drop NaN, replace columns e.t.c \n",
    "    #  df = df[(df[\"budget\"] > 0) & (df[\"popularity\"] > 0)]\n",
    "    df[(df[\"budget\"] > 0) & (df[\"popularity\"] > 0)]\n",
    "    df.dropna(subset=[\"budget\", \"popularity\"], inplace=True)\n",
    "    return df"
   ]
  },
  {
   "cell_type": "code",
   "execution_count": null,
   "id": "ded04974",
   "metadata": {},
   "outputs": [],
   "source": [
    "def train_val_test_split(\n",
    "    df: pd.DataFrame, train_pct: float=0.6, val_pct: float=0.2, test_pct: float=0.2):\n",
    "    N = len(df)\n",
    "    if train_pct + val_pct + test_pct != 1.0:\n",
    "        train_pct = 0.6\n",
    "        val_pct = 0.2\n",
    "        test_pct = 0.2\n",
    "    \n",
    "    len_train = int(N*train_pct)\n",
    "    len_val = int(N*val_pct)\n",
    "    df.sample()\n",
    "    train_df, val_df, test_df = df[:len_train], df[len_train:len_val], df[len_val:]\n",
    "    return (train_df, val_df, test_df)"
   ]
  },
  {
   "cell_type": "code",
   "execution_count": null,
   "id": "99983e74",
   "metadata": {},
   "outputs": [],
   "source": [
    "def preprocess_df(df: pd.DataFrame, columns: tuple=('budget','popularity','revenue'), stats=None):\n",
    "    # Select columns\n",
    "    \n",
    "    df = df[list(columns)]\n",
    "    if stats is None:\n",
    "        stats = {\n",
    "            'mean': df.mean(),\n",
    "            'std': df.std(),\n",
    "        }\n",
    "        # Считаем распределния и нормализуем по данным из DF\n",
    "        # Standard Scaling\n",
    "#          .loc[row_indexer,col_indexer] = value instead\n",
    "        try:\n",
    "            for i in columns:\n",
    "                df[i] = ((df[i] - stats['mean'][i]) /  stats['std'][i])\n",
    "                #  df.sample(10)\n",
    "        except KeyError:\n",
    "            return \"Column not found\"\n",
    "        except BaseError as Err:\n",
    "            return f\"TraceBack: {err}\"\n",
    "    else:\n",
    "        stats = {\n",
    "            'mean': df.mean(),\n",
    "            'meansquare': df.std(),\n",
    "        }\n",
    "    return df, stats"
   ]
  },
  {
   "cell_type": "code",
   "execution_count": null,
   "id": "2f115040",
   "metadata": {},
   "outputs": [],
   "source": [
    "# MSE loss function\n",
    "def mse_loss(x: np.ndarray, y: np.ndarray):\n",
    "    squared_error = (x - y) ** 2\n",
    "    sum_squared_error = np.sum(squared_error)\n",
    "    loss = sum_squared_error / val_true.size\n",
    "    return loss"
   ]
  },
  {
   "cell_type": "code",
   "execution_count": null,
   "id": "5f6682fa",
   "metadata": {},
   "outputs": [],
   "source": []
  },
  {
   "cell_type": "code",
   "execution_count": null,
   "id": "078e0936",
   "metadata": {},
   "outputs": [],
   "source": []
  },
  {
   "cell_type": "code",
   "execution_count": null,
   "id": "7656c25f",
   "metadata": {},
   "outputs": [],
   "source": []
  },
  {
   "cell_type": "code",
   "execution_count": null,
   "id": "5f1c1931",
   "metadata": {},
   "outputs": [],
   "source": [
    "def calculate_model_output(w, b, x):\n",
    "    m = x.shape  # the number of training examples\n",
    "    f_wb = np.zeros(m)\n",
    "    for i in range(len(x)):\n",
    "        f_wb[i] = w * x[i] + b\n",
    "    return f_wb\n",
    "\n",
    "\n",
    "def train_one_step(X_train, y_train, w, learning_rate):\n",
    "    f = X_train.dot(w)\n",
    "    err = f - y_train\n",
    "    grad = 2 * X.T.dot(err) / len(X_train)\n",
    "    w -= LR * grad\n",
    "    if i % 10 == 0:\n",
    "        x_plot.append(i)\n",
    "        y_plot.append(err.mean())\n",
    "        return w\n",
    "\n",
    "def val_one_step(X_val, y_val, w):\n",
    "    y_pred = X_val.dot(w)\n",
    "    err = mse_loss(y_pred, y_val)\n",
    "    err\n",
    "\n",
    "\n"
   ]
  },
  {
   "cell_type": "code",
   "execution_count": null,
   "id": "13e8987a",
   "metadata": {},
   "outputs": [],
   "source": []
  },
  {
   "cell_type": "code",
   "execution_count": null,
   "id": "7abab1a7",
   "metadata": {},
   "outputs": [],
   "source": [
    "features.sample(10)\n",
    "# standard scaling\n",
    "features['budget'] = ((features.budget - features.budget.mean()) /  features.budget.std())\n",
    "features['popularity'] = ((features.popularity - features.popularity.mean()) /  features.popularity.std())\n",
    "features['revenue'] = ((features.revenue - features.revenue.mean()) /  features.revenue.std())\n",
    "features.sample(10)"
   ]
  },
  {
   "cell_type": "code",
   "execution_count": null,
   "id": "fed95683",
   "metadata": {},
   "outputs": [],
   "source": []
  },
  {
   "cell_type": "code",
   "execution_count": null,
   "id": "13bbe8e6",
   "metadata": {},
   "outputs": [],
   "source": [
    "features.describe()\n",
    "\n",
    "w1 = 0.00000001\n",
    "w2 = 100\n",
    "w3 = 1\n",
    "# \n",
    "train_x = features.to_numpy()\n",
    " \n",
    "target = train_df[\"revenue\"]\n",
    "target\n",
    "import numpy as np\n",
    "import matplotlib.pyplot as plt\n",
    "\n",
    "# Plotting\n",
    "x_vals = np.arange(-20, 20, 0.01)\n",
    "y_vals = np.square(x_vals)\n",
    "\n",
    "\n"
   ]
  },
  {
   "cell_type": "code",
   "execution_count": null,
   "id": "487324b8",
   "metadata": {},
   "outputs": [],
   "source": [
    "# TODO Do random sampling!\n",
    "\n",
    "import random \n",
    "import numpy as np\n",
    "# Fix random seed!\n",
    "\n",
    "len_train = int(len(features) / 100 * 60)\n",
    "len_val = int(len(features) / 100 * 80)\n",
    "len_test = len(features) - len_train - len_val\n",
    "\n",
    "train_features = train_x[:len1]\n",
    "val_features = train_x[len1:len2]\n",
    "test_features = train_x[len2:]\n",
    "\n",
    "len(features), len(train_features), len(val_features), len(test_features)"
   ]
  },
  {
   "cell_type": "code",
   "execution_count": null,
   "id": "787cba1f",
   "metadata": {},
   "outputs": [],
   "source": [
    "features.budget.hist(bins=20, )\n",
    "features.popularity.hist(bins=20, )\n",
    "features[features.popularity > 50]\n",
    "features.popularity.min(), features.popularity.max()\n",
    "((features.popularity - features.popularity.min()) / (features.popularity.max() - features.popularity.min())).describe()\n",
    "features.popularity.describe()\n",
    "\n"
   ]
  },
  {
   "cell_type": "code",
   "execution_count": null,
   "id": "5781fdc4",
   "metadata": {},
   "outputs": [],
   "source": [
    "# Min / max scaling\n",
    "((features.budget - features.budget.min()) / (features.budget.max() - features.budget.min())).describe()\n",
    "# standard scaling\n",
    "((features.budget - features.budget.mean()) /  features.budget.std()).describe()\n",
    "train_df[train_df.popularity > 60][['original_title', 'popularity']]\n",
    "features"
   ]
  },
  {
   "cell_type": "code",
   "execution_count": null,
   "id": "1544e3d0",
   "metadata": {},
   "outputs": [],
   "source": [
    "w = np.random.randn(3)"
   ]
  },
  {
   "cell_type": "code",
   "execution_count": null,
   "id": "c86d4d83",
   "metadata": {},
   "outputs": [],
   "source": [
    "plt.plot(x_vals, y_vals, \"blue\")\n",
    "plt.plot(x_vals, y_vals, \"blue\")\n",
    "plt.grid(True, which=\"major\")\n",
    "plt.show()\n",
    "x_train = features[['budget', 'popularity']]\n",
    "y_train = features['revenue'].to_numpy()\n",
    "X = np.concatenate([x_train.to_numpy(), np.ones([len(x_train), 1])], axis=1)\n",
    "features.to_numpy().shape, np.ones([len(features), 1]).shape\n",
    "X @ w\n",
    "X, y_train\n"
   ]
  },
  {
   "cell_type": "code",
   "execution_count": null,
   "id": "f443adf7",
   "metadata": {},
   "outputs": [],
   "source": [
    "# TODO Переименовать переменные!"
   ]
  },
  {
   "cell_type": "code",
   "execution_count": null,
   "id": "87b3df72",
   "metadata": {},
   "outputs": [],
   "source": [
    "x_train1 = features[['budget', 'popularity']][:2100]\n",
    "y_train1 = features['revenue'].to_numpy()[:2100]\n",
    "X1 = np.concatenate([x_train1.to_numpy(), np.ones([len(x_train1), 1])], axis=1)\n",
    "# X1 @ w\n",
    "X1, y_train1"
   ]
  },
  {
   "cell_type": "code",
   "execution_count": null,
   "id": "3812117a",
   "metadata": {},
   "outputs": [],
   "source": [
    "x_train2 = features[['budget', 'popularity']][2100:2600]\n",
    "y_train2 = features['revenue'].to_numpy()[2100:2600]\n",
    "X2 = np.concatenate([x_train2.to_numpy(), np.ones([len(x_train2), 1])], axis=1)\n",
    "# X2 @ w\n",
    "# X2, y_train2\n",
    "\n",
    "\n",
    "x_train3 = features[['budget', 'popularity']][2601:]\n",
    "y_train3 = features['revenue'].to_numpy()[2601:]\n",
    "X3 = np.concatenate([x_train3.to_numpy(), np.ones([len(x_train3), 1])], axis=1)\n",
    "# X3 @ w\n",
    "# X3, y_train3\n",
    "\n",
    "\n",
    "# w = random_normal()             # можно пробовать и другие виды инициализации\n",
    "# repeat S times:                 # другой вариант: while abs(err) > tolerance\n",
    "#    f = X.dot(w)                 # посчитать предсказание\n",
    "#    err = f - y                  # посчитать ошибку\n",
    "#    grad = 2 * X.T.dot(err) / N  # посчитать градиент\n",
    "#    w -= alpha * grad            # обновить веса"
   ]
  },
  {
   "cell_type": "code",
   "execution_count": null,
   "id": "96414c76",
   "metadata": {},
   "outputs": [],
   "source": [
    "import func_ds\n",
    "LR = 0.01\n",
    "w = np.random.randn(3)\n",
    "N = len(y_train)\n",
    "\n",
    "func_ds.x_plot = []\n",
    "func_ds.y_plot = []\n",
    "#  traing dataset\n",
    "for i in range(3):\n",
    "    print(w)\n",
    "    func_ds.train_one_step(X1, w, y_train1, N, LR, i)\n",
    "        \n",
    "# print(func_ds.x_plot)\n",
    "# print(func_ds.y_plot)"
   ]
  },
  {
   "cell_type": "code",
   "execution_count": null,
   "id": "5a8f391e",
   "metadata": {},
   "outputs": [],
   "source": [
    "\n",
    "\n",
    "fig, ax = plt.subplots()\n",
    "\n",
    "ax.plot(func_ds.x_plot, func_ds.y_plot)\n",
    "ax.set(title='График ошибки функции на training датасете')\n",
    "plt.xlabel(\"цикл обучения\")\n",
    "plt.grid(True, which=\"major\")\n",
    "plt.ylabel(\"квадрат ошибки\")\n",
    "plt.show()"
   ]
  },
  {
   "cell_type": "code",
   "execution_count": null,
   "id": "6af8a5d3",
   "metadata": {},
   "outputs": [],
   "source": [
    "def change_list(a):\n",
    "    x = a.pop()\n",
    "    print(x)\n",
    "\n",
    "# Side-artefacts \n",
    "A = [1, 2, 3, 4]\n",
    "print(A)\n",
    "change_list(A)\n",
    "print(A)"
   ]
  },
  {
   "cell_type": "code",
   "execution_count": null,
   "id": "2d51c22b",
   "metadata": {},
   "outputs": [],
   "source": []
  },
  {
   "cell_type": "code",
   "execution_count": null,
   "id": "2e72faaa",
   "metadata": {},
   "outputs": [],
   "source": [
    "w = np.random.randn(3)\n",
    "\n",
    "func_ds.x_plot = []\n",
    "func_ds.y_plot = []\n",
    "#  traing dataset\n",
    "for i in range(2):\n",
    "    print(w)\n",
    "    func_ds.train_one_step(X2, w, y_train2, N, LR, i)"
   ]
  },
  {
   "cell_type": "code",
   "execution_count": null,
   "id": "ae6e4f2b",
   "metadata": {},
   "outputs": [],
   "source": [
    "fig, ax = plt.subplots()\n",
    "\n",
    "ax.plot(func_ds.x_plot, func_ds.y_plot, \"red\")\n",
    "ax.set(title='График ошибки функции на value датасете')\n",
    "plt.grid(True, which=\"major\")\n",
    "plt.xlabel(\"цикл обучения\")\n",
    "plt.ylabel(\"квадрат ошибки\")\n",
    "plt.show()"
   ]
  },
  {
   "cell_type": "code",
   "execution_count": null,
   "id": "4004b7ae",
   "metadata": {},
   "outputs": [],
   "source": [
    "func_ds.x_plot = []\n",
    "func_ds.y_plot = []\n",
    "#  traing dataset\n",
    "for i in range(1000):\n",
    "    func_ds.train_one_step(X3, w, y_train3, N, LR, i)"
   ]
  },
  {
   "cell_type": "code",
   "execution_count": null,
   "id": "a30f140f",
   "metadata": {},
   "outputs": [],
   "source": [
    "fig, ax = plt.subplots()\n",
    "\n",
    "print(func_ds.y_plot)\n",
    "\n",
    "ax.plot(func_ds.x_plot, func_ds.y_plot)\n",
    "ax.set(title='График ошибки функции на test датасете')\n",
    "plt.grid(True, which=\"major\")\n",
    "plt.xlabel(\"цикл обучения\")\n",
    "plt.ylabel(\"квадрат ошибки\")\n",
    "plt.show()"
   ]
  },
  {
   "cell_type": "code",
   "execution_count": null,
   "id": "b7d7b357",
   "metadata": {},
   "outputs": [],
   "source": []
  },
  {
   "cell_type": "code",
   "execution_count": null,
   "id": "7a286ff7",
   "metadata": {},
   "outputs": [],
   "source": []
  },
  {
   "cell_type": "code",
   "execution_count": null,
   "id": "d64f3803",
   "metadata": {},
   "outputs": [],
   "source": []
  },
  {
   "cell_type": "code",
   "execution_count": null,
   "id": "7579a3ea",
   "metadata": {},
   "outputs": [],
   "source": []
  }
 ],
 "metadata": {
  "kernelspec": {
   "display_name": "Python 3",
   "language": "python",
   "name": "python3"
  },
  "language_info": {
   "codemirror_mode": {
    "name": "ipython",
    "version": 3
   },
   "file_extension": ".py",
   "mimetype": "text/x-python",
   "name": "python",
   "nbconvert_exporter": "python",
   "pygments_lexer": "ipython3",
   "version": "3.9.4"
  }
 },
 "nbformat": 4,
 "nbformat_minor": 5
}
