{
 "cells": [
  {
   "cell_type": "code",
   "execution_count": null,
   "id": "99b80010",
   "metadata": {},
   "outputs": [],
   "source": [
    "# import os\n",
    "\n",
    "# # Fix to be able to import python modules inside a notebook\n",
    "# os.chdir(\"..\")"
   ]
  },
  {
   "cell_type": "markdown",
   "id": "34ae7874",
   "metadata": {},
   "source": [
    "# Good code"
   ]
  },
  {
   "cell_type": "code",
   "execution_count": null,
   "id": "710fb627",
   "metadata": {},
   "outputs": [],
   "source": [
    "import pandas as pd\n",
    "import numpy as np\n",
    "from matplotlib import pyplot as plt"
   ]
  },
  {
   "cell_type": "markdown",
   "id": "fb4cbaf0",
   "metadata": {},
   "source": [
    "**Как передавать параметры?**\n",
    "\n",
    "0. CAPS_TEXT\n",
    "1. argparse\n",
    "2. click (модный argparse)\n",
    "3. Hydra (для сложных конфигов)"
   ]
  },
  {
   "cell_type": "code",
   "execution_count": null,
   "id": "c4b95efb",
   "metadata": {},
   "outputs": [],
   "source": [
    "DATA_PATH = \"data/train.csv\"\n",
    "TEST_DATA_PATH = \"data/test.csv\""
   ]
  },
  {
   "cell_type": "code",
   "execution_count": null,
   "id": "3bb7a37a",
   "metadata": {},
   "outputs": [],
   "source": [
    "# Data loading\n",
    "df = pd.read_csv(DATA_PATH)"
   ]
  },
  {
   "cell_type": "code",
   "execution_count": null,
   "id": "571b024b",
   "metadata": {},
   "outputs": [],
   "source": [
    "def clean_df(df):\n",
    "    # Drop NaN, replace columns e.t.c \n",
    "#     features[(features[\"budget\"] > 0) & (features[\"popularity\"] > 0)]\n",
    "#     features.dropna(subset=[\"budget\", \"popularity\"], inplace=True)\n",
    "\n",
    "# \n",
    "    return df\n",
    "\n",
    "def train_val_test_split(\n",
    "    df: pd.DataFrame, train_pct: float = 0.6, val_pct:float = 0.2, test_pct: float = 0.2):\n",
    "    \n",
    "    N = len(df)\n",
    "    # Логика для разбиения\n",
    "#     ...\n",
    "    train_df, val_df, test_df = df[:1000], df[1000:1200], df[1200:1400]\n",
    "    return train_df, val_df, test_df\n",
    "\n",
    "# Clean\n",
    "df = clean_df(df)\n",
    "\n",
    "# Split\n",
    "train_df, val_df, test_df = train_val_test_split(df)"
   ]
  },
  {
   "cell_type": "code",
   "execution_count": null,
   "id": "86b4c9b3",
   "metadata": {},
   "outputs": [],
   "source": [
    "df.sample(2)[['budget', ]]"
   ]
  },
  {
   "cell_type": "code",
   "execution_count": null,
   "id": "6d719c5c",
   "metadata": {},
   "outputs": [],
   "source": [
    "# EDA - Explanotary Data Analyses\n",
    "# TODO\n",
    "\n",
    "# from sklearn import StandardScaler\n",
    "\n",
    "def preprocess_df(df, columns=('budget','popularity','revenue'), stats=None):\n",
    "    # Select columns\n",
    "    \n",
    "    df = df[list(columns)]\n",
    "    if stats is None:\n",
    "        stats = {\n",
    "            'mean': df.mean(),\n",
    "            'std': df.std(),\n",
    "        }\n",
    "        # Считаем распределния и нормализуем по данным из DF\n",
    "        # Standard Scaling\n",
    "#          .loc[row_indexer,col_indexer] = value instead\n",
    "        df['budget'] = ((df['budget'] - stats['mean']['budget']) /  stats['std']['budget'])\n",
    "        # features['popularity'] = ((features.popularity - features.popularity.mean()) /  features.popularity.std())\n",
    "        # features['revenue'] = ((features.revenue - features.revenue.mean()) /  features.revenue.std())\n",
    "        # features.sample(10)\n",
    "    else:\n",
    "        # Используем stats для получения среднего и среднеквадратичного отклонения\n",
    "        pass\n",
    "  \n",
    "\n",
    "    return df, stats\n",
    "\n",
    "\n",
    "train_df, stats = preprocess_df(train_df)\n",
    "(val_df, _), (test_df, _) = preprocess_df(val_df, stats=stats), preprocess_df(test_df, stats=stats)"
   ]
  },
  {
   "cell_type": "code",
   "execution_count": null,
   "id": "090086f0",
   "metadata": {},
   "outputs": [],
   "source": [
    "\n",
    "# MSE loss function\n",
    "def mse_loss(x: np.ndarray, y, np.ndarray):\n",
    "    squared_error = (x - y) ** 2\n",
    "    sum_squared_error = np.sum(squared_error)\n",
    "    loss = sum_squared_error / val_true.size\n",
    "    return loss\n",
    "\n"
   ]
  },
  {
   "cell_type": "code",
   "execution_count": null,
   "id": "fb111d06",
   "metadata": {},
   "outputs": [],
   "source": [
    "train_df = pd.read_csv(TRAIN_CSV_PATH)\n",
    "# train_df['crew'].unique()\n",
    "train_df.columns\n",
    "features = train_df[[\"budget\", \"popularity\", 'revenue']]\n",
    "features.columns\n",
    "features = features[(features[\"budget\"] > 0) & (features[\"popularity\"] > 0)]\n",
    "\n",
    "# features.dropna(subset=[], inplace=True)"
   ]
  },
  {
   "cell_type": "markdown",
   "id": "7cfff31e",
   "metadata": {},
   "source": [
    "# Garbage code"
   ]
  },
  {
   "cell_type": "code",
   "execution_count": null,
   "id": "5f1c1931",
   "metadata": {},
   "outputs": [],
   "source": [
    "def calculate_model_output(w, b, x):\n",
    "    m = x.shape  # the number of training examples\n",
    "    f_wb = np.zeros(m)\n",
    "    for i in range(len(x)):\n",
    "        f_wb[i] = w * x[i] + b\n",
    "    return f_wb\n",
    "\n",
    "\n",
    "def train_one_step(X_train, y_train, w, learning_rate):\n",
    "    f = X_train.dot(w)\n",
    "    err = f - y_train\n",
    "    grad = 2 * X.T.dot(err) / len(X_train)\n",
    "    w -= LR * grad\n",
    "    if i % 10 == 0:\n",
    "        x_plot.append(i)\n",
    "        y_plot.append(err.mean())\n",
    "        return err.mean\n",
    "\n",
    "def val_one_step(X_val, y_val, w):\n",
    "    y_pred = X_val.dot(w)\n",
    "    err = mse_loss(y_pred, y_val)\n",
    "    err\n",
    "\n",
    "\n",
    "loss_val = "
   ]
  },
  {
   "cell_type": "code",
   "execution_count": null,
   "id": "13e8987a",
   "metadata": {},
   "outputs": [],
   "source": []
  },
  {
   "cell_type": "code",
   "execution_count": null,
   "id": "7abab1a7",
   "metadata": {},
   "outputs": [],
   "source": [
    "features.sample(10)\n",
    "# standard scaling\n",
    "features['budget'] = ((features.budget - features.budget.mean()) /  features.budget.std())\n",
    "features['popularity'] = ((features.popularity - features.popularity.mean()) /  features.popularity.std())\n",
    "features['revenue'] = ((features.revenue - features.revenue.mean()) /  features.revenue.std())\n",
    "features.sample(10)"
   ]
  },
  {
   "cell_type": "code",
   "execution_count": null,
   "id": "fed95683",
   "metadata": {},
   "outputs": [],
   "source": []
  },
  {
   "cell_type": "code",
   "execution_count": null,
   "id": "13bbe8e6",
   "metadata": {},
   "outputs": [],
   "source": [
    "features.describe()\n",
    "\n",
    "w1 = 0.00000001\n",
    "w2 = 100\n",
    "w3 = 1\n",
    "# \n",
    "train_x = features.to_numpy()\n",
    " \n",
    "target = train_df[\"revenue\"]\n",
    "target\n",
    "import numpy as np\n",
    "import matplotlib.pyplot as plt\n",
    "\n",
    "# Plotting\n",
    "x_vals = np.arange(-20, 20, 0.01)\n",
    "y_vals = np.square(x_vals)\n",
    "\n",
    "\n"
   ]
  },
  {
   "cell_type": "code",
   "execution_count": null,
   "id": "487324b8",
   "metadata": {},
   "outputs": [],
   "source": [
    "# TODO Do random sampling!\n",
    "\n",
    "import random \n",
    "import numpy as np\n",
    "# Fix random seed!\n",
    "\n",
    "len_train = int(len(features) / 100 * 60)\n",
    "len_val = int(len(features) / 100 * 80)\n",
    "len_test = len(features) - len_train - len_val\n",
    "\n",
    "train_features = train_x[:len1]\n",
    "val_features = train_x[len1:len2]\n",
    "test_features = train_x[len2:]\n",
    "\n",
    "len(features), len(train_features), len(val_features), len(test_features)"
   ]
  },
  {
   "cell_type": "code",
   "execution_count": null,
   "id": "787cba1f",
   "metadata": {},
   "outputs": [],
   "source": [
    "features.budget.hist(bins=20, )\n",
    "features.popularity.hist(bins=20, )\n",
    "features[features.popularity > 50]\n",
    "features.popularity.min(), features.popularity.max()\n",
    "((features.popularity - features.popularity.min()) / (features.popularity.max() - features.popularity.min())).describe()\n",
    "features.popularity.describe()\n",
    "\n"
   ]
  },
  {
   "cell_type": "code",
   "execution_count": null,
   "id": "5781fdc4",
   "metadata": {},
   "outputs": [],
   "source": [
    "# Min / max scaling\n",
    "((features.budget - features.budget.min()) / (features.budget.max() - features.budget.min())).describe()\n",
    "# standard scaling\n",
    "((features.budget - features.budget.mean()) /  features.budget.std()).describe()\n",
    "train_df[train_df.popularity > 60][['original_title', 'popularity']]\n",
    "features"
   ]
  },
  {
   "cell_type": "code",
   "execution_count": null,
   "id": "1544e3d0",
   "metadata": {},
   "outputs": [],
   "source": [
    "w = np.random.randn(3)"
   ]
  },
  {
   "cell_type": "code",
   "execution_count": null,
   "id": "c86d4d83",
   "metadata": {},
   "outputs": [],
   "source": [
    "plt.plot(x_vals, y_vals, \"blue\")\n",
    "plt.plot(x_vals, y_vals, \"blue\")\n",
    "plt.grid(True, which=\"major\")\n",
    "plt.show()\n",
    "x_train = features[['budget', 'popularity']]\n",
    "y_train = features['revenue'].to_numpy()\n",
    "X = np.concatenate([x_train.to_numpy(), np.ones([len(x_train), 1])], axis=1)\n",
    "features.to_numpy().shape, np.ones([len(features), 1]).shape\n",
    "X @ w\n",
    "X, y_train\n"
   ]
  },
  {
   "cell_type": "code",
   "execution_count": null,
   "id": "f443adf7",
   "metadata": {},
   "outputs": [],
   "source": [
    "# TODO Переименовать переменные!"
   ]
  },
  {
   "cell_type": "code",
   "execution_count": null,
   "id": "87b3df72",
   "metadata": {},
   "outputs": [],
   "source": [
    "x_train1 = features[['budget', 'popularity']][:2100]\n",
    "y_train1 = features['revenue'].to_numpy()[:2100]\n",
    "X1 = np.concatenate([x_train1.to_numpy(), np.ones([len(x_train1), 1])], axis=1)\n",
    "# X1 @ w\n",
    "X1, y_train1"
   ]
  },
  {
   "cell_type": "code",
   "execution_count": null,
   "id": "3812117a",
   "metadata": {},
   "outputs": [],
   "source": [
    "x_train2 = features[['budget', 'popularity']][2100:2600]\n",
    "y_train2 = features['revenue'].to_numpy()[2100:2600]\n",
    "X2 = np.concatenate([x_train2.to_numpy(), np.ones([len(x_train2), 1])], axis=1)\n",
    "# X2 @ w\n",
    "# X2, y_train2\n",
    "\n",
    "\n",
    "x_train3 = features[['budget', 'popularity']][2601:]\n",
    "y_train3 = features['revenue'].to_numpy()[2601:]\n",
    "X3 = np.concatenate([x_train3.to_numpy(), np.ones([len(x_train3), 1])], axis=1)\n",
    "# X3 @ w\n",
    "# X3, y_train3\n",
    "\n",
    "\n",
    "# w = random_normal()             # можно пробовать и другие виды инициализации\n",
    "# repeat S times:                 # другой вариант: while abs(err) > tolerance\n",
    "#    f = X.dot(w)                 # посчитать предсказание\n",
    "#    err = f - y                  # посчитать ошибку\n",
    "#    grad = 2 * X.T.dot(err) / N  # посчитать градиент\n",
    "#    w -= alpha * grad            # обновить веса"
   ]
  },
  {
   "cell_type": "code",
   "execution_count": null,
   "id": "96414c76",
   "metadata": {},
   "outputs": [],
   "source": [
    "import func_ds\n",
    "LR = 0.01\n",
    "w = np.random.randn(3)\n",
    "N = len(y_train)\n",
    "\n",
    "func_ds.x_plot = []\n",
    "func_ds.y_plot = []\n",
    "#  traing dataset\n",
    "for i in range(3):\n",
    "    print(w)\n",
    "    func_ds.train_one_step(X1, w, y_train1, N, LR, i)\n",
    "        \n",
    "# print(func_ds.x_plot)\n",
    "# print(func_ds.y_plot)"
   ]
  },
  {
   "cell_type": "code",
   "execution_count": null,
   "id": "5a8f391e",
   "metadata": {},
   "outputs": [],
   "source": [
    "\n",
    "\n",
    "fig, ax = plt.subplots()\n",
    "\n",
    "ax.plot(func_ds.x_plot, func_ds.y_plot)\n",
    "ax.set(title='График ошибки функции на training датасете')\n",
    "plt.xlabel(\"цикл обучения\")\n",
    "plt.grid(True, which=\"major\")\n",
    "plt.ylabel(\"квадрат ошибки\")\n",
    "plt.show()"
   ]
  },
  {
   "cell_type": "code",
   "execution_count": null,
   "id": "6af8a5d3",
   "metadata": {},
   "outputs": [],
   "source": [
    "def change_list(a):\n",
    "    x = a.pop()\n",
    "    print(x)\n",
    "\n",
    "# Side-artefacts \n",
    "A = [1, 2, 3, 4]\n",
    "print(A)\n",
    "change_list(A)\n",
    "print(A)"
   ]
  },
  {
   "cell_type": "code",
   "execution_count": null,
   "id": "2d51c22b",
   "metadata": {},
   "outputs": [],
   "source": []
  },
  {
   "cell_type": "code",
   "execution_count": null,
   "id": "2e72faaa",
   "metadata": {},
   "outputs": [],
   "source": [
    "w = np.random.randn(3)\n",
    "\n",
    "func_ds.x_plot = []\n",
    "func_ds.y_plot = []\n",
    "#  traing dataset\n",
    "for i in range(2):\n",
    "    print(w)\n",
    "    func_ds.train_one_step(X2, w, y_train2, N, LR, i)"
   ]
  },
  {
   "cell_type": "code",
   "execution_count": null,
   "id": "ae6e4f2b",
   "metadata": {},
   "outputs": [],
   "source": [
    "fig, ax = plt.subplots()\n",
    "\n",
    "ax.plot(func_ds.x_plot, func_ds.y_plot, \"red\")\n",
    "ax.set(title='График ошибки функции на value датасете')\n",
    "plt.grid(True, which=\"major\")\n",
    "plt.xlabel(\"цикл обучения\")\n",
    "plt.ylabel(\"квадрат ошибки\")\n",
    "plt.show()"
   ]
  },
  {
   "cell_type": "code",
   "execution_count": null,
   "id": "4004b7ae",
   "metadata": {},
   "outputs": [],
   "source": [
    "func_ds.x_plot = []\n",
    "func_ds.y_plot = []\n",
    "#  traing dataset\n",
    "for i in range(1000):\n",
    "    func_ds.train_one_step(X3, w, y_train3, N, LR, i)"
   ]
  },
  {
   "cell_type": "code",
   "execution_count": null,
   "id": "a30f140f",
   "metadata": {},
   "outputs": [],
   "source": [
    "fig, ax = plt.subplots()\n",
    "\n",
    "print(func_ds.y_plot)\n",
    "\n",
    "ax.plot(func_ds.x_plot, func_ds.y_plot)\n",
    "ax.set(title='График ошибки функции на test датасете')\n",
    "plt.grid(True, which=\"major\")\n",
    "plt.xlabel(\"цикл обучения\")\n",
    "plt.ylabel(\"квадрат ошибки\")\n",
    "plt.show()"
   ]
  },
  {
   "cell_type": "code",
   "execution_count": null,
   "id": "b7d7b357",
   "metadata": {},
   "outputs": [],
   "source": []
  },
  {
   "cell_type": "code",
   "execution_count": null,
   "id": "7a286ff7",
   "metadata": {},
   "outputs": [],
   "source": []
  },
  {
   "cell_type": "code",
   "execution_count": null,
   "id": "d64f3803",
   "metadata": {},
   "outputs": [],
   "source": []
  },
  {
   "cell_type": "code",
   "execution_count": null,
   "id": "7579a3ea",
   "metadata": {},
   "outputs": [],
   "source": []
  }
 ],
 "metadata": {
  "kernelspec": {
   "display_name": "Python 3",
   "language": "python",
   "name": "python3"
  },
  "language_info": {
   "codemirror_mode": {
    "name": "ipython",
    "version": 3
   },
   "file_extension": ".py",
   "mimetype": "text/x-python",
   "name": "python",
   "nbconvert_exporter": "python",
   "pygments_lexer": "ipython3",
   "version": "3.9.4"
  }
 },
 "nbformat": 4,
 "nbformat_minor": 5
}
